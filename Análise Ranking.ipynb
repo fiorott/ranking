{
 "cells": [
  {
   "cell_type": "markdown",
   "metadata": {
    "collapsed": true
   },
   "source": [
    "# Análise Ranking CCONF\n",
    "\n",
    "Neste notebook vamos analisar a aba municípios da planilha que contém os dados sobre a aplicação dos critérios elaborados pela CCONF. Vamos lá!"
   ]
  },
  {
   "cell_type": "markdown",
   "metadata": {},
   "source": [
    "## Prepação: importando os dados da planilha\n",
    "Começamos importando os dados da planilha para dentro de um Data Frame para podermos manipulá-los no python:"
   ]
  },
  {
   "cell_type": "markdown",
   "source": [
    "Vamos criar duas variáveis que guardam as colunas que: \n",
    "a) São relacionadas à capag:\n",
    "b) Não são relacionadas à capag"
   ],
   "metadata": {
    "collapsed": false
   }
  },
  {
   "cell_type": "code",
   "execution_count": 145,
   "outputs": [],
   "source": [
    "col_capag = \"S:W, Y:AA, AL:AN, AS, AU: BA, BD:BF, BM, BO, BQ, BS, BU\"\n",
    "col_nao_capag = \"B:R,X,AB:AK, AO:AR, AT, BB:BC, BG:BL, BN, BP, BR, BT\"\n",
    "col_gerais = \"A,BV, BW,BX,BY,BZ, CA\"\n"
   ],
   "metadata": {
    "collapsed": false,
    "pycharm": {
     "name": "#%%\n",
     "is_executing": false
    }
   }
  },
  {
   "cell_type": "markdown",
   "source": [
    "Criando os Data Frames usando a library pandas"
   ],
   "metadata": {
    "collapsed": false
   }
  },
  {
   "cell_type": "code",
   "execution_count": 146,
   "metadata": {
    "pycharm": {
     "is_executing": false
    }
   },
   "outputs": [
    {
     "name": "stdout",
     "text": [
      "D2_00003    int64\nD2_00004    int64\nD2_00005    int64\nD2_00006    int64\nD2_00007    int64\nD2_00010    int64\nD2_00011    int64\nD2_00012    int64\nD2_00023    int64\nD2_00024    int64\nD2_00028    int64\nD2_00033    int64\nD3_00002    int64\nD3_00003    int64\nD3_00005    int64\nD3_00006    int64\nD3_00007    int64\nD3_00008    int64\nD3_00009    int64\nD3_00012    int64\nD3_00013    int64\nD4_00001    int64\nD4_00008    int64\nD4_00010    int64\nD4_00012    int64\nD4_00014    int64\nD4_00016    int64\ndtype: object\n(5568, 27)\n   D2_00003  D2_00004  D2_00005  D2_00006  D2_00007  D2_00010  D2_00011  \\\n0         1         1         1         1         1         1         1   \n1         1         1         1         1         1         1         1   \n2         1         1         1         1         1         1         1   \n3         1         1         1         1         1         1         1   \n4         1         1         1         1         1         1         1   \n\n   D2_00012  D2_00023  D2_00024  ...  D3_00008  D3_00009  D3_00012  D3_00013  \\\n0         1         1         1  ...         1         1         1         1   \n1         1         1         1  ...         1         1         1         1   \n2         1         1         1  ...         1         1         1         1   \n3         1         1         1  ...         1         1         1         1   \n4         1         1         1  ...         1         1         1         1   \n\n   D4_00001  D4_00008  D4_00010  D4_00012  D4_00014  D4_00016  \n0         1         1         1         1         1         1  \n1         1         1         1         1         1         1  \n2         1         1         1         1         1         1  \n3         1         1         1         1         1         1  \n4         1         1         1         1         1         1  \n\n[5 rows x 27 columns]\n",
      "D1_00001    float64\nD1_00002      int64\nD1_00003    float64\nD1_00004    float64\nD1_00005      int64\nD1_00006    float64\nD1_00007      int64\nD1_00008    float64\nD1_00009    float64\nD1_00010      int64\nD1_00011    float64\nD1_00012    float64\nD1_00013    float64\nD1_00014    float64\nD1_00015      int64\nD2_00001      int64\nD2_00002      int64\nD2_00008      int64\nD2_00013      int64\nD2_00014      int64\nD2_00015      int64\nD2_00016    float64\nD2_00017    float64\nD2_00018    float64\nD2_00019      int64\nD2_00020    float64\nD2_00021    float64\nD2_00022      int64\nD2_00029      int64\nD2_00030      int64\nD2_00031      int64\nD2_00032      int64\nD3_00001      int64\nD3_00010      int64\nD3_00011      int64\nD4_00002      int64\nD4_00003      int64\nD4_00004      int64\nD4_00005      int64\nD4_00006      int64\nD4_00007      int64\nD4_00009    float64\nD4_00011    float64\nD4_00013    float64\nD4_00015    float64\ndtype: object\n(5568, 45)\n   D1_00001  D1_00002  D1_00003  D1_00004  D1_00005  D1_00006  D1_00007  \\\n0       1.0         1       1.0       1.0         0       1.0         1   \n1       1.0         1       1.0       1.0         0       1.0         1   \n2       1.0         1       1.0       1.0         0       1.0         1   \n3       1.0         1       1.0       1.0         0       0.8         1   \n4       1.0         1       1.0       1.0         0       0.5         1   \n\n   D1_00008  D1_00009  D1_00010  ...  D4_00002  D4_00003  D4_00004  D4_00005  \\\n0       1.0       1.0         0  ...         1         1         1         1   \n1       1.0       1.0         0  ...         1         1         1         1   \n2       1.0       1.0         0  ...         1         1         1         1   \n3       1.0       1.0         0  ...         1         1         1         1   \n4       1.0       1.0         0  ...         1         1         1         1   \n\n   D4_00006  D4_00007  D4_00009  D4_00011  D4_00013  D4_00015  \n0         1         1       NaN       NaN       NaN       NaN  \n1         1         1       NaN       NaN       NaN       NaN  \n2         1         1       NaN       NaN       NaN       NaN  \n3         1         1       NaN       NaN       NaN       NaN  \n4         1         1       NaN       NaN       NaN       NaN  \n\n[5 rows x 45 columns]\n",
      "D1_00001    float64\nD1_00002      int64\nD1_00003    float64\nD1_00004    float64\nD1_00005      int64\n             ...   \nD4_00011    float64\nD4_00012      int64\nD4_00013    float64\nD4_00014      int64\nD4_00016      int64\nLength: 66, dtype: object\n(5568, 66)\n   D1_00001  D1_00002  D1_00003  D1_00004  D1_00005  D1_00006  D1_00007  \\\n0       1.0         1       1.0       1.0         0       1.0         1   \n1       1.0         1       1.0       1.0         0       1.0         1   \n2       1.0         1       1.0       1.0         0       1.0         1   \n3       1.0         1       1.0       1.0         0       0.8         1   \n4       1.0         1       1.0       1.0         0       0.5         1   \n\n   D1_00008  D1_00009  D1_00010  ...  D4_00006  D4_00007  D4_00008  D4_00009  \\\n0       1.0       1.0         0  ...         1         1         1       NaN   \n1       1.0       1.0         0  ...         1         1         1       NaN   \n2       1.0       1.0         0  ...         1         1         1       NaN   \n3       1.0       1.0         0  ...         1         1         1       NaN   \n4       1.0       1.0         0  ...         1         1         1       NaN   \n\n   D4_00010  D4_00011  D4_00012  D4_00013  D4_00014  D4_00016  \n0         1       NaN         1       NaN         1         1  \n1         1       NaN         1       NaN         1         1  \n2         1       NaN         1       NaN         1         1  \n3         1       NaN         1       NaN         1         1  \n4         1       NaN         1       NaN         1         1  \n\n[5 rows x 66 columns]\n"
     ],
     "output_type": "stream"
    }
   ],
   "source": [
    "import pandas as pd\n",
    "import numpy as np\n",
    "\n",
    "data_capag = pd.read_excel(r'./assets/Testes_Ranking_CCONF_2020-CAPAG.xlsx', 'Municípios', usecols = col_capag, skipfooter = 1, dtype = {\"Capital?\":bool},true_values = [\"Sim\"],false_values = [\"Não\"] )\n",
    "#print(data_capag.dtypes)\n",
    "#print(data_capag.shape)\n",
    "#print(data_capag.head(5))\n",
    "\n",
    "data_nao_capag = pd.read_excel(r'./assets/Testes_Ranking_CCONF_2020-CAPAG.xlsx', 'Municípios', usecols = col_nao_capag, skipfooter = 1, dtype = {\"Capital?\":bool},true_values = [\"Sim\"],false_values = [\"Não\"])\n",
    "#print(data_nao_capag.dtypes)\n",
    "#print(data_nao_capag.shape)\n",
    "#print(data_nao_capag.head(5))\n",
    "\n",
    "data_total = pd.read_excel(r'./assets/Testes_Ranking_CCONF_2020-CAPAG.xlsx', 'Municípios', usecols = col_nao_capag + col_capag, skipfooter = 1, dtype = {\"Capital?\":bool},true_values = [\"Sim\"],false_values = [\"Não\"])\n",
    "#print(data_total.dtypes)\n",
    "#print(data_total.shape)\n",
    "#print(data_total.head(5))"
   ]
  },
  {
   "cell_type": "markdown",
   "metadata": {
    "pycharm": {
     "name": "#%% md\n"
    }
   },
   "source": [
    "## Análise Exploratória\n",
    "\n",
    "Antes de tudo, vamos criar uma função para calcular a função de distribuição acumulada, ela será útil para entendermos a dinâmica de como os entes passam ou não em cada grupo de testes"
   ]
  },
  {
   "cell_type": "code",
   "execution_count": 147,
   "outputs": [],
   "source": [
    "def ecdf(data):\n",
    "    \"\"\"Compute ECDF for a one-dimensional array of measurements.\"\"\"\n",
    "    # Number of data points: n\n",
    "    n = len(data)\n",
    "\n",
    "    # x-data for the ECDF: x\n",
    "    x = np.sort(data)\n",
    "\n",
    "    # y-data for the ECDF: y\n",
    "    y = np.arange(1, n+1) / n\n",
    "\n",
    "    return x, y\n"
   ],
   "metadata": {
    "collapsed": false,
    "pycharm": {
     "name": "#%%\n",
     "is_executing": false
    }
   }
  },
  {
   "cell_type": "markdown",
   "source": [
    "a.\tQual a média/proporção de cada um dos testes?"
   ],
   "metadata": {
    "collapsed": false
   }
  },
  {
   "cell_type": "code",
   "execution_count": 148,
   "outputs": [
    {
     "name": "stdout",
     "text": [
      "D1_00001    0.974282\nD1_00002    0.848420\nD1_00003    0.967187\nD1_00004    0.954921\nD1_00005    0.000000\n              ...   \nD4_00011         NaN\nD4_00012    0.531070\nD4_00013         NaN\nD4_00014    0.612069\nD4_00016    0.530891\nLength: 66, dtype: float64\n"
     ],
     "output_type": "stream"
    }
   ],
   "source": [
    "medias_total = data_total.mean(axis=0)\n",
    "print(medias_total)"
   ],
   "metadata": {
    "collapsed": false,
    "pycharm": {
     "name": "#%%\n",
     "is_executing": false
    }
   }
  },
  {
   "cell_type": "markdown",
   "source": [
    "a.1\tQual a média/proporção de cada um dos testes não capag?"
   ],
   "metadata": {
    "collapsed": false
   }
  },
  {
   "cell_type": "code",
   "execution_count": 149,
   "outputs": [
    {
     "name": "stdout",
     "text": [
      "D1_00001    0.974282\nD1_00002    0.848420\nD1_00003    0.967187\nD1_00004    0.954921\nD1_00005    0.000000\nD1_00006    0.461512\nD1_00007    0.573994\nD1_00008    0.437518\nD1_00009    0.463578\nD1_00010    0.000000\nD1_00011    0.910973\nD1_00012    0.843858\nD1_00013    0.872953\nD1_00014    0.952191\nD1_00015    0.000000\nD2_00001    0.580280\nD2_00002    0.303161\nD2_00008    0.834231\nD2_00013    0.791487\nD2_00014    0.816451\nD2_00015    0.823815\nD2_00016         NaN\nD2_00017         NaN\nD2_00018         NaN\nD2_00019    0.818068\nD2_00020         NaN\nD2_00021         NaN\nD2_00022    0.778915\nD2_00029    0.728448\nD2_00030    0.749102\nD2_00031    0.746588\nD2_00032    0.222881\nD3_00001    0.560165\nD3_00010    0.564296\nD3_00011    0.807471\nD4_00002    0.502874\nD4_00003    0.498204\nD4_00004    0.732938\nD4_00005    0.410560\nD4_00006    0.456178\nD4_00007    0.478807\nD4_00009         NaN\nD4_00011         NaN\nD4_00013         NaN\nD4_00015         NaN\ndtype: float64\n"
     ],
     "output_type": "stream"
    }
   ],
   "source": [
    "medias_ncapag = data_nao_capag.mean(axis=0)\n",
    "print(medias_ncapag)"
   ],
   "metadata": {
    "collapsed": false,
    "pycharm": {
     "name": "#%%\n",
     "is_executing": false
    }
   }
  },
  {
   "cell_type": "markdown",
   "source": [
    "a.1\tQual a média/proporção de cada um dos testes  capag?"
   ],
   "metadata": {
    "collapsed": false
   }
  },
  {
   "cell_type": "code",
   "execution_count": 150,
   "outputs": [
    {
     "name": "stdout",
     "text": [
      "D2_00003    0.750000\nD2_00004    0.800647\nD2_00005    0.826868\nD2_00006    0.834231\nD2_00007    0.833693\nD2_00010    0.830819\nD2_00011    0.829741\nD2_00012    0.739224\nD2_00023    0.827945\nD2_00024    0.828305\nD2_00028    0.728269\nD2_00033    0.736710\nD3_00002    0.796516\nD3_00003    0.751616\nD3_00005    0.772270\nD3_00006    0.400682\nD3_00007    0.732759\nD3_00008    0.543103\nD3_00009    0.510955\nD3_00012    0.910560\nD3_00013    0.836207\nD4_00001    0.549389\nD4_00008    0.686422\nD4_00010    0.558728\nD4_00012    0.531070\nD4_00014    0.612069\nD4_00016    0.530891\ndtype: float64\n"
     ],
     "output_type": "stream"
    }
   ],
   "source": [
    "medias_capag = data_capag.mean(axis=0)\n",
    "print(medias_capag)"
   ],
   "metadata": {
    "collapsed": false,
    "pycharm": {
     "name": "#%%\n",
     "is_executing": false
    }
   }
  },
  {
   "cell_type": "markdown",
   "source": [
    "b.\tQual a distribuição das notas (somatório de todas as colunas)?\n",
    "i.\tLevando em consideração apenas os testes da CAPAG (colunas em amarelo)"
   ],
   "metadata": {
    "collapsed": false
   }
  },
  {
   "cell_type": "code",
   "execution_count": 151,
   "outputs": [
    {
     "name": "stdout",
     "text": [
      "0       27\n1       27\n2       27\n3       27\n4       27\n        ..\n5563     0\n5564     0\n5565     0\n5566     0\n5567     0\nName: sum, Length: 5568, dtype: int64\n"
     ],
     "output_type": "stream"
    },
    {
     "data": {
      "text/plain": "<Figure size 432x288 with 1 Axes>",
      "image/png": "[encoded data removed]"
     },
     "metadata": {
      "needs_background": "light"
     },
     "output_type": "display_data"
    },
    {
     "data": {
      "text/plain": "<Figure size 432x288 with 1 Axes>",
      "image/png": "[encoded data removed]"
     },
     "metadata": {
      "needs_background": "light"
     },
     "output_type": "display_data"
    }
   ],
   "source": [
    "data_capag[\"sum\"] = data_capag.sum(axis=1)\n",
    "print(data_capag[\"sum\"])\n",
    "\n",
    "#Plotando o ECDF: vamos gerar as variáveus  x_dist, y_dist. A primeira, terá \n",
    "#todas as notas acumuladas, da menor até a maior. \n",
    "\n",
    "import matplotlib.pyplot as plt\n",
    "\n",
    "x_dist, y_dist = ecdf(data_capag['sum'])\n",
    "\n",
    "# Generate plot\n",
    "_= plt.plot(x_dist, y_dist, marker = \".\", linestyle = 'none')\n",
    "\n",
    "# Label the axes\n",
    "_= plt.xlabel('Soma de Todas as Notas - Critérios Capag')\n",
    "_= plt.ylabel('ECDF')\n",
    "\n",
    "\n",
    "# Display the plot\n",
    "plt.show()\n",
    "\n",
    "#plotando o histograma da coluna das notas\n",
    "_=plt.hist(data_capag['sum'])\n",
    "_=plt.xlabel('Nota Obtida - Critérios Capag')\n",
    "_=plt.ylabel('Número de entes')\n",
    "plt.show()"
   ],
   "metadata": {
    "collapsed": false,
    "pycharm": {
     "name": "#%%\n",
     "is_executing": false
    }
   }
  },
  {
   "cell_type": "markdown",
   "source": [
    "b.\tQual a distribuição das notas (somatório de todas as colunas)?\n",
    "ii.\tLevando em consideração apenas os testes que não são da CAPAG (colunas não pintadas)"
   ],
   "metadata": {
    "collapsed": false
   }
  },
  {
   "cell_type": "code",
   "execution_count": 152,
   "outputs": [
    {
     "name": "stdout",
     "text": [
      "0       33.0\n1       32.8\n2       32.6\n3       32.6\n4       32.5\n        ... \n5563     1.0\n5564     1.0\n5565     1.0\n5566     0.8\n5567     0.8\nName: sum, Length: 5568, dtype: float64\n"
     ],
     "output_type": "stream"
    },
    {
     "data": {
      "text/plain": "<Figure size 432x288 with 1 Axes>",
      "image/png": "[encoded data removed]"
     },
     "metadata": {
      "needs_background": "light"
     },
     "output_type": "display_data"
    },
    {
     "data": {
      "text/plain": "<Figure size 432x288 with 1 Axes>",
      "image/png": "[encoded data removed]"
     },
     "metadata": {
      "needs_background": "light"
     },
     "output_type": "display_data"
    }
   ],
   "source": [
    "data_nao_capag[\"sum\"] = data_nao_capag.sum(axis=1)\n",
    "print(data_nao_capag[\"sum\"])\n",
    "\n",
    "#Plotando o ECDF: vamos gerar as variáveus  x_dist, y_dist. A primeira, terá \n",
    "#todas as notas acumuladas, da menor até a maior. \n",
    "\n",
    "import matplotlib.pyplot as plt\n",
    "\n",
    "x_dist_nc, y_dist_nc = ecdf(data_nao_capag['sum'])\n",
    "\n",
    "# Generate plot\n",
    "_= plt.plot(x_dist_nc, y_dist_nc, marker = \".\", linestyle = 'none')\n",
    "\n",
    "# Label the axes\n",
    "_= plt.xlabel('Soma de Todas as Notas - Critérios Não Capag')\n",
    "_= plt.ylabel('ECDF')\n",
    "\n",
    "\n",
    "# Display the plot\n",
    "plt.show()\n",
    "\n",
    "#plotando o histograma da coluna das notas\n",
    "_=plt.hist(data_nao_capag['sum'])\n",
    "_=plt.xlabel('Nota Obtida - Critérios Não Capag')\n",
    "_=plt.ylabel('Número de entes')\n",
    "plt.show()"
   ],
   "metadata": {
    "collapsed": false,
    "pycharm": {
     "name": "#%%\n",
     "is_executing": false
    }
   }
  },
  {
   "cell_type": "markdown",
   "source": [
    "b.\tQual a distribuição das notas (somatório de todas as colunas)?\n",
    "iii.\tLevando em consideração todos os testes"
   ],
   "metadata": {
    "collapsed": false
   }
  },
  {
   "cell_type": "code",
   "execution_count": 153,
   "outputs": [
    {
     "name": "stdout",
     "text": [
      "0       55.0\n1       54.8\n2       54.6\n3       54.6\n4       54.5\n        ... \n5563     1.0\n5564     1.0\n5565     1.0\n5566     0.8\n5567     0.8\nName: sum, Length: 5568, dtype: float64\n"
     ],
     "output_type": "stream"
    },
    {
     "data": {
      "text/plain": "<Figure size 432x288 with 1 Axes>",
      "image/png": "[encoded data removed]"
     },
     "metadata": {
      "needs_background": "light"
     },
     "output_type": "display_data"
    },
    {
     "data": {
      "text/plain": "<Figure size 432x288 with 1 Axes>",
      "image/png": "[encoded data removed]"
     },
     "metadata": {
      "needs_background": "light"
     },
     "output_type": "display_data"
    }
   ],
   "source": [
    "data_total[\"sum\"] = data_total.sum(axis=1)\n",
    "print(data_total[\"sum\"])\n",
    "\n",
    "#Plotando o ECDF: vamos gerar as variáveus  x_dist, y_dist. A primeira, terá \n",
    "#todas as notas acumuladas, da menor até a maior. \n",
    "\n",
    "import matplotlib.pyplot as plt\n",
    "\n",
    "x_dist_total, y_dist_total = ecdf(data_total['sum'])\n",
    "\n",
    "# Generate plot\n",
    "_= plt.plot(x_dist_total, y_dist_total, marker = \".\", linestyle = 'none')\n",
    "\n",
    "# Label the axes\n",
    "_= plt.xlabel('Soma de Todas as Notas - Todos Critérios')\n",
    "_= plt.ylabel('ECDF')\n",
    "\n",
    "\n",
    "# Display the plot\n",
    "plt.show()\n",
    "\n",
    "#plotando o histograma da coluna das notas\n",
    "_=plt.hist(data_total['sum'])\n",
    "_=plt.xlabel('Nota Obtida - Todos os Critérios')\n",
    "_=plt.ylabel('Número de entes')\n",
    "plt.show()"
   ],
   "metadata": {
    "collapsed": false,
    "pycharm": {
     "name": "#%%\n",
     "is_executing": false
    }
   }
  }
 ],
 "metadata": {
  "kernelspec": {
   "display_name": "Python 3",
   "language": "python",
   "name": "python3"
  },
  "language_info": {
   "codemirror_mode": {
    "name": "ipython",
    "version": 3
   },
   "file_extension": ".py",
   "mimetype": "text/x-python",
   "name": "python",
   "nbconvert_exporter": "python",
   "pygments_lexer": "ipython3",
   "version": "3.7.9"
  },
  "pycharm": {
   "stem_cell": {
    "cell_type": "raw",
    "source": [],
    "metadata": {
     "collapsed": false
    }
   }
  }
 },
 "nbformat": 4,
 "nbformat_minor": 1
}