{
 "cells": [
  {
   "cell_type": "markdown",
   "metadata": {
    "collapsed": true
   },
   "source": [
    "# Análise Ranking CCONF\n",
    "\n",
    "Neste notebook vamos analisar a aba municípios da planilha que contém os dados sobre a aplicação dos critérios \n",
    "elaborados pela CCONF. Previamente, juntamos a lista de municípios que tiveram CAPAG analisada e \n",
    "concluída pela GERAP/CORFI/COREM em 2020 (coluna \"capag_analis\"= True) a estes dados,  bem como a lista de municípios que tiveram \n",
    "operação de crédito aprovada em 2020 (coluna \"oper_aprov\" = True), de forma que a análise poderá ser feita na lista completa\n",
    "de municípios da CCONF ou em um destes dois subgrupos. \n",
    "\n",
    "Vamos lá!"
   ]
  },
  {
   "cell_type": "markdown",
   "metadata": {},
   "source": [
    "## Preparação: importando os dados da planilha\n",
    "Começamos importando os dados da planilha para dentro de um Data Frame para podermos manipulá-los no python:"
   ]
  },
  {
   "cell_type": "markdown",
   "source": [
    "Vamos criar duas variáveis que guardam as colunas que: \n",
    "a) São relacionadas à capag:\n",
    "b) Não são relacionadas à capag"
   ],
   "metadata": {
    "collapsed": false
   }
  },
  {
   "cell_type": "code",
   "execution_count": 392,
   "outputs": [],
   "source": [
    "col_capag = \"BV, BZ,S:W, Y:AA, AL:AN, AS, AU: BA, BD:BF, BM, BO, BQ, BS, BU, BX, CB:CG\"\n",
    "col_nao_capag = \"BV, BZ, B:R,X,AB:AK, AO:AR, AT, BB:BC, BG:BL, BN, BP, BR, BT, BX, CB:CG\"\n",
    "col_gerais = \"A,BV, BW,BX,BY,BZ, CA, CB, CC\"\n",
    "col_id = \"A\""
   ],
   "metadata": {
    "collapsed": false,
    "pycharm": {
     "name": "#%%\n",
     "is_executing": false
    }
   }
  },
  {
   "cell_type": "markdown",
   "source": [
    "Criando os Data Frames usando a library pandas"
   ],
   "metadata": {
    "collapsed": false
   }
  },
  {
   "cell_type": "code",
   "execution_count": 393,
   "metadata": {
    "pycharm": {
     "is_executing": false
    }
   },
   "outputs": [
    {
     "name": "stdout",
     "text": [
      "D2_00003                                               int64\nD2_00004                                               int64\nD2_00005                                               int64\nD2_00006                                               int64\nD2_00007                                               int64\nD2_00010                                               int64\nD2_00011                                               int64\nD2_00012                                               int64\nD2_00023                                               int64\nD2_00024                                               int64\nD2_00028                                               int64\nD2_00033                                               int64\nD3_00002                                               int64\nD3_00003                                               int64\nD3_00005                                               int64\nD3_00006                                               int64\nD3_00007                                               int64\nD3_00008                                               int64\nD3_00009                                               int64\nD3_00012                                               int64\nD3_00013                                               int64\nD4_00001                                               int64\nD4_00008                                               int64\nD4_00010                                               int64\nD4_00012                                               int64\nD4_00014                                               int64\nD4_00016                                               int64\nEnte                                                  object\nCapital?                                              object\nUF                                                    object\noper_aprov                                            object\ncapag_analis                                          object\nPopulação                                             object\nReceita Corrente Líquida (2019)                       object\nPIB per capita 2017 - a preços correntes (R$ 1,00)    object\ngrupo pib per capita 2017                             object\ndtype: object\n"
     ],
     "output_type": "stream"
    }
   ],
   "source": [
    "import pandas as pd\n",
    "import numpy as np\n",
    "\n",
    "path = r'./assets/Testes_Ranking_CCONF_2020-CAPAG.xlsx'\n",
    "\n",
    "dtype_cols = {\"capag_analis\":object,\"oper_aprov\":object, \"População\": object, \"Receita Corrente Líquida (2019)\": object, \"PIB per capita 2017 - a preços correntes (R$ 1,00)\": object, \"grupo pib per capita 2017\": object }\n",
    "\n",
    "data_capag = pd.read_excel(path, 'Municípios', usecols =  col_capag , skipfooter = 1, dtype = dtype_cols )\n",
    "print(data_capag.dtypes)\n",
    "#print(data_capag.shape)\n",
    "#print(data_capag.head(5))\n",
    "\n",
    "data_nao_capag = pd.read_excel(path, 'Municípios', usecols =  col_nao_capag , skipfooter = 1, dtype =dtype_cols)\n",
    "#print(data_nao_capag.dtypes)\n",
    "#print(data_nao_capag.shape)\n",
    "#print(data_nao_capag.head(5))\n",
    "\n",
    "data_total = pd.read_excel(path, 'Municípios', usecols = col_nao_capag + col_capag, skipfooter = 1, dtype = dtype_cols)\n",
    "#print(data_total.dtypes)\n",
    "#print(data_total.shape)\n",
    "#print(data_total.head(5))"
   ]
  },
  {
   "cell_type": "markdown",
   "source": [
    "## Escolha o conjunto de dados que quer usar na variável abaixo:\n",
    "\n",
    "#### 0 = Lista completa com 5568 municípios\n",
    "#### 1 = Lista de 45 municípios que tiveram CAPAG analisada e concluída pela GERAP/CORFI em 2020 (coluna \"capag_analis\"= True)\n",
    "#### 2 - Lista de 102 municípios que tiveram  operação de crédito aprovada em 2020 (coluna \"oper_aprov\" = True)"
   ],
   "metadata": {
    "collapsed": false,
    "pycharm": {
     "name": "#%% md\n"
    }
   }
  },
  {
   "cell_type": "code",
   "execution_count": 394,
   "outputs": [
    {
     "name": "stdout",
     "text": [
      "Você escolheu trabalhar com a lista completa\n"
     ],
     "output_type": "stream"
    }
   ],
   "source": [
    "#>>>>> ALTERE A VARIÁVEL ABAIXO e pressione \"CTRL + ENTER\" para simular com outro conjunto de dados. \n",
    "conjunto_dados = 0\n",
    "\n",
    "if conjunto_dados == 1:\n",
    "        data_capag_analis= data_capag[data_capag['capag_analis']== True]\n",
    "        data_nao_capag_analis = data_nao_capag[data_nao_capag['capag_analis']== True]\n",
    "        data_total_analis= data_total[data_total['capag_analis']== True]\n",
    "        data_capag = data_capag_analis\n",
    "        data_nao_capag = data_nao_capag_analis\n",
    "        data_total = data_total_analis\n",
    "        print('Você escolheu trabalhar com a lista de 45 municípios que tiveram CAPAG analisada e concluída')\n",
    "elif conjunto_dados == 2:\n",
    "        data_capag_aprov = data_capag[data_capag['oper_aprov']== True]\n",
    "        data_nao_capag_aprov = data_nao_capag[data_nao_capag['oper_aprov']== True]\n",
    "        data_total_aprov= data_total[data_total['oper_aprov']== True]\n",
    "        data_capag = data_capag_aprov\n",
    "        data_nao_capag = data_nao_capag_aprov\n",
    "        data_total = data_total_aprov\n",
    "       \n",
    "        print('Você escolheu trabalhar com a lista de 102 municípios que tiveram  operação de crédito aprovada')\n",
    "else:\n",
    "        print('Você escolheu trabalhar com a lista completa')"
   ],
   "metadata": {
    "collapsed": false,
    "pycharm": {
     "name": "#%%\n",
     "is_executing": false
    }
   }
  },
  {
   "cell_type": "markdown",
   "metadata": {
    "pycharm": {
     "name": "#%% md\n"
    }
   },
   "source": [
    "## Análise Exploratória\n",
    "Antes de tudo, vamos criar uma função para calcular a função de distribuição acumulada, ela será útil para entendermos a dinâmica de como os entes passam ou não em cada grupo de testes"
   ]
  },
  {
   "cell_type": "code",
   "execution_count": 395,
   "outputs": [],
   "source": [
    "def ecdf(data):\n",
    "    \"\"\"Calcular a função de distribuição cumulativa (FDC) for a one-dimensional array of measurements.\"\"\"\n",
    "    # Número de pontos de dados: n\n",
    "    n = len(data)\n",
    "    # dados do eixo X para o FDC : x\n",
    "    x = np.sort(data)\n",
    "    # dados do eixo y para o FDC: y\n",
    "    y = np.arange(1, n+1) / n\n",
    "    return x, y"
   ],
   "metadata": {
    "collapsed": false,
    "pycharm": {
     "name": "#%%\n",
     "is_executing": false
    }
   }
  },
  {
   "cell_type": "markdown",
   "source": [
    "a.\tQual a média/proporção de cada um dos testes?"
   ],
   "metadata": {
    "collapsed": false
   }
  },
  {
   "cell_type": "code",
   "execution_count": 396,
   "outputs": [
    {
     "name": "stdout",
     "text": [
      "D1_00001                                                  0.974282\nD1_00002                                                  0.848420\nD1_00003                                                  0.967187\nD1_00004                                                  0.954921\nD1_00005                                                  0.000000\n                                                          ...     \nD4_00015                                                       NaN\nD4_00016                                                  0.530891\noper_aprov                                                0.905352\ncapag_analis                                              0.008082\nPIB per capita 2017 - a preços correntes (R$ 1,00)    21975.060902\nLength: 75, dtype: float64\n"
     ],
     "output_type": "stream"
    }
   ],
   "source": [
    "medias_total = data_total.mean(axis=0)\n",
    "print(medias_total)"
   ],
   "metadata": {
    "collapsed": false,
    "pycharm": {
     "name": "#%%\n",
     "is_executing": false
    }
   }
  },
  {
   "cell_type": "markdown",
   "source": [
    "a.1\tQual a média/proporção de cada um dos testes não capag?"
   ],
   "metadata": {
    "collapsed": false
   }
  },
  {
   "cell_type": "code",
   "execution_count": 397,
   "outputs": [
    {
     "name": "stdout",
     "text": [
      "D1_00001                                                  0.974282\nD1_00002                                                  0.848420\nD1_00003                                                  0.967187\nD1_00004                                                  0.954921\nD1_00005                                                  0.000000\nD1_00006                                                  0.461512\nD1_00007                                                  0.573994\nD1_00008                                                  0.437518\nD1_00009                                                  0.463578\nD1_00010                                                  0.000000\nD1_00011                                                  0.910973\nD1_00012                                                  0.843858\nD1_00013                                                  0.872953\nD1_00014                                                  0.952191\nD1_00015                                                  0.000000\nD2_00001                                                  0.580280\nD2_00002                                                  0.303161\nD2_00008                                                  0.834231\nD2_00013                                                  0.791487\nD2_00014                                                  0.816451\nD2_00015                                                  0.823815\nD2_00016                                                       NaN\nD2_00017                                                       NaN\nD2_00018                                                       NaN\nD2_00019                                                  0.818068\nD2_00020                                                       NaN\nD2_00021                                                       NaN\nD2_00022                                                  0.778915\nD2_00029                                                  0.728448\nD2_00030                                                  0.749102\nD2_00031                                                  0.746588\nD2_00032                                                  0.222881\nD3_00001                                                  0.560165\nD3_00010                                                  0.564296\nD3_00011                                                  0.807471\nD4_00002                                                  0.502874\nD4_00003                                                  0.498204\nD4_00004                                                  0.732938\nD4_00005                                                  0.410560\nD4_00006                                                  0.456178\nD4_00007                                                  0.478807\nD4_00009                                                       NaN\nD4_00011                                                       NaN\nD4_00013                                                       NaN\nD4_00015                                                       NaN\noper_aprov                                                0.905352\ncapag_analis                                              0.008082\nPIB per capita 2017 - a preços correntes (R$ 1,00)    21975.060902\ndtype: float64\n"
     ],
     "output_type": "stream"
    }
   ],
   "source": [
    "medias_ncapag = data_nao_capag.mean(axis=0)\n",
    "print(medias_ncapag)"
   ],
   "metadata": {
    "collapsed": false,
    "pycharm": {
     "name": "#%%\n",
     "is_executing": false
    }
   }
  },
  {
   "cell_type": "markdown",
   "source": [
    "a.1\tQual a média/proporção de cada um dos testes  capag?"
   ],
   "metadata": {
    "collapsed": false
   }
  },
  {
   "cell_type": "code",
   "execution_count": 398,
   "outputs": [
    {
     "name": "stdout",
     "text": [
      "D2_00003                                                  0.750000\nD2_00004                                                  0.800647\nD2_00005                                                  0.826868\nD2_00006                                                  0.834231\nD2_00007                                                  0.833693\nD2_00010                                                  0.830819\nD2_00011                                                  0.829741\nD2_00012                                                  0.739224\nD2_00023                                                  0.827945\nD2_00024                                                  0.828305\nD2_00028                                                  0.728269\nD2_00033                                                  0.736710\nD3_00002                                                  0.796516\nD3_00003                                                  0.751616\nD3_00005                                                  0.772270\nD3_00006                                                  0.400682\nD3_00007                                                  0.732759\nD3_00008                                                  0.543103\nD3_00009                                                  0.510955\nD3_00012                                                  0.910560\nD3_00013                                                  0.836207\nD4_00001                                                  0.549389\nD4_00008                                                  0.686422\nD4_00010                                                  0.558728\nD4_00012                                                  0.531070\nD4_00014                                                  0.612069\nD4_00016                                                  0.530891\noper_aprov                                                0.905352\ncapag_analis                                              0.008082\nPIB per capita 2017 - a preços correntes (R$ 1,00)    21975.060902\ndtype: float64\n"
     ],
     "output_type": "stream"
    }
   ],
   "source": [
    "medias_capag = data_capag.mean(axis=0)\n",
    "print(medias_capag)"
   ],
   "metadata": {
    "collapsed": false,
    "pycharm": {
     "name": "#%%\n",
     "is_executing": false
    }
   }
  },
  {
   "cell_type": "markdown",
   "source": [
    "b.\tQual a distribuição das notas (somatório de todas as colunas)?\n",
    "i.\tLevando em consideração apenas os testes da CAPAG (colunas em amarelo)"
   ],
   "metadata": {
    "collapsed": false
   }
  },
  {
   "cell_type": "code",
   "execution_count": 399,
   "outputs": [
    {
     "name": "stdout",
     "text": [
      "O maior valor para a soma é : 27\nO menor valor para a soma é : 0\n"
     ],
     "output_type": "stream"
    },
    {
     "data": {
      "text/plain": "<Figure size 432x288 with 1 Axes>",
      "image/png": "[encoded data removed]"
     },
     "metadata": {
      "needs_background": "light"
     },
     "output_type": "display_data"
    },
    {
     "data": {
      "text/plain": "<Figure size 432x288 with 1 Axes>",
      "image/png": "[encoded data removed]"
     },
     "metadata": {
      "needs_background": "light"
     },
     "output_type": "display_data"
    }
   ],
   "source": [
    "if \"sum\" in data_capag:\n",
    "     data_capag[\"sum\"].values[:] = 0\n",
    "data_capag[\"sum\"] = data_capag.sum(axis=1)\n",
    "#print(data_capag[\"sum\"])\n",
    "print('O maior valor para a soma é : ' + str(data_capag[\"sum\"].max()))\n",
    "print('O menor valor para a soma é : ' + str(data_capag[\"sum\"].min()))\n",
    "\n",
    "#Plotando a  função de distribuição cumulativa (FDC): vamos gerar as variáveis  x_dist, y_dist. A primeira terá \n",
    "#todas as notas acumuladas, da menor até a maior. \n",
    "import matplotlib.pyplot as plt\n",
    "x_dist, y_dist = ecdf(data_capag['sum'])\n",
    "# Greando o plot\n",
    "_= plt.plot(x_dist, y_dist, marker = \".\", linestyle = 'none')\n",
    "# Rotulando os eixos\n",
    "_= plt.xlabel('Soma de Todas as Notas - Critérios Capag')\n",
    "_= plt.ylabel('FDC')\n",
    "# Mostrando o plot\n",
    "plt.show()\n",
    "#plotando o histograma da coluna das notas\n",
    "_=plt.hist(data_capag['sum'])\n",
    "_=plt.xlabel('Nota Obtida - Critérios Capag')\n",
    "_=plt.ylabel('Número de entes')\n",
    "plt.show()"
   ],
   "metadata": {
    "collapsed": false,
    "pycharm": {
     "name": "#%%\n",
     "is_executing": false
    }
   }
  },
  {
   "cell_type": "markdown",
   "source": [
    "b.\tQual a distribuição das notas (somatório de todas as colunas)?\n",
    "ii.\tLevando em consideração apenas os testes que não são da CAPAG (colunas não pintadas)"
   ],
   "metadata": {
    "collapsed": false
   }
  },
  {
   "cell_type": "code",
   "execution_count": 400,
   "outputs": [
    {
     "name": "stdout",
     "text": [
      "O maior valor para a soma é : 33.0\nO menor valor para a soma é : 0.8\n"
     ],
     "output_type": "stream"
    },
    {
     "data": {
      "text/plain": "<Figure size 432x288 with 1 Axes>",
      "image/png": "[encoded data removed]"
     },
     "metadata": {
      "needs_background": "light"
     },
     "output_type": "display_data"
    },
    {
     "data": {
      "text/plain": "<Figure size 432x288 with 1 Axes>",
      "image/png": "[encoded data removed]"
     },
     "metadata": {
      "needs_background": "light"
     },
     "output_type": "display_data"
    }
   ],
   "source": [
    "if \"sum\" in data_nao_capag:\n",
    "     data_nao_capag[\"sum\"].values[:] = 0\n",
    "data_nao_capag[\"sum\"] = data_nao_capag.sum(axis=1)\n",
    "#print(data_nao_capag[\"sum\"])\n",
    "print('O maior valor para a soma é : ' + str(data_nao_capag[\"sum\"].max()))\n",
    "print('O menor valor para a soma é : ' + str(data_nao_capag[\"sum\"].min()))\n",
    "\n",
    "#Plotando a  função de distribuição cumulativa (FDC): vamos gerar as variáveus  x_dist, y_dist. A primeira, terá \n",
    "#todas as notas acumuladas, da menor até a maior. \n",
    "\n",
    "import matplotlib.pyplot as plt\n",
    "x_dist_nc, y_dist_nc = ecdf(data_nao_capag['sum'])\n",
    "_= plt.plot(x_dist_nc, y_dist_nc, marker = \".\", linestyle = 'none')\n",
    "_= plt.xlabel('Soma de Todas as Notas - Critérios Não Capag')\n",
    "_= plt.ylabel('FDC')\n",
    "plt.show()\n",
    "\n",
    "#plotando o histograma da coluna das notas\n",
    "_=plt.hist(data_nao_capag['sum'])\n",
    "_=plt.xlabel('Nota Obtida - Critérios Não Capag')\n",
    "_=plt.ylabel('Número de entes')\n",
    "plt.show()"
   ],
   "metadata": {
    "collapsed": false,
    "pycharm": {
     "name": "#%%\n",
     "is_executing": false
    }
   }
  },
  {
   "cell_type": "markdown",
   "source": [
    "b.\tQual a distribuição das notas (somatório de todas as colunas)?\n",
    "iii.\tLevando em consideração todos os testes"
   ],
   "metadata": {
    "collapsed": false
   }
  },
  {
   "cell_type": "code",
   "execution_count": 401,
   "outputs": [
    {
     "name": "stdout",
     "text": [
      "O maior valor para a soma é : 60.0\nO menor valor para a soma é : 0.8\n"
     ],
     "output_type": "stream"
    },
    {
     "data": {
      "text/plain": "<Figure size 432x288 with 1 Axes>",
      "image/png": "[encoded data removed]"
     },
     "metadata": {
      "needs_background": "light"
     },
     "output_type": "display_data"
    },
    {
     "data": {
      "text/plain": "<Figure size 432x288 with 1 Axes>",
      "image/png": "[encoded data removed]"
     },
     "metadata": {
      "needs_background": "light"
     },
     "output_type": "display_data"
    }
   ],
   "source": [
    "if \"sum\" in data_total:\n",
    "     data_total[\"sum\"].values[:] = 0\n",
    "data_total[\"sum\"] = data_total.sum(axis=1)\n",
    "#print(data_total[\"sum\"])\n",
    "print('O maior valor para a soma é : ' + str(data_total[\"sum\"].max()))\n",
    "print('O menor valor para a soma é : ' + str(data_total[\"sum\"].min()))\n",
    "\n",
    "#Plotando a função de distribuição cumulativa (FDC): vamos gerar as variáveis  x_dist, y_dist. A primeira, terá \n",
    "#todas as notas acumuladas, da menor até a maior. \n",
    "import matplotlib.pyplot as plt\n",
    "x_dist_total, y_dist_total = ecdf(data_total['sum'])\n",
    "_= plt.plot(x_dist_total, y_dist_total, marker = \".\", linestyle = 'none')\n",
    "_= plt.xlabel('Soma de Todas as Notas - Todos Critérios')\n",
    "_= plt.ylabel('FDC')\n",
    "plt.show()\n",
    "#plotando o histograma da coluna das notas\n",
    "_=plt.hist(data_total['sum'])\n",
    "_=plt.xlabel('Nota Obtida - Todos os Critérios')\n",
    "_=plt.ylabel('Número de entes')\n",
    "plt.show()"
   ],
   "metadata": {
    "collapsed": false,
    "pycharm": {
     "name": "#%%\n",
     "is_executing": false
    }
   }
  },
  {
   "cell_type": "markdown",
   "source": [
    "## Simulações de classificação \n",
    "Vamos agora realizar 3 tipos de simulações. "
   ],
   "metadata": {
    "collapsed": false
   }
  },
  {
   "cell_type": "markdown",
   "source": [
    "### a.\tAlternativa I: classificação conjunta em duas etapas"
   ],
   "metadata": {
    "collapsed": false
   }
  },
  {
   "cell_type": "markdown",
   "source": [
    "#### i.\tPrimeiro,  somando todos os testes relacionados à CAPAG"
   ],
   "metadata": {
    "collapsed": false,
    "pycharm": {
     "name": "#%% md\n"
    }
   }
  },
  {
   "cell_type": "markdown",
   "source": [
    "##### i.\t1.\tCaso o município tenha resultado maior ou igual a x, classifique-o na zona 1"
   ],
   "metadata": {
    "collapsed": false
   }
  },
  {
   "cell_type": "code",
   "execution_count": 402,
   "outputs": [
    {
     "name": "stdout",
     "text": [
      "Total de Entes :5568\nO número de entes de aprovados na zona 1 com nota de corte de 25 seria de: 1444\nO percentual de aprovados na zona 1 seria de : 25.93%\n"
     ],
     "output_type": "stream"
    }
   ],
   "source": [
    "#>>>>> ALTERE A VARIÁVEL ABAIXO e pressione \"CTRL + ENTER\" para simular com outra nota de corte.\n",
    "nota_corte_capag = 25\n",
    "\n",
    "if 'Aprovado' in data_capag:\n",
    "     data_capag['Aprovado'].values[:] = 0\n",
    "\n",
    "#Gerando a coluna com os aprovados \n",
    "\n",
    "data_capag['Aprovado'] = np.where(data_capag[\"sum\"]>= nota_corte_capag, True, False)\n",
    "#print(data_capag['Aprovado'].head(200))\n",
    "\n",
    "# Calculando o percentual de aprovados \n",
    "n_entes = data_capag.shape[0]\n",
    "print('Total de Entes :' + str(n_entes))\n",
    "num_aprovados = sum(data_capag['Aprovado'])\n",
    "print('O número de entes de aprovados na zona 1 com nota de corte de ' + str(nota_corte_capag) + ' seria de: ' + str(num_aprovados))\n",
    "print('O percentual de aprovados na zona 1 seria de : ' + \"{:.2%}\".format(num_aprovados/n_entes))"
   ],
   "metadata": {
    "collapsed": false,
    "pycharm": {
     "name": "#%%\n",
     "is_executing": false
    }
   }
  },
  {
   "cell_type": "markdown",
   "source": [
    "#### ii.\tSomando os testes não relacionados à CAPAG\n",
    "##### 1.\tSe o ente estiver na zona 1\n",
    "    a.\tCaso o ente tenha resultado maior ou igual a y1, classifique-o com nota final A\n",
    "    b.\tCaso o ente tenha resultado maior ou igual a y2 e menor que y1, classifique-o com nota final B\n",
    "    c.\tCaso o ente tenha resultado menor que y3, classifique-o com nota final C (erro: tenha resultado menor do que y2)\n",
    "##### 2.\tSe o ente estiver na zona 2\n",
    "    a.\tCaso o ente tenha resultado maior ou igual a y3, classifique-o com nota final D\n",
    "    b.\tCaso o ente tenha resultado menor que y3, classifique-o com nota final E"
   ],
   "metadata": {
    "collapsed": false
   }
  },
  {
   "cell_type": "code",
   "execution_count": 403,
   "outputs": [
    {
     "name": "stdout",
     "text": [
      "   D1_00001  D1_00002  D1_00003  D1_00004  D1_00005  D1_00006  D1_00007  \\\n0       1.0         1       1.0       1.0         0       1.0         1   \n1       1.0         1       1.0       1.0         0       1.0         1   \n\n   D1_00008  D1_00009  D1_00010  ...  Capital?  UF  oper_aprov  capag_analis  \\\n0       1.0       1.0         0  ...       Não  SC       False         False   \n1       1.0       1.0         0  ...       Não  RS       False         False   \n\n   População  Receita Corrente Líquida (2019)  \\\n0       2378                      1.65479e+07   \n1       8130                      2.67582e+07   \n\n   PIB per capita 2017 - a preços correntes (R$ 1,00)  \\\n0                                            39069.5    \n1                                            20850.5    \n\n   grupo pib per capita 2017   sum  Aprovado  \n0           4 - Acima de 26k  33.0      True  \n1         3 - Entre 16 e 26K  32.8      True  \n\n[2 rows x 56 columns]\n"
     ],
     "output_type": "stream"
    }
   ],
   "source": [
    "# Selecionando a coluna dos aprovados/reprovados na zona 1\n",
    "df_aprovados = data_capag.Aprovado\n",
    "# Trazendo a coluna dos aprovados nos critérios de Capag (zona 1) para o Data Frame que contém os critérios não relacionados à Capag \n",
    "data_nao_capag_c_a = pd.concat([data_nao_capag, df_aprovados], axis=1)\n",
    "#verificando a concatenação\n",
    "data_nao_capag_c_a.columns\n",
    "print(data_nao_capag_c_a.head(2))\n",
    "# calculando a nota dos critérios não capag\n",
    "#>>>> ALETERE OS VALORES ABAIXO para simular com outras notas de CORTE\n",
    "nota_corte_y1 = 30\n",
    "nota_corte_y2 = 25\n",
    "nota_corte_y3 = 20\n",
    "\n",
    "# criando a lista das 5 condições\n",
    "conditions = [\n",
    "    (data_nao_capag_c_a['Aprovado'] ) & (data_nao_capag_c_a['sum'] >= nota_corte_y1),\n",
    "    (data_nao_capag_c_a['Aprovado'] ) & ((data_nao_capag_c_a['sum'] < nota_corte_y1) & (data_nao_capag_c_a['sum'] >= nota_corte_y2)),\n",
    "    (data_nao_capag_c_a['Aprovado'] ) & (data_nao_capag_c_a['sum'] <  nota_corte_y2),        \n",
    "    (~ data_nao_capag_c_a['Aprovado'] ) & (data_nao_capag_c_a['sum'] >= nota_corte_y3),\n",
    "    (~ data_nao_capag_c_a['Aprovado'] ) & (data_nao_capag_c_a['sum'] < nota_corte_y3)\n",
    "    ]\n",
    "# criando a lista de valores que queremos associar a cada condição\n",
    "values = ['A', 'B', 'C', 'D', 'E']\n",
    "\n",
    "if 'capag' in data_nao_capag_c_a:\n",
    "     data_nao_capag_c_a['capag'].values[:] = 0\n",
    "\n",
    "# criando uma nova coluna e usando o np.select para associar os valores usando nossa lista como argumento\n",
    "data_nao_capag_c_a['capag'] = np.select(conditions, values)\n"
   ],
   "metadata": {
    "collapsed": false,
    "pycharm": {
     "name": "#%%\n",
     "is_executing": false
    }
   }
  },
  {
   "cell_type": "code",
   "execution_count": 404,
   "outputs": [
    {
     "name": "stdout",
     "text": [
      "Tabela de Resultados da Simulação da Alternativa 1 - contagem de notas : \n  capag  size\n0     A   275\n1     B   947\n2     C   222\n3     D  2944\n4     E  1180\nTabela de Resultados da Simulação da Alternativa 1 - Percentuais Gerais : \n           size\ncapag          \nA      0.049389\nB      0.170079\nC      0.039871\nD      0.528736\nE      0.211925\nTabela de Resultados da Simulação da Alternativa 1 - contagem de notas por Estado : \n     UF capag  size\n0    AC     B     3\n1    AC     D    11\n2    AC     E     8\n3    AL     B     2\n4    AL     D    18\n..   ..   ...   ...\n109  SP     C    87\n110  SP     D   318\n111  SP     E    51\n112  TO     D    79\n113  TO     E    60\n\n[114 rows x 3 columns]\nTabela de Resultados da Simulação da Alternativa 1 - Percentuais por Estado : \n              size\nUF capag          \nAC B      0.136364\n   D      0.500000\n   E      0.363636\nAL B      0.019608\n   D      0.176471\n...            ...\nSP C      0.134884\n   D      0.493023\n   E      0.079070\nTO D      0.568345\n   E      0.431655\n\n[114 rows x 1 columns]\nTabela de Resultados da Simulação da Alternativa 1 - contagem de notas por grupo de pib per capita : ",
      "\n   grupo pib per capita 2017 capag  size\n0           1 - Abaixo de 9k     A    40\n1           1 - Abaixo de 9k     B   190\n2           1 - Abaixo de 9k     C    21\n3           1 - Abaixo de 9k     D   647\n4           1 - Abaixo de 9k     E   350\n5          2 - Entre 9 e 16k     A    45\n6          2 - Entre 9 e 16k     B   239\n7          2 - Entre 9 e 16k     C    54\n8          2 - Entre 9 e 16k     D   741\n9          2 - Entre 9 e 16k     E   363\n10        3 - Entre 16 e 26K     A    75\n11        3 - Entre 16 e 26K     B   235\n12        3 - Entre 16 e 26K     C    73\n13        3 - Entre 16 e 26K     D   731\n14        3 - Entre 16 e 26K     E   260\n15          4 - Acima de 26k     A   115\n16          4 - Acima de 26k     B   283\n17          4 - Acima de 26k     C    74\n18          4 - Acima de 26k     D   825\n19          4 - Acima de 26k     E   207\nTabela de Resultados da Simulação da Alternativa 1 - Percentuais por grupo de pib per capita : \n                                     size\ngrupo pib per capita 2017 capag          \n1 - Abaixo de 9k          A      0.032051\n                          B      0.152244\n                          C      0.016827\n                          D      0.518429\n                          E      0.280449\n2 - Entre 9 e 16k         A      0.031207\n                          B      0.165742\n                          C      0.037448\n                          D      0.513870\n                          E      0.251734\n3 - Entre 16 e 26K        A      0.054585\n                          B      0.171033\n                          C      0.053130\n                          D      0.532023\n                          E      0.189229\n4 - Acima de 26k          A      0.076463\n                          B      0.188165\n                          C      0.049202\n                          D      0.548537\n                          E      0.137633\n"
     ],
     "output_type": "stream"
    }
   ],
   "source": [
    "# Mostrando a Tabela final com a classificação\n",
    "#data_nao_capag_c_a.head(10)\n",
    "\n",
    "# Mostrando a quantidade de entes em cada classe de nota - geral\n",
    "class_alt1_g = data_nao_capag_c_a.groupby(['capag']).size().to_frame('size').reset_index().sort_values([ 'capag'], ascending=[True])\n",
    "print('Tabela de Resultados da Simulação da Alternativa 1 - contagem de notas : ')\n",
    "print(class_alt1_g)\n",
    "# Obtendo o tamanho geral do número de entes do data frame\n",
    "todos = data_nao_capag_c_a.shape[0]\n",
    "#print (uf)\n",
    "# Fazendo a divisão final para mostrar as notas em termos percentuais. \n",
    "c_g = data_nao_capag_c_a.groupby(['capag']).size().to_frame('size')\n",
    "\n",
    "class_alt1_final_g = c_g / todos\n",
    "\n",
    "###### Tabela de Classificação Final - Alternativa 1 - Percentuais Gerais\n",
    "\n",
    "print('Tabela de Resultados da Simulação da Alternativa 1 - Percentuais Gerais : ')\n",
    "print(class_alt1_final_g)\n",
    "\n",
    "#Mostrando a quantidade de entes em cada classe de nota por estado\n",
    "class_alt1 = data_nao_capag_c_a.groupby(['UF', 'capag']).size().to_frame('size').reset_index().sort_values(['UF', 'capag'], ascending=[True, True])\n",
    "print('Tabela de Resultados da Simulação da Alternativa 1 - contagem de notas por Estado : ')\n",
    "print(class_alt1)\n",
    "# Mostrando a quantidade de entes por UF\n",
    "#uf = data_nao_capag_c_a.groupby(['UF']).size().to_frame('size')\n",
    "#print (uf)\n",
    "# Fazendo a divisão final para mostrar as notas por UF em termos percentuais. \n",
    "c = data_nao_capag_c_a.groupby(['UF', 'capag']).size().to_frame('size')\n",
    "class_alt1_final = c / c.groupby(level=0).sum()\n",
    "\n",
    "###### Tabela de Classificação Final - Alternativa 1 - Percentuais por Estado\n",
    "\n",
    "print('Tabela de Resultados da Simulação da Alternativa 1 - Percentuais por Estado : ')\n",
    "print (class_alt1_final)\n",
    "\n",
    "\n",
    "# Mostrando a quantidade de entes em cada classe de nota por grupo de pib per capita\n",
    "class_alt1_pib = data_nao_capag_c_a.groupby(['grupo pib per capita 2017', 'capag']).size().to_frame('size').reset_index().sort_values(['grupo pib per capita 2017', 'capag'], ascending=[True, True])\n",
    "print('Tabela de Resultados da Simulação da Alternativa 1 - contagem de notas por grupo de pib per capita : ')\n",
    "print(class_alt1_pib)\n",
    "# Mostrando a quantidade de entes por UF\n",
    "#uf_2 = data_total_c_a.groupby(['UF']).size().to_frame('size')\n",
    "#print (uf_2)\n",
    "# Fazendo a divisão final para mostrar as notas por grupo de pib per capita em termos percentuais. \n",
    "c_1_pib = data_nao_capag_c_a.groupby(['grupo pib per capita 2017', 'capag']).size().to_frame('size')\n",
    "class_alt1_final_pib = c_1_pib / c_1_pib.groupby(level=0).sum()\n",
    "\n",
    "###### Tabela de Classificação Final - Alternativa 1 - Percentuais por grupo de pib per capita \n",
    "\n",
    "print('Tabela de Resultados da Simulação da Alternativa 1 - Percentuais por grupo de pib per capita : ')\n",
    "print (class_alt1_final_pib)"
   ],
   "metadata": {
    "collapsed": false,
    "pycharm": {
     "name": "#%%\n",
     "is_executing": false
    }
   }
  },
  {
   "cell_type": "markdown",
   "source": [
    "###### Exportando a simulação da alternativa 1 para o Excel"
   ],
   "metadata": {
    "collapsed": false
   }
  },
  {
   "cell_type": "code",
   "execution_count": 405,
   "outputs": [],
   "source": [
    "with pd.ExcelWriter('sim_alt1_c_dados.xlsx') as writer:  \n",
    "    class_alt1.to_excel(writer, sheet_name='Res_Simul_1')\n",
    "    class_alt1_final_g.to_excel(writer, sheet_name='Res_F_Simul_1_Ger')\n",
    "    class_alt1_final_pib.to_excel(writer, sheet_name='Res_F_Simul_1_pib')\n",
    "    class_alt1_final.to_excel(writer, sheet_name='Res_F_Simul_1')\n",
    "    data_nao_capag_c_a.to_excel(writer, sheet_name='Dados_Simul_1')\n"
   ],
   "metadata": {
    "collapsed": false,
    "pycharm": {
     "name": "#%%\n",
     "is_executing": false
    }
   }
  },
  {
   "cell_type": "markdown",
   "source": [
    "### b.\tAlternativa II: classificação dupla (AA, AB etc)"
   ],
   "metadata": {
    "collapsed": false,
    "pycharm": {
     "name": "#%% md\n"
    }
   }
  },
  {
   "cell_type": "markdown",
   "source": [
    "#### i.\t Primeiro, somando todos os testes relacionados à CAPAG\n",
    "    1.\tCaso o município tenha resultado maior ou igual a z, classifique-o com a primeira entrada “A”\n",
    "    2.\tCaso contrário, primeira entrada “B”"
   ],
   "metadata": {
    "collapsed": false
   }
  },
  {
   "cell_type": "code",
   "execution_count": 406,
   "outputs": [
    {
     "name": "stdout",
     "text": [
      "1444\nTotal de Entes :5568\nO número de entes de aprovados - classificação A - com nota de corte de 25 seria de: 1444\nO percentual de aprovados com classificação A seria de : 25.93%\n      D2_00003  D2_00004  D2_00005  D2_00006  D2_00007  D2_00010  D2_00011  \\\n0            1         1         1         1         1         1         1   \n1            1         1         1         1         1         1         1   \n2            1         1         1         1         1         1         1   \n3            1         1         1         1         1         1         1   \n4            1         1         1         1         1         1         1   \n...        ...       ...       ...       ...       ...       ...       ...   \n5563         0         0         0         0         0         0         0   \n5564         0         0         0         0         0         0         0   \n5565         0         0         0         0         0         0         0   \n5566         0         0         0         0         0         0         0   \n5567         0         0         0         0         0         0         0   \n\n      D2_00012  D2_00023  D2_00024  ...  oper_aprov  capag_analis  População  \\\n0            1         1         1  ...       False         False       2378   \n1            1         1         1  ...       False         False       8130   \n2            1         1         1  ...       False         False       5352   \n3            1         1         1  ...       False         False       2788   \n4            1         1         1  ...       False         False      16072   \n...        ...       ...       ...  ...         ...           ...        ...   \n5563         0         0         0  ...       False         False      Falso   \n5564         0         0         0  ...       False         False      Falso   \n5565         0         0         0  ...       False         False      Falso   \n5566         0         0         0  ...       False         False      Falso   \n5567         0         0         0  ...       False         False      Falso   \n\n      Receita Corrente Líquida (2019)  \\\n0                         1.65479e+07   \n1                         2.67582e+07   \n2                         1.78613e+07   \n3                         1.53358e+07   \n4                         4.22858e+07   \n...                               ...   \n5563                            Falso   \n5564                            Falso   \n5565                            Falso   \n5566                            Falso   \n5567                            Falso   \n\n      PIB per capita 2017 - a preços correntes (R$ 1,00)  \\\n0                                               39069.5    \n1                                               20850.5    \n2                                               10289.8    \n3                                               28028.1    \n4                                               6269.52    \n...                                                 ...    \n5563                                            26243.5    \n5564                                            24405.3    \n5565                                            12838.8    \n5566                                            6590.56    \n5567                                            10500.9    \n\n      grupo pib per capita 2017  sum  Aprovado  Aprovado_II_A  \\\n0              4 - Acima de 26k   27      True           True   \n1            3 - Entre 16 e 26K   27      True           True   \n2             2 - Entre 9 e 16k   27      True           True   \n3              4 - Acima de 26k   27      True           True   \n4              1 - Abaixo de 9k   27      True           True   \n...                         ...  ...       ...            ...   \n5563           4 - Acima de 26k    0     False          False   \n5564         3 - Entre 16 e 26K    0     False          False   \n5565          2 - Entre 9 e 16k    0     False          False   \n5566           1 - Abaixo de 9k    0     False          False   \n5567          2 - Entre 9 e 16k    0     False          False   \n\n      Aprovado_II_A_class  \n0                       A  \n1                       A  \n2                       A  \n3                       A  \n4                       A  \n...                   ...  \n5563                    B  \n5564                    B  \n5565                    B  \n5566                    B  \n5567                    B  \n\n[5568 rows x 40 columns]\n"
     ],
     "output_type": "stream"
    }
   ],
   "source": [
    "#>>>>> ALTERE A VARIÁVEL ABAIXO e pressione \"CTRL + ENTER\" para simular com outra nota de corte.\n",
    "nota_corte_capag_z = 25\n",
    "\n",
    "if 'Aprovado_II_A' in data_capag:\n",
    "     data_capag['Aprovado_II_A'].values[:] = 0\n",
    "\n",
    "#Gerando a coluna com os aprovados \n",
    "data_capag['Aprovado_II_A'] = np.where(data_capag[\"sum\"]>= nota_corte_capag_z, True, False)\n",
    "#print(data_capag['Aprovado'].head(200))\n",
    "\n",
    "# criando a lista das 2 condições\n",
    "conditions = [\n",
    "    (data_capag['Aprovado_II_A'] ),\n",
    "    (~ data_capag['Aprovado_II_A'] )            \n",
    "    ]\n",
    "\n",
    "\n",
    "# criando a lista de valores que queremos associar a cada condição\n",
    "values = ['A', 'B']\n",
    "\n",
    "# criando uma nova coluna e usando o np.select para associar os valores usando nossa lista como argumento\n",
    "data_capag['Aprovado_II_A_class'] = np.select(conditions, values)\n",
    "\n",
    "print (data_capag[data_capag.Aprovado_II_A_class == 'A'].shape[0])\n",
    "\n",
    "#print(len(data_capag[data_capag['Aprovado_II_A_class'] == 'A']))\n",
    "\n",
    "# Calculando o percentual de aprovados \n",
    "n_entes_II = data_capag.shape[0]\n",
    "print('Total de Entes :' + str(n_entes))\n",
    "num_aprovados_II = len(data_capag[data_capag['Aprovado_II_A_class'] == 'A'])\n",
    "print('O número de entes de aprovados - classificação A - com nota de corte de ' + str(nota_corte_capag_z) + ' seria de: ' + str(num_aprovados_II))\n",
    "print('O percentual de aprovados com classificação A seria de : ' + \"{:.2%}\".format(num_aprovados_II/n_entes_II))\n",
    "\n",
    "print (data_capag)"
   ],
   "metadata": {
    "collapsed": false,
    "pycharm": {
     "name": "#%%\n",
     "is_executing": false
    }
   }
  },
  {
   "cell_type": "markdown",
   "source": [
    "#### ii. Depois, somando todos os testes (inclusive os da CAPAG)\n",
    "    1.\tCaso o ente tenha nota maior ou igual a k1, classifique-o com a segunda entrada “A”\n",
    "    2.\tCaso o ente tenha nota menor que k1, mas maior ou igual a k2, classifique-o com a segunda entrada “B”\n",
    "    3.\tCaso o ente tenha nota menor que k2, classifique-o com a segunda entrada “C”\n",
    "#### iii. Depois, combinando a primeira entrada com a segunda. Registre o resultado\n"
   ],
   "metadata": {
    "collapsed": false
   }
  },
  {
   "cell_type": "code",
   "execution_count": 407,
   "outputs": [
    {
     "name": "stdout",
     "text": [
      "   D1_00001  D1_00002  D1_00003  D1_00004  D1_00005  D1_00006  D1_00007  \\\n0       1.0         1       1.0       1.0         0       1.0         1   \n1       1.0         1       1.0       1.0         0       1.0         1   \n\n   D1_00008  D1_00009  D1_00010  ...  Capital?  UF  oper_aprov  capag_analis  \\\n0       1.0       1.0         0  ...       Não  SC       False         False   \n1       1.0       1.0         0  ...       Não  RS       False         False   \n\n   População  Receita Corrente Líquida (2019)  \\\n0       2378                      1.65479e+07   \n1       8130                      2.67582e+07   \n\n   PIB per capita 2017 - a preços correntes (R$ 1,00)  \\\n0                                            39069.5    \n1                                            20850.5    \n\n   grupo pib per capita 2017   sum  Aprovado_II_A  \n0           4 - Acima de 26k  60.0           True  \n1         3 - Entre 16 e 26K  59.8           True  \n\n[2 rows x 83 columns]\nTabela de Resultados da Simulação da Alternativa 2 - contagem de notas : \n  capag_II  size\n0       AA   449\n1       AB   991\n2       AC     4\n3       BA    27\n4       BB  1759\n5       BC  2338\nTabela de Resultados da Simulação da Alternativa 2 - Percentuais Gerais : \n              size\ncapag_II          \nAA        0.080639\nAB        0.177981\nAC        0.000718\nBA        0.004849\nBB        0.315912\nBC        0.419899\nTabela de Resultados da Simulação da Alternativa 2 - contagem de notas por Estado : \n     UF capag_II  size\n0    AC       AA     1\n1    AC       AB     2\n2    AC       BB     8\n3    AC       BC    11\n4    AL       AB     2\n..   ..      ...   ...\n105  SP       AC     1\n106  SP       BB   219\n107  SP       BC   150\n108  TO       BB     9\n109  TO       BC   130\n\n[110 rows x 3 columns]",
      "\nTabela de Resultados da Simulação da Alternativa 2 - Percentuais por Estado : \n                 size\nUF capag_II          \nAC AA        0.045455\n   AB        0.090909\n   BB        0.363636\n   BC        0.500000\nAL AB        0.019608\n...               ...\nSP AC        0.001550\n   BB        0.339535\n   BC        0.232558\nTO BB        0.064748\n   BC        0.935252\n\n[110 rows x 1 columns]\nTabela de Resultados da Simulação da Alternativa 2 - contagem de notas por grupo de pib per capita : \n   grupo pib per capita 2017 capag_II  size\n0           1 - Abaixo de 9k       AA    73\n1           1 - Abaixo de 9k       AB   178\n2           1 - Abaixo de 9k       BA     5\n3           1 - Abaixo de 9k       BB   388\n4           1 - Abaixo de 9k       BC   604\n5          2 - Entre 9 e 16k       AA    87\n6          2 - Entre 9 e 16k       AB   250\n7          2 - Entre 9 e 16k       AC     1\n8          2 - Entre 9 e 16k       BA     5\n9          2 - Entre 9 e 16k       BB   417\n10         2 - Entre 9 e 16k       BC   682\n11        3 - Entre 16 e 26K       AA   124\n12        3 - Entre 16 e 26K       AB   257\n13        3 - Entre 16 e 26K       AC     2\n14        3 - Entre 16 e 26K       BA     7\n15        3 - Entre 16 e 26K       BB   428\n16        3 - Entre 16 e 26K       BC   556\n17          4 - Acima de 26k       AA   165\n18          4 - Acima de 26k       AB   306\n19          4 - Acima de 26k       AC     1\n20          4 - Acima de 26k       BA    10\n21          4 - Acima de 26k       BB   526\n22          4 - Acima de 26k       BC   496\nTabela de Resultados da Simulação da Alternativa 2 - Percentuais por grupo de pib per capita : \n                                        size\ngrupo pib per capita 2017 capag_II          \n1 - Abaixo de 9k          AA        0.058494\n                          AB        0.142628\n                          BA        0.004006\n                          BB        0.310897\n                          BC        0.483974\n2 - Entre 9 e 16k         AA        0.060333\n                          AB        0.173370\n                          AC        0.000693\n                          BA        0.003467\n                          BB        0.289182\n                          BC        0.472954\n3 - Entre 16 e 26K        AA        0.090247\n                          AB        0.187045\n                          AC        0.001456\n                          BA        0.005095\n                          BB        0.311499\n                          BC        0.404658\n4 - Acima de 26k          AA        0.109707\n                          AB        0.203457\n                          AC        0.000665\n                          BA        0.006649\n                          BB        0.349734\n                          BC        0.329787\n"
     ],
     "output_type": "stream"
    }
   ],
   "source": [
    "# Selecionando a coluna dos aprovados - classificação A\n",
    "df_aprovados_total = data_capag.Aprovado_II_A\n",
    "# Trazendo a coluna dos aprovados no critério classificação A para o Data Frame que contém os todos os critérios da CCONF (Capag e Não Capag)\n",
    "data_total_c_a = pd.concat([data_total, df_aprovados_total], axis=1)\n",
    "#verificando a concatenação\n",
    "data_total_c_a.columns\n",
    "print(data_total_c_a.head(2))\n",
    "# calculando a nota com todos os critérios\n",
    "#>>>> ALETERE OS VALORES ABAIXO para simular com outras notas de CORTE\n",
    "nota_corte_k1 = 55\n",
    "nota_corte_k2 = 45\n",
    "\n",
    "# criando a lista das 5 condições\n",
    "conditions = [\n",
    "    (data_total_c_a['Aprovado_II_A'] ) & (data_total_c_a['sum'] >= nota_corte_k1),\n",
    "    (data_total_c_a['Aprovado_II_A'] ) & (data_total_c_a['sum'] <  nota_corte_k2), \n",
    "    (data_total_c_a['Aprovado_II_A'] ) & ((data_total_c_a['sum'] < nota_corte_k1) & (data_total_c_a['sum'] >= nota_corte_k2)),          \n",
    "    (~ data_total_c_a['Aprovado_II_A'] ) & (data_total_c_a['sum'] >= nota_corte_k1),\n",
    "    (~ data_total_c_a['Aprovado_II_A'] ) & ((data_total_c_a['sum'] < nota_corte_k1) & (data_total_c_a['sum'] >= nota_corte_k2)),\n",
    "    (~ data_total_c_a['Aprovado_II_A'] ) & (data_total_c_a['sum'] <  nota_corte_k2)           \n",
    "    ]\n",
    "# criando a lista de valores que queremos associar a cada condição\n",
    "values = ['AA', 'AC','AB', 'BA', 'BB', 'BC']\n",
    "\n",
    "# criando uma nova coluna e usando o np.select para associar os valores usando nossa lista como argumento\n",
    "data_total_c_a['capag_II'] = np.select(conditions, values)\n",
    "\n",
    "# Mostrando a Tabela final com a classificação\n",
    "#data_total_c_a.head(10)\n",
    "\n",
    "# Mostrando a quantidade de entes em cada classe de nota - geral\n",
    "class_alt2_g = data_total_c_a.groupby(['capag_II']).size().to_frame('size').reset_index().sort_values([ 'capag_II'], ascending=[True])\n",
    "print('Tabela de Resultados da Simulação da Alternativa 2 - contagem de notas : ')\n",
    "print(class_alt2_g)\n",
    "# Obtendo o tamanho geral do número de entes do data frame\n",
    "todos_2 = data_total_c_a.shape[0]\n",
    "#print (uf)\n",
    "# Fazendo a divisão final para mostrar as notas em termos percentuais. \n",
    "c_g = data_total_c_a.groupby(['capag_II']).size().to_frame('size')\n",
    "class_alt2_final_g = c_g / todos_2\n",
    "\n",
    "###### Tabela de Classificação Final - Alternativa 2 - Percentuais Gerais\n",
    "\n",
    "print('Tabela de Resultados da Simulação da Alternativa 2 - Percentuais Gerais : ')\n",
    "print(class_alt2_final_g)\n",
    "\n",
    "\n",
    "# Mostrando a quantidade de entes em cada classe de nota por estado\n",
    "class_alt2 = data_total_c_a.groupby(['UF', 'capag_II']).size().to_frame('size').reset_index().sort_values(['UF', 'capag_II'], ascending=[True, True])\n",
    "print('Tabela de Resultados da Simulação da Alternativa 2 - contagem de notas por Estado : ')\n",
    "print(class_alt2)\n",
    "# Mostrando a quantidade de entes por UF\n",
    "#uf_2 = data_total_c_a.groupby(['UF']).size().to_frame('size')\n",
    "#print (uf_2)\n",
    "# Fazendo a divisão final para mostrar as notas por UF em termos percentuais. \n",
    "c_2 = data_total_c_a.groupby(['UF', 'capag_II']).size().to_frame('size')\n",
    "class_alt2_final = c_2 / c_2.groupby(level=0).sum()\n",
    "\n",
    "###### Tabela de Classificação Final - Alternativa 2 - Percentuais por Estado\n",
    "\n",
    "print('Tabela de Resultados da Simulação da Alternativa 2 - Percentuais por Estado : ')\n",
    "print (class_alt2_final)\n",
    "\n",
    "\n",
    "# Mostrando a quantidade de entes em cada classe de nota por grupo de pib per capita\n",
    "class_alt2_pib = data_total_c_a.groupby(['grupo pib per capita 2017', 'capag_II']).size().to_frame('size').reset_index().sort_values(['grupo pib per capita 2017', 'capag_II'], ascending=[True, True])\n",
    "print('Tabela de Resultados da Simulação da Alternativa 2 - contagem de notas por grupo de pib per capita : ')\n",
    "print(class_alt2_pib)\n",
    "# Mostrando a quantidade de entes por UF\n",
    "#uf_2 = data_total_c_a.groupby(['UF']).size().to_frame('size')\n",
    "#print (uf_2)\n",
    "# Fazendo a divisão final para mostrar as notas por grupo de pib per capita em termos percentuais. \n",
    "c_2_pib = data_total_c_a.groupby(['grupo pib per capita 2017', 'capag_II']).size().to_frame('size')\n",
    "class_alt2_final_pib = c_2_pib / c_2_pib.groupby(level=0).sum()\n",
    "\n",
    "###### Tabela de Classificação Final - Alternativa 2 - Percentuais por grupo de pib per capita \n",
    "\n",
    "print('Tabela de Resultados da Simulação da Alternativa 2 - Percentuais por grupo de pib per capita : ')\n",
    "print (class_alt2_final_pib)"
   ],
   "metadata": {
    "collapsed": false,
    "pycharm": {
     "name": "#%%\n",
     "is_executing": false
    }
   }
  },
  {
   "cell_type": "markdown",
   "source": [
    "###### Exportando a simulação da alternativa 2 para o Excel"
   ],
   "metadata": {
    "collapsed": false
   }
  },
  {
   "cell_type": "code",
   "execution_count": 408,
   "outputs": [],
   "source": [
    "with pd.ExcelWriter('sim_alt2_c_dados.xlsx') as writer:  \n",
    "    class_alt2.to_excel(writer, sheet_name='Res_Simul_2')\n",
    "    class_alt2_final_g.to_excel(writer, sheet_name='Res_F_Simul_2_Ger')\n",
    "    class_alt2_final_pib.to_excel(writer, sheet_name='Res_F_Simul_2_pib')\n",
    "    class_alt2_final.to_excel(writer, sheet_name='Res_F_Simul_2')\n",
    "    data_total_c_a.to_excel(writer, sheet_name='Dados_Simul_2')\n"
   ],
   "metadata": {
    "collapsed": false,
    "pycharm": {
     "name": "#%%\n",
     "is_executing": false
    }
   }
  }
 ],
 "metadata": {
  "kernelspec": {
   "display_name": "Python 3",
   "language": "python",
   "name": "python3"
  },
  "language_info": {
   "codemirror_mode": {
    "name": "ipython",
    "version": 3
   },
   "file_extension": ".py",
   "mimetype": "text/x-python",
   "name": "python",
   "nbconvert_exporter": "python",
   "pygments_lexer": "ipython3",
   "version": "3.7.9"
  },
  "pycharm": {
   "stem_cell": {
    "cell_type": "raw",
    "source": [],
    "metadata": {
     "collapsed": false
    }
   }
  }
 },
 "nbformat": 4,
 "nbformat_minor": 1
}