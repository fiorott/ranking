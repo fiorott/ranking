{
 "cells": [
  {
   "cell_type": "markdown",
   "source": [
    "# Análise Ranking CCONF\n",
    "\n",
    "Neste notebook vamos analisar a aba municípios da planilha que contém os dados sobre a aplicação dos critérios \n",
    "elaborados pela CCONF. Previamente, juntamos a lista de municípios que tiveram CAPAG analisada e \n",
    "concluída pela GERAP/CORFI/COREM em 2020 (coluna \"capag_analis\"= True) a estes dados,  bem como a lista de municípios que tiveram \n",
    "operação de crédito aprovada em 2020 (coluna \"oper_aprov\" = True), de forma que a análise poderá ser feita na lista completa\n",
    "de municípios da CCONF ou em um destes dois subgrupos. \n",
    "\n",
    "Vamos lá!"
   ],
   "metadata": {
    "collapsed": false
   }
  },
  {
   "cell_type": "markdown",
   "source": [
    "## Preparação: importando os dados da planilha\n",
    "Começamos importando os dados da planilha para dentro de um Data Frame para podermos manipulá-los no python:"
   ],
   "metadata": {
    "collapsed": false
   }
  },
  {
   "cell_type": "markdown",
   "source": [
    "Vamos criar duas variáveis que guardam as colunas que: \n",
    "a) São relacionadas à capag:\n",
    "b) Não são relacionadas à capag"
   ],
   "metadata": {
    "collapsed": false
   }
  },
  {
   "cell_type": "code",
   "execution_count": null,
   "outputs": [],
   "source": [
    "col_capag = \"A, BV, BZ,S:W, Y:AA, AL:AN, AS, AU: BA, BD:BF, BM, BO, BQ, BS, BU, BX, CB:CG\"\n",
    "col_nao_capag = \"A, BV, BZ, B:R,X,AB:AK, AO:AR, AT, BB:BC, BG:BL, BN, BP, BR, BT, BX, CB:CG\"\n",
    "col_gerais = \"A,BV, BW,BX,BY,BZ, CA, CB, CC\"\n",
    "col_id = \"A\""
   ],
   "metadata": {
    "collapsed": false,
    "pycharm": {
     "name": "#%%\n"
    }
   }
  },
  {
   "cell_type": "markdown",
   "source": [
    "Criando os Data Frames usando a library pandas"
   ],
   "metadata": {
    "collapsed": false
   }
  },
  {
   "cell_type": "code",
   "execution_count": null,
   "outputs": [],
   "source": [
    "import pandas as pd\n",
    "import numpy as np\n",
    "\n",
    "\n",
    "path = r'./assets/Testes_Ranking_CCONF_2020-CAPAG.xlsx'\n",
    "\n",
    "\n",
    "dtype_cols = {\"CD_GEOCMU\":object,\"capag_analis\":object,\"oper_aprov\":object, \"População\": object, \"Receita Corrente Líquida (2019)\": object, \"PIB per capita 2017 - a preços correntes (R$ 1,00)\": object, \"grupo pib per capita 2017\": object }\n",
    "\n",
    "data_capag = pd.read_excel(path, 'Municípios', usecols =   col_capag , skipfooter = 1, dtype = dtype_cols )\n",
    "print(data_capag.dtypes)\n",
    "#print(data_capag.shape)\n",
    "#print(data_capag.head(5))\n",
    "\n",
    "data_nao_capag = pd.read_excel(path, 'Municípios', usecols =  col_nao_capag , skipfooter = 1, dtype =dtype_cols)\n",
    "#print(data_nao_capag.dtypes)\n",
    "#print(data_nao_capag.shape)\n",
    "#print(data_nao_capag.head(5))\n",
    "\n",
    "data_total = pd.read_excel(path, 'Municípios', usecols =  col_nao_capag + col_capag, skipfooter = 1, dtype = dtype_cols)\n",
    "#print(data_total.dtypes)\n",
    "#print(data_total.shape)\n",
    "#print(data_total.head(5))"
   ],
   "metadata": {
    "collapsed": false,
    "pycharm": {
     "name": "#%%\n"
    }
   }
  },
  {
   "cell_type": "markdown",
   "source": [
    "## Escolha o conjunto de dados que quer usar na variável abaixo:\n",
    "\n",
    "#### 0 = Lista completa com 5568 municípios\n",
    "#### 1 = Lista de 45 municípios que tiveram CAPAG analisada e concluída pela GERAP/CORFI em 2020 (coluna \"capag_analis\"= True)\n",
    "#### 2 - Lista de 102 municípios que tiveram  operação de crédito aprovada em 2020 (coluna \"oper_aprov\" = True)"
   ],
   "metadata": {
    "collapsed": false
   }
  },
  {
   "cell_type": "code",
   "execution_count": null,
   "outputs": [],
   "source": [
    "#>>>>> ALTERE A VARIÁVEL ABAIXO e pressione \"CTRL + ENTER\" para simular com outro conjunto de dados. \n",
    "conjunto_dados = 0\n",
    "\n",
    "if conjunto_dados == 1:\n",
    "        data_capag_analis= data_capag[data_capag['capag_analis']== True]\n",
    "        data_nao_capag_analis = data_nao_capag[data_nao_capag['capag_analis']== True]\n",
    "        data_total_analis= data_total[data_total['capag_analis']== True]\n",
    "        data_capag = data_capag_analis\n",
    "        data_nao_capag = data_nao_capag_analis\n",
    "        data_total = data_total_analis\n",
    "        print('Você escolheu trabalhar com a lista de 45 municípios que tiveram CAPAG analisada e concluída')\n",
    "elif conjunto_dados == 2:\n",
    "        data_capag_aprov = data_capag[data_capag['oper_aprov']== True]\n",
    "        data_nao_capag_aprov = data_nao_capag[data_nao_capag['oper_aprov']== True]\n",
    "        data_total_aprov= data_total[data_total['oper_aprov']== True]\n",
    "        data_capag = data_capag_aprov\n",
    "        data_nao_capag = data_nao_capag_aprov\n",
    "        data_total = data_total_aprov\n",
    "       \n",
    "        print('Você escolheu trabalhar com a lista de 102 municípios que tiveram  operação de crédito aprovada')\n",
    "else:\n",
    "        print('Você escolheu trabalhar com a lista completa')"
   ],
   "metadata": {
    "collapsed": false,
    "pycharm": {
     "name": "#%%\n"
    }
   }
  },
  {
   "cell_type": "markdown",
   "source": [
    "## Análise Exploratória\n",
    "Antes de tudo, vamos criar uma função para calcular a função de distribuição acumulada, ela será útil para entendermos a dinâmica de como os entes passam ou não em cada grupo de testes"
   ],
   "metadata": {
    "collapsed": false
   }
  },
  {
   "cell_type": "code",
   "execution_count": null,
   "outputs": [],
   "source": [
    "def ecdf(data):\n",
    "    \"\"\"Calcular a função de distribuição cumulativa (FDC) for a one-dimensional array of measurements.\"\"\"\n",
    "    # Número de pontos de dados: n\n",
    "    n = len(data)\n",
    "    # dados do eixo X para o FDC : x\n",
    "    x = np.sort(data)\n",
    "    # dados do eixo y para o FDC: y\n",
    "    y = np.arange(1, n+1) / n\n",
    "    return x, y"
   ],
   "metadata": {
    "collapsed": false,
    "pycharm": {
     "name": "#%%\n"
    }
   }
  },
  {
   "cell_type": "markdown",
   "source": [
    "a.\tQual a média/proporção de cada um dos testes?"
   ],
   "metadata": {
    "collapsed": false
   }
  },
  {
   "cell_type": "code",
   "execution_count": null,
   "outputs": [],
   "source": [
    "medias_total = data_total.mean(axis=0)\n",
    "print(medias_total)"
   ],
   "metadata": {
    "collapsed": false,
    "pycharm": {
     "name": "#%%\n"
    }
   }
  },
  {
   "cell_type": "markdown",
   "source": [
    "a.1\tQual a média/proporção de cada um dos testes não capag?"
   ],
   "metadata": {
    "collapsed": false
   }
  },
  {
   "cell_type": "code",
   "execution_count": null,
   "outputs": [],
   "source": [
    "medias_ncapag = data_nao_capag.mean(axis=0)\n",
    "print(medias_ncapag)"
   ],
   "metadata": {
    "collapsed": false,
    "pycharm": {
     "name": "#%%\n"
    }
   }
  },
  {
   "cell_type": "markdown",
   "source": [
    "a.1\tQual a média/proporção de cada um dos testes  capag?"
   ],
   "metadata": {
    "collapsed": false
   }
  },
  {
   "cell_type": "code",
   "execution_count": null,
   "outputs": [],
   "source": [
    "medias_capag = data_capag.mean(axis=0)\n",
    "print(medias_capag)"
   ],
   "metadata": {
    "collapsed": false,
    "pycharm": {
     "name": "#%%\n"
    }
   }
  },
  {
   "cell_type": "markdown",
   "source": [
    "b.\tQual a distribuição das notas (somatório de todas as colunas)?\n",
    "i.\tLevando em consideração apenas os testes da CAPAG (colunas em amarelo)"
   ],
   "metadata": {
    "collapsed": false
   }
  },
  {
   "cell_type": "code",
   "execution_count": null,
   "outputs": [],
   "source": [
    "if \"sum\" in data_capag:\n",
    "     data_capag[\"sum\"].values[:] = 0\n",
    "data_capag[\"sum\"] = data_capag.sum(axis=1)\n",
    "#print(data_capag[\"sum\"])\n",
    "print('O maior valor para a soma é : ' + str(data_capag[\"sum\"].max()))\n",
    "print('O menor valor para a soma é : ' + str(data_capag[\"sum\"].min()))\n",
    "\n",
    "#Plotando a  função de distribuição cumulativa (FDC): vamos gerar as variáveis  x_dist, y_dist. A primeira terá \n",
    "#todas as notas acumuladas, da menor até a maior. \n",
    "import matplotlib.pyplot as plt\n",
    "x_dist, y_dist = ecdf(data_capag['sum'])\n",
    "# Greando o plot\n",
    "_= plt.plot(x_dist, y_dist, marker = \".\", linestyle = 'none')\n",
    "# Rotulando os eixos\n",
    "_= plt.xlabel('Soma de Todas as Notas - Critérios Capag')\n",
    "_= plt.ylabel('FDC')\n",
    "# Mostrando o plot\n",
    "plt.show()\n",
    "#plotando o histograma da coluna das notas\n",
    "_=plt.hist(data_capag['sum'])\n",
    "_=plt.xlabel('Nota Obtida - Critérios Capag')\n",
    "_=plt.ylabel('Número de entes')\n",
    "plt.show()"
   ],
   "metadata": {
    "collapsed": false,
    "pycharm": {
     "name": "#%%\n"
    }
   }
  },
  {
   "cell_type": "markdown",
   "source": [
    "b.\tQual a distribuição das notas (somatório de todas as colunas)?\n",
    "ii.\tLevando em consideração apenas os testes que não são da CAPAG (colunas não pintadas)"
   ],
   "metadata": {
    "collapsed": false
   }
  },
  {
   "cell_type": "code",
   "execution_count": null,
   "outputs": [],
   "source": [
    "if \"sum\" in data_nao_capag:\n",
    "     data_nao_capag[\"sum\"].values[:] = 0\n",
    "data_nao_capag[\"sum\"] = data_nao_capag.sum(axis=1)\n",
    "#print(data_nao_capag[\"sum\"])\n",
    "print('O maior valor para a soma é : ' + str(data_nao_capag[\"sum\"].max()))\n",
    "print('O menor valor para a soma é : ' + str(data_nao_capag[\"sum\"].min()))\n",
    "\n",
    "#Plotando a  função de distribuição cumulativa (FDC): vamos gerar as variáveus  x_dist, y_dist. A primeira, terá \n",
    "#todas as notas acumuladas, da menor até a maior. \n",
    "\n",
    "import matplotlib.pyplot as plt\n",
    "x_dist_nc, y_dist_nc = ecdf(data_nao_capag['sum'])\n",
    "_= plt.plot(x_dist_nc, y_dist_nc, marker = \".\", linestyle = 'none')\n",
    "_= plt.xlabel('Soma de Todas as Notas - Critérios Não Capag')\n",
    "_= plt.ylabel('FDC')\n",
    "plt.show()\n",
    "\n",
    "#plotando o histograma da coluna das notas\n",
    "_=plt.hist(data_nao_capag['sum'])\n",
    "_=plt.xlabel('Nota Obtida - Critérios Não Capag')\n",
    "_=plt.ylabel('Número de entes')\n",
    "plt.show()"
   ],
   "metadata": {
    "collapsed": false,
    "pycharm": {
     "name": "#%%\n"
    }
   }
  },
  {
   "cell_type": "markdown",
   "source": [
    "b.\tQual a distribuição das notas (somatório de todas as colunas)?\n",
    "iii.\tLevando em consideração todos os testes"
   ],
   "metadata": {
    "collapsed": false
   }
  },
  {
   "cell_type": "code",
   "execution_count": null,
   "outputs": [],
   "source": [
    "if \"sum\" in data_total:\n",
    "     data_total[\"sum\"].values[:] = 0\n",
    "data_total[\"sum\"] = data_total.sum(axis=1)\n",
    "#print(data_total[\"sum\"])\n",
    "print('O maior valor para a soma é : ' + str(data_total[\"sum\"].max()))\n",
    "print('O menor valor para a soma é : ' + str(data_total[\"sum\"].min()))\n",
    "\n",
    "#Plotando a função de distribuição cumulativa (FDC): vamos gerar as variáveis  x_dist, y_dist. A primeira, terá \n",
    "#todas as notas acumuladas, da menor até a maior. \n",
    "import matplotlib.pyplot as plt\n",
    "x_dist_total, y_dist_total = ecdf(data_total['sum'])\n",
    "_= plt.plot(x_dist_total, y_dist_total, marker = \".\", linestyle = 'none')\n",
    "_= plt.xlabel('Soma de Todas as Notas - Todos Critérios')\n",
    "_= plt.ylabel('FDC')\n",
    "plt.show()\n",
    "#plotando o histograma da coluna das notas\n",
    "_=plt.hist(data_total['sum'])\n",
    "_=plt.xlabel('Nota Obtida - Todos os Critérios')\n",
    "_=plt.ylabel('Número de entes')\n",
    "plt.show()"
   ],
   "metadata": {
    "collapsed": false,
    "pycharm": {
     "name": "#%%\n"
    }
   }
  },
  {
   "cell_type": "markdown",
   "source": [
    "## Simulações de classificação \n",
    "Vamos agora realizar 2 tipos de simulações. "
   ],
   "metadata": {
    "collapsed": false
   }
  },
  {
   "cell_type": "markdown",
   "source": [
    "### a.\tAlternativa I: classificação conjunta em duas etapas"
   ],
   "metadata": {
    "collapsed": false
   }
  },
  {
   "cell_type": "markdown",
   "source": [
    "#### i.\tPrimeiro,  somando todos os testes relacionados à CAPAG"
   ],
   "metadata": {
    "collapsed": false
   }
  },
  {
   "cell_type": "markdown",
   "source": [
    "##### i.\t1.\tCaso o município tenha resultado maior ou igual a x, classifique-o na zona 1"
   ],
   "metadata": {
    "collapsed": false
   }
  },
  {
   "cell_type": "code",
   "execution_count": null,
   "outputs": [],
   "source": [
    "#>>>>> ALTERE A VARIÁVEL ABAIXO e pressione \"CTRL + ENTER\" para simular com outra nota de corte.\n",
    "nota_corte_capag = 25\n",
    "\n",
    "if 'Aprovado' in data_capag:\n",
    "     data_capag['Aprovado'].values[:] = 0\n",
    "\n",
    "#Gerando a coluna com os aprovados \n",
    "\n",
    "data_capag['Aprovado'] = np.where(data_capag[\"sum\"]>= nota_corte_capag, True, False)\n",
    "#print(data_capag['Aprovado'].head(200))\n",
    "\n",
    "# Calculando o percentual de aprovados \n",
    "n_entes = data_capag.shape[0]\n",
    "print('Total de Entes :' + str(n_entes))\n",
    "num_aprovados = sum(data_capag['Aprovado'])\n",
    "print('O número de entes de aprovados na zona 1 com nota de corte de ' + str(nota_corte_capag) + ' seria de: ' + str(num_aprovados))\n",
    "print('O percentual de aprovados na zona 1 seria de : ' + \"{:.2%}\".format(num_aprovados/n_entes))"
   ],
   "metadata": {
    "collapsed": false,
    "pycharm": {
     "name": "#%%\n"
    }
   }
  },
  {
   "cell_type": "markdown",
   "source": [
    "#### ii.\tSomando os testes não relacionados à CAPAG\n",
    "##### 1.\tSe o ente estiver na zona 1\n",
    "    a.\tCaso o ente tenha resultado maior ou igual a y1, classifique-o com nota final A\n",
    "    b.\tCaso o ente tenha resultado maior ou igual a y2 e menor que y1, classifique-o com nota final B\n",
    "    c.\tCaso o ente tenha resultado menor que y3, classifique-o com nota final C (erro: tenha resultado menor do que y2)\n",
    "##### 2.\tSe o ente estiver na zona 2\n",
    "    a.\tCaso o ente tenha resultado maior ou igual a y3, classifique-o com nota final D\n",
    "    b.\tCaso o ente tenha resultado menor que y3, classifique-o com nota final E"
   ],
   "metadata": {
    "collapsed": false
   }
  },
  {
   "cell_type": "code",
   "execution_count": null,
   "outputs": [],
   "source": [
    "# Selecionando a coluna dos aprovados/reprovados na zona 1\n",
    "df_aprovados = data_capag.Aprovado\n",
    "# Trazendo a coluna dos aprovados nos critérios de Capag (zona 1) para o Data Frame que contém os critérios não relacionados à Capag \n",
    "data_nao_capag_c_a = pd.concat([data_nao_capag, df_aprovados], axis=1)\n",
    "#verificando a concatenação\n",
    "data_nao_capag_c_a.columns\n",
    "print(data_nao_capag_c_a.head(2))\n",
    "# calculando a nota dos critérios não capag\n",
    "#>>>> ALETERE OS VALORES ABAIXO para simular com outras notas de CORTE\n",
    "nota_corte_y1 = 30\n",
    "nota_corte_y2 = 25\n",
    "\n",
    "\n",
    "# criando a lista das 5 condições\n",
    "conditions = [\n",
    "    (data_nao_capag_c_a['Aprovado'] ) & (data_nao_capag_c_a['sum'] >= nota_corte_y1),\n",
    "    (data_nao_capag_c_a['Aprovado'] ) & (data_nao_capag_c_a['sum'] < nota_corte_y1),\n",
    "    (~ data_nao_capag_c_a['Aprovado'] ) & (data_nao_capag_c_a['sum'] >= nota_corte_y2),\n",
    "    (~ data_nao_capag_c_a['Aprovado'] ) & (data_nao_capag_c_a['sum'] < nota_corte_y2)\n",
    "    ]\n",
    "# criando a lista de valores que queremos associar a cada condição\n",
    "values = ['A', 'B', 'C', 'D']\n",
    "\n",
    "if 'capag' in data_nao_capag_c_a:\n",
    "     data_nao_capag_c_a['capag'].values[:] = 0\n",
    "\n",
    "# criando uma nova coluna e usando o np.select para associar os valores usando nossa lista como argumento\n",
    "data_nao_capag_c_a['capag'] = np.select(conditions, values)\n"
   ],
   "metadata": {
    "collapsed": false,
    "pycharm": {
     "name": "#%%\n"
    }
   }
  },
  {
   "cell_type": "code",
   "execution_count": null,
   "outputs": [],
   "source": [
    "# Mostrando a Tabela final com a classificação\n",
    "#data_nao_capag_c_a.head(10)\n",
    "\n",
    "# Mostrando a quantidade de entes em cada classe de nota - geral\n",
    "class_alt1_g = data_nao_capag_c_a.groupby(['capag']).size().to_frame('size').reset_index().sort_values([ 'capag'], ascending=[True])\n",
    "print('Tabela de Resultados da Simulação da Alternativa 1 - contagem de notas : ')\n",
    "print(class_alt1_g)\n",
    "# Obtendo o tamanho geral do número de entes do data frame\n",
    "todos = data_nao_capag_c_a.shape[0]\n",
    "#print (uf)\n",
    "# Fazendo a divisão final para mostrar as notas em termos percentuais. \n",
    "c_g = data_nao_capag_c_a.groupby(['capag']).size().to_frame('size')\n",
    "\n",
    "class_alt1_final_g = c_g / todos\n",
    "\n",
    "###### Tabela de Classificação Final - Alternativa 1 - Percentuais Gerais\n",
    "\n",
    "print('Tabela de Resultados da Simulação da Alternativa 1 - Percentuais Gerais : ')\n",
    "print(class_alt1_final_g)\n",
    "\n",
    "#Mostrando a quantidade de entes em cada classe de nota por estado\n",
    "class_alt1 = data_nao_capag_c_a.groupby(['UF', 'capag']).size().to_frame('size').reset_index().sort_values(['UF', 'capag'], ascending=[True, True])\n",
    "print('Tabela de Resultados da Simulação da Alternativa 1 - contagem de notas por Estado : ')\n",
    "print(class_alt1)\n",
    "# Mostrando a quantidade de entes por UF\n",
    "#uf = data_nao_capag_c_a.groupby(['UF']).size().to_frame('size')\n",
    "#print (uf)\n",
    "# Fazendo a divisão final para mostrar as notas por UF em termos percentuais. \n",
    "c = data_nao_capag_c_a.groupby(['UF', 'capag']).size().to_frame('size')\n",
    "class_alt1_final = c / c.groupby(level=0).sum()\n",
    "\n",
    "###### Tabela de Classificação Final - Alternativa 1 - Percentuais por Estado\n",
    "\n",
    "print('Tabela de Resultados da Simulação da Alternativa 1 - Percentuais por Estado : ')\n",
    "print (class_alt1_final)\n",
    "\n",
    "\n",
    "# Mostrando a quantidade de entes em cada classe de nota por grupo de pib per capita\n",
    "class_alt1_pib = data_nao_capag_c_a.groupby(['grupo pib per capita 2017', 'capag']).size().to_frame('size').reset_index().sort_values(['grupo pib per capita 2017', 'capag'], ascending=[True, True])\n",
    "print('Tabela de Resultados da Simulação da Alternativa 1 - contagem de notas por grupo de pib per capita : ')\n",
    "print(class_alt1_pib)\n",
    "# Mostrando a quantidade de entes por UF\n",
    "#uf_2 = data_total_c_a.groupby(['UF']).size().to_frame('size')\n",
    "#print (uf_2)\n",
    "# Fazendo a divisão final para mostrar as notas por grupo de pib per capita em termos percentuais. \n",
    "c_1_pib = data_nao_capag_c_a.groupby(['grupo pib per capita 2017', 'capag']).size().to_frame('size')\n",
    "class_alt1_final_pib = c_1_pib / c_1_pib.groupby(level=0).sum()\n",
    "\n",
    "###### Tabela de Classificação Final - Alternativa 1 - Percentuais por grupo de pib per capita \n",
    "\n",
    "print('Tabela de Resultados da Simulação da Alternativa 1 - Percentuais por grupo de pib per capita : ')\n",
    "print (class_alt1_final_pib)"
   ],
   "metadata": {
    "collapsed": false,
    "pycharm": {
     "name": "#%%\n"
    }
   }
  },
  {
   "cell_type": "markdown",
   "source": [
    "###### Exportando a simulação da alternativa 1 para o Excel"
   ],
   "metadata": {
    "collapsed": false
   }
  },
  {
   "cell_type": "code",
   "execution_count": null,
   "outputs": [],
   "source": [
    "with pd.ExcelWriter('sim_alt1_c_dados.xlsx') as writer:  \n",
    "    class_alt1.to_excel(writer, sheet_name='Res_Simul_1')\n",
    "    class_alt1_final_g.to_excel(writer, sheet_name='Res_F_Simul_1_Ger')\n",
    "    class_alt1_final_pib.to_excel(writer, sheet_name='Res_F_Simul_1_pib')\n",
    "    class_alt1_final.to_excel(writer, sheet_name='Res_F_Simul_1')\n",
    "    data_nao_capag_c_a.to_excel(writer, sheet_name='Dados_Simul_1')\n"
   ],
   "metadata": {
    "collapsed": false,
    "pycharm": {
     "name": "#%%\n"
    }
   }
  },
  {
   "cell_type": "markdown",
   "source": [
    "### b.\tAlternativa II: classificação dupla (AA, AB etc)"
   ],
   "metadata": {
    "collapsed": false
   }
  },
  {
   "cell_type": "markdown",
   "source": [
    "#### i.\t Primeiro, somando todos os testes relacionados à CAPAG\n",
    "    1.\tCaso o município tenha resultado maior ou igual a z, classifique-o com a primeira entrada “A”\n",
    "    2.\tCaso contrário, primeira entrada “B”"
   ],
   "metadata": {
    "collapsed": false
   }
  },
  {
   "cell_type": "code",
   "execution_count": null,
   "outputs": [],
   "source": [
    "#>>>>> ALTERE A VARIÁVEL ABAIXO e pressione \"CTRL + ENTER\" para simular com outra nota de corte.\n",
    "nota_corte_capag_z = 25\n",
    "\n",
    "if 'Aprovado_II_A' in data_capag:\n",
    "     data_capag['Aprovado_II_A'].values[:] = 0\n",
    "\n",
    "#Gerando a coluna com os aprovados \n",
    "data_capag['Aprovado_II_A'] = np.where(data_capag[\"sum\"]>= nota_corte_capag_z, True, False)\n",
    "#print(data_capag['Aprovado'].head(200))\n",
    "\n",
    "# criando a lista das 2 condições\n",
    "conditions = [\n",
    "    (data_capag['Aprovado_II_A'] ),\n",
    "    (~ data_capag['Aprovado_II_A'] )            \n",
    "    ]\n",
    "\n",
    "\n",
    "# criando a lista de valores que queremos associar a cada condição\n",
    "values = ['A', 'B']\n",
    "\n",
    "# criando uma nova coluna e usando o np.select para associar os valores usando nossa lista como argumento\n",
    "data_capag['Aprovado_II_A_class'] = np.select(conditions, values)\n",
    "\n",
    "print (data_capag[data_capag.Aprovado_II_A_class == 'A'].shape[0])\n",
    "\n",
    "#print(len(data_capag[data_capag['Aprovado_II_A_class'] == 'A']))\n",
    "\n",
    "# Calculando o percentual de aprovados \n",
    "n_entes_II = data_capag.shape[0]\n",
    "print('Total de Entes :' + str(n_entes))\n",
    "num_aprovados_II = len(data_capag[data_capag['Aprovado_II_A_class'] == 'A'])\n",
    "print('O número de entes de aprovados - classificação A - com nota de corte de ' + str(nota_corte_capag_z) + ' seria de: ' + str(num_aprovados_II))\n",
    "print('O percentual de aprovados com classificação A seria de : ' + \"{:.2%}\".format(num_aprovados_II/n_entes_II))\n",
    "\n",
    "print (data_capag)"
   ],
   "metadata": {
    "collapsed": false,
    "pycharm": {
     "name": "#%%\n"
    }
   }
  },
  {
   "cell_type": "markdown",
   "source": [
    "#### ii. Depois, somando todos os testes (inclusive os da CAPAG)\n",
    "    1.\tCaso o ente tenha nota maior ou igual a k1, classifique-o com a segunda entrada “A”\n",
    "    2.\tCaso o ente tenha nota menor que k1, mas maior ou igual a k2, classifique-o com a segunda entrada “B”\n",
    "    3.\tCaso o ente tenha nota menor que k2, classifique-o com a segunda entrada “C”\n",
    "#### iii. Depois, combinando a primeira entrada com a segunda. Registre o resultado\n"
   ],
   "metadata": {
    "collapsed": false
   }
  },
  {
   "cell_type": "code",
   "execution_count": null,
   "outputs": [],
   "source": [
    "# Selecionando a coluna dos aprovados - classificação A\n",
    "df_aprovados_total = data_capag.Aprovado_II_A\n",
    "# Trazendo a coluna dos aprovados no critério classificação A para o Data Frame que contém os todos os critérios da CCONF (Capag e Não Capag)\n",
    "data_total_c_a = pd.concat([data_total, df_aprovados_total], axis=1)\n",
    "#verificando a concatenação\n",
    "data_total_c_a.columns\n",
    "print(data_total_c_a.head(2))\n",
    "# calculando a nota com todos os critérios\n",
    "#>>>> ALETERE OS VALORES ABAIXO para simular com outras notas de CORTE\n",
    "nota_corte_k1 = 55\n",
    "nota_corte_k2 = 45\n",
    "\n",
    "# criando a lista das 5 condições\n",
    "conditions = [\n",
    "    (data_total_c_a['Aprovado_II_A'] ) & (data_total_c_a['sum'] >= nota_corte_k1),\n",
    "    (data_total_c_a['Aprovado_II_A'] ) & (data_total_c_a['sum'] <  nota_corte_k2), \n",
    "    (data_total_c_a['Aprovado_II_A'] ) & ((data_total_c_a['sum'] < nota_corte_k1) & (data_total_c_a['sum'] >= nota_corte_k2)),          \n",
    "    (~ data_total_c_a['Aprovado_II_A'] ) & (data_total_c_a['sum'] >= nota_corte_k1),\n",
    "    (~ data_total_c_a['Aprovado_II_A'] ) & ((data_total_c_a['sum'] < nota_corte_k1) & (data_total_c_a['sum'] >= nota_corte_k2)),\n",
    "    (~ data_total_c_a['Aprovado_II_A'] ) & (data_total_c_a['sum'] <  nota_corte_k2)           \n",
    "    ]\n",
    "# criando a lista de valores que queremos associar a cada condição\n",
    "values = ['AA', 'AC','AB', 'BA', 'BB', 'BC']\n",
    "\n",
    "# criando uma nova coluna e usando o np.select para associar os valores usando nossa lista como argumento\n",
    "data_total_c_a['capag_II'] = np.select(conditions, values)\n",
    "\n",
    "# Mostrando a Tabela final com a classificação\n",
    "#data_total_c_a.head(10)\n",
    "\n",
    "# Mostrando a quantidade de entes em cada classe de nota - geral\n",
    "class_alt2_g = data_total_c_a.groupby(['capag_II']).size().to_frame('size').reset_index().sort_values([ 'capag_II'], ascending=[True])\n",
    "print('Tabela de Resultados da Simulação da Alternativa 2 - contagem de notas : ')\n",
    "print(class_alt2_g)\n",
    "# Obtendo o tamanho geral do número de entes do data frame\n",
    "todos_2 = data_total_c_a.shape[0]\n",
    "#print (uf)\n",
    "# Fazendo a divisão final para mostrar as notas em termos percentuais. \n",
    "c_g = data_total_c_a.groupby(['capag_II']).size().to_frame('size')\n",
    "class_alt2_final_g = c_g / todos_2\n",
    "\n",
    "###### Tabela de Classificação Final - Alternativa 2 - Percentuais Gerais\n",
    "\n",
    "print('Tabela de Resultados da Simulação da Alternativa 2 - Percentuais Gerais : ')\n",
    "print(class_alt2_final_g)\n",
    "\n",
    "\n",
    "# Mostrando a quantidade de entes em cada classe de nota por estado\n",
    "class_alt2 = data_total_c_a.groupby(['UF', 'capag_II']).size().to_frame('size').reset_index().sort_values(['UF', 'capag_II'], ascending=[True, True])\n",
    "print('Tabela de Resultados da Simulação da Alternativa 2 - contagem de notas por Estado : ')\n",
    "print(class_alt2)\n",
    "# Mostrando a quantidade de entes por UF\n",
    "#uf_2 = data_total_c_a.groupby(['UF']).size().to_frame('size')\n",
    "#print (uf_2)\n",
    "# Fazendo a divisão final para mostrar as notas por UF em termos percentuais. \n",
    "c_2 = data_total_c_a.groupby(['UF', 'capag_II']).size().to_frame('size')\n",
    "class_alt2_final = c_2 / c_2.groupby(level=0).sum()\n",
    "\n",
    "###### Tabela de Classificação Final - Alternativa 2 - Percentuais por Estado\n",
    "\n",
    "print('Tabela de Resultados da Simulação da Alternativa 2 - Percentuais por Estado : ')\n",
    "print (class_alt2_final)\n",
    "\n",
    "\n",
    "# Mostrando a quantidade de entes em cada classe de nota por grupo de pib per capita\n",
    "class_alt2_pib = data_total_c_a.groupby(['grupo pib per capita 2017', 'capag_II']).size().to_frame('size').reset_index().sort_values(['grupo pib per capita 2017', 'capag_II'], ascending=[True, True])\n",
    "print('Tabela de Resultados da Simulação da Alternativa 2 - contagem de notas por grupo de pib per capita : ')\n",
    "print(class_alt2_pib)\n",
    "# Mostrando a quantidade de entes por UF\n",
    "#uf_2 = data_total_c_a.groupby(['UF']).size().to_frame('size')\n",
    "#print (uf_2)\n",
    "# Fazendo a divisão final para mostrar as notas por grupo de pib per capita em termos percentuais. \n",
    "c_2_pib = data_total_c_a.groupby(['grupo pib per capita 2017', 'capag_II']).size().to_frame('size')\n",
    "class_alt2_final_pib = c_2_pib / c_2_pib.groupby(level=0).sum()\n",
    "\n",
    "###### Tabela de Classificação Final - Alternativa 2 - Percentuais por grupo de pib per capita \n",
    "\n",
    "print('Tabela de Resultados da Simulação da Alternativa 2 - Percentuais por grupo de pib per capita : ')\n",
    "print (class_alt2_final_pib)"
   ],
   "metadata": {
    "collapsed": false,
    "pycharm": {
     "name": "#%%\n"
    }
   }
  },
  {
   "cell_type": "markdown",
   "source": [
    "###### Exportando a simulação da alternativa 2 para o Excel"
   ],
   "metadata": {
    "collapsed": false
   }
  },
  {
   "cell_type": "code",
   "execution_count": null,
   "outputs": [],
   "source": [
    "with pd.ExcelWriter('sim_alt2_c_dados.xlsx') as writer:  \n",
    "    class_alt2.to_excel(writer, sheet_name='Res_Simul_2')\n",
    "    class_alt2_final_g.to_excel(writer, sheet_name='Res_F_Simul_2_Ger')\n",
    "    class_alt2_final_pib.to_excel(writer, sheet_name='Res_F_Simul_2_pib')\n",
    "    class_alt2_final.to_excel(writer, sheet_name='Res_F_Simul_2')\n",
    "    data_total_c_a.to_excel(writer, sheet_name='Dados_Simul_2')"
   ],
   "metadata": {
    "collapsed": false,
    "pycharm": {
     "name": "#%%\n"
    }
   }
  },
  {
   "cell_type": "markdown",
   "source": [
    "# Visualizando os mapas das simulações\n",
    "## Baixando os shapefiles do IBGE"
   ],
   "metadata": {
    "collapsed": false
   }
  },
  {
   "cell_type": "code",
   "execution_count": null,
   "outputs": [],
   "source": [
    "import matplotlib.pyplot as plt\n",
    "%matplotlib inline\n",
    "import geopandas as gpd\n",
    "import pandas as pd\n",
    "import numpy as np\n",
    "import mapclassify\n",
    "import fiona\n",
    "\n",
    "#zipfile = \"ftp://geoftp.ibge.gov.br/organizacao_do_territorio/malhas_territoriais/malhas_municipais/municipio_2017/Brasil/BR/br_municipios.zip\"\n",
    "\n",
    "br_map = gpd.read_file(r'./assets/BRMUE250GC_SIR.shp')"
   ],
   "metadata": {
    "collapsed": false,
    "pycharm": {
     "name": "#%%\n"
    }
   }
  },
  {
   "cell_type": "markdown",
   "source": [
    "## Visualizando o Mapa da simulação 1\n",
    "    ### 'A' = Verde Escuro\n",
    "    ### 'B' = Verde Claro\n",
    "    ### 'C' = Vermelho Claro\n",
    "    ### 'D' = Vermelho Escuro"
   ],
   "metadata": {
    "collapsed": false
   }
  },
  {
   "cell_type": "code",
   "execution_count": null,
   "outputs": [],
   "source": [
    "data_simu_1 = pd.read_excel(r'./assets/sim_alt1_c_dados.xlsx', 'Dados_Simul_1', dtype = {'CD_GEOCMU': object, \"Capital?\":bool},true_values = [\"Sim\"],false_values = [\"Não\"] )\n",
    "\n",
    "br_map_capag_sim_1j  = br_map.join(data_simu_1, lsuffix='CD_GEOCMU', rsuffix='CD_GEOCMU')\n",
    "\n",
    "#removendo aproximadamente 15 linhas de municípios onde o join não funcionou e gerou nulos \n",
    "br_map_capag_sim_1j = br_map_capag_sim_1j[br_map_capag_sim_1j['capag'].notna()]\n",
    "\n",
    "# associando as notas às cores que desejamos\n",
    "conditions = [\n",
    "    (br_map_capag_sim_1j['capag'] == 'A'),\n",
    "    (br_map_capag_sim_1j['capag'] == 'B'),\n",
    "    (br_map_capag_sim_1j['capag'] == 'C'),\n",
    "    (br_map_capag_sim_1j['capag'] == 'D'),    \n",
    "    ]\n",
    "# criando a lista de valores que queremos associar a cada condição\n",
    "\n",
    "values = ['#008000', '#8db600', '#fe6f5e', '#cc0000']\n",
    " \n",
    "# criando uma nova coluna e usando o np.select para associar os valores usando nossa lista como argumento\n",
    "br_map_capag_sim_1j['color'] = np.select(conditions, values)\n",
    "\n",
    "\n",
    "paleta_capag = {'A': '#008000',\n",
    "               'B': '#8db600',\n",
    "               'C': '#fe6f5e',\n",
    "               'D': '#cc0000'}\n",
    "\n",
    "# Plotando os dados\n",
    "fig, ax = plt.subplots(figsize=(10, 10))\n",
    "\n",
    "# fazendo um loop por cada tipo de atributo e plotando usando as cores definidas no dicionário\n",
    "for tipocor, data in br_map_capag_sim_1j.groupby('capag'):\n",
    "    \n",
    "    # Definido as cores de cadagrupo usando o dicionário\n",
    "    color = paleta_capag[tipocor]\n",
    "    \n",
    "    # Plotando cada grupo usando as cores definidas acima\n",
    "    data.plot(color=color,\n",
    "              ax=ax,\n",
    "              label=tipocor)\n",
    "                            \n",
    "# Abaixo temos o controle da legenda.\n",
    "  # bbox = x,y -> é possível posicionar o box da legenda\n",
    "  #rpop= tamanho do box da legenda\n",
    "  #loc = posicionamento geral da legenda no mapa\n",
    "\n",
    "ax.legend( bbox_to_anchor=(1.0,- .1), prop={'size': 120}, loc='lower right', frameon =True)\n",
    "ax.set(title='Simulação 1 - Mapa Capag')\n",
    "\n",
    "# o comando abaixo serve para retirar o grid coordenadas, basta comentar para retirá-lo\n",
    "ax.set_axis_off()\n",
    "plt.show()"
   ],
   "metadata": {
    "collapsed": false,
    "pycharm": {
     "name": "#%%\n"
    }
   }
  },
  {
   "cell_type": "markdown",
   "source": [
    "## Visualizando o Mapa da simulação 2\n",
    "\n",
    "    ### 'AA' = Verde Escuro\n",
    "    ### 'AB' = Verde Claro\n",
    "    ### 'AC' = Azul Escuro\n",
    "    ### 'BA' = Amarelo\n",
    "    ### 'BB' = Vermelho Claro\n",
    "    ### 'BC' = Vermelho Escuro"
   ],
   "metadata": {
    "collapsed": false
   }
  },
  {
   "cell_type": "code",
   "execution_count": null,
   "outputs": [],
   "source": [
    "data_simu_2 = pd.read_excel(r'./assets/sim_alt2_c_dados.xlsx', 'Dados_Simul_2', dtype = {'CD_GEOCMU': object, \"Capital?\":bool},true_values = [\"Sim\"],false_values = [\"Não\"] )\n",
    "\n",
    "br_map_capag_sim_2j  = br_map.join(data_simu_2, lsuffix='CD_GEOCMU', rsuffix='CD_GEOCMU')\n",
    "\n",
    "#removendo aproximadamente 15 linhas de municípios onde o join não funcionou e gerou nulos \n",
    "br_map_capag_sim_2j = br_map_capag_sim_2j[br_map_capag_sim_2j['capag_II'].notna()]\n",
    "\n",
    "# associando as notas às cores que desejamos\n",
    "conditions = [\n",
    "    (br_map_capag_sim_2j['capag_II'] == 'AA'),\n",
    "    (br_map_capag_sim_2j['capag_II'] == 'AB'),\n",
    "    (br_map_capag_sim_2j['capag_II'] == 'AC'),\n",
    "    (br_map_capag_sim_2j['capag_II'] == 'BA'),\n",
    "    (br_map_capag_sim_2j['capag_II'] == 'BB'),\n",
    "    (br_map_capag_sim_2j['capag_II'] == 'BC'),\n",
    "    ]\n",
    "# criando a lista de valores que queremos associar a cada condição\n",
    "\n",
    "values = ['#008000', '#8db600', '#007fff', '#ffe135', '#fe6f5e', '#cc0000']\n",
    " \n",
    "# criando uma nova coluna e usando o np.select para associar os valores usando nossa lista como argumento\n",
    "br_map_capag_sim_2j['color'] = np.select(conditions, values)\n",
    "\n",
    "\n",
    "paleta_capag = {'AA': '#008000',\n",
    "               'AB': '#8db600',\n",
    "               'AC': '#007fff',\n",
    "                'BA': '#ffe135',\n",
    "                'BB': '#fe6f5e',\n",
    "               'BC': '#cc0000'}\n",
    "\n",
    "# Plotando os dados\n",
    "fig, ax = plt.subplots(figsize=(10, 10))\n",
    "\n",
    "# fazendo um loop por cada tipo de atributo e plotando usando as cores definidas no dicionário\n",
    "for tipocor, data in br_map_capag_sim_2j.groupby('capag_II'):\n",
    "    \n",
    "    # Definido as cores de cadagrupo usando o dicionário\n",
    "    color = paleta_capag[tipocor]\n",
    "    \n",
    "    # Plotando cada grupo usando as cores definidas acima\n",
    "    data.plot(color=color,\n",
    "              ax=ax,\n",
    "              label=tipocor)\n",
    "                            \n",
    "# Abaixo temos o controle da legenda.\n",
    "  # bbox = x,y -> é possível posicionar o box da legenda\n",
    "  #rpop= tamanho do box da legenda\n",
    "  #loc = posicionamento geral da legenda no mapa\n",
    "\n",
    "ax.legend( bbox_to_anchor=(1.0,- .1), prop={'size': 120}, loc='lower right', frameon =True)\n",
    "ax.set(title='Simulação 2 - Mapa Capag')\n",
    "\n",
    "# o comando abaixo serve para retirar o grid coordenadas, basta comentar para retirá-lo\n",
    "ax.set_axis_off()\n",
    "plt.show()"
   ],
   "metadata": {
    "collapsed": false,
    "pycharm": {
     "name": "#%%\n"
    }
   }
  },
  {
   "cell_type": "markdown",
   "source": [
    "Ficamos por aqui!\n",
    "\n"
   ],
   "metadata": {
    "collapsed": false
   }
  }
 ],
 "metadata": {
  "kernelspec": {
   "display_name": "Python 3",
   "language": "python",
   "name": "python3"
  },
  "language_info": {
   "codemirror_mode": {
    "name": "ipython",
    "version": 3
   },
   "file_extension": ".py",
   "mimetype": "text/x-python",
   "name": "python",
   "nbconvert_exporter": "python",
   "pygments_lexer": "ipython3",
   "version": "3.7.9"
  },
  "pycharm": {
   "stem_cell": {
    "cell_type": "raw",
    "source": [
     "# -*- coding: utf-8 -*-\n",
     "\"\"\"\n",
     "Created on Mon Dec  7 09:44:36 2020\n",
     "\n",
     "@author: fioro\n",
     "\"\"\""
    ],
    "metadata": {
     "collapsed": false
    }
   }
  }
 },
 "nbformat": 4,
 "nbformat_minor": 1
}