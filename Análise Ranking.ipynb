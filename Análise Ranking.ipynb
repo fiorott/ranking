{
 "cells": [
  {
   "cell_type": "markdown",
   "metadata": {
    "collapsed": true
   },
   "source": [
    "# Análise Ranking CCONF\n",
    "\n",
    "Neste notebook vamos analisar a aba municípios da planilha que contém os dados sobre a aplicação dos critérios elaborados pela CCONF. Vamos lá!"
   ]
  },
  {
   "cell_type": "markdown",
   "metadata": {},
   "source": [
    "Começamos importando os dados da planilha para dentro de um Data Frame para podermos manipulá-los no python:"
   ]
  },
  {
   "cell_type": "markdown",
   "source": [
    "Vamos criar duas variáveis que guardam as colunas que: \n",
    "a) São relacionadas à capag:\n",
    "b) Não são relacionadas à capag"
   ],
   "metadata": {
    "collapsed": false
   }
  },
  {
   "cell_type": "code",
   "execution_count": 1,
   "outputs": [],
   "source": [
    "col_capag = \"S:W, Y:AA, AL:AN, AS, AU: BA, BD:BF, BM, BO, BQ, BS, BU\"\n",
    "col_nao_capag = \"B:R,X,AB:AK, AO:AR, AT, BB:BC, BG:BL, BN,BP,BR,BT\"\n",
    "col_gerais = \"A,BV, BW,BX,BY,BZ, CA\""
   ],
   "metadata": {
    "collapsed": false,
    "pycharm": {
     "name": "#%%\n",
     "is_executing": false
    }
   }
  },
  {
   "cell_type": "markdown",
   "source": [
    "Criando os Data Frames usando a library pandas"
   ],
   "metadata": {
    "collapsed": false
   }
  },
  {
   "cell_type": "code",
   "execution_count": 4,
   "metadata": {
    "pycharm": {
     "is_executing": false
    }
   },
   "outputs": [
    {
     "name": "stdout",
     "text": [
      "ENTE                 int64\nD2_00010             int64\nD2_00011             int64\nD2_00012             int64\nD2_00023             int64\nD2_00024             int64\nD2_00028             int64\nD2_00033             int64\nD3_00002             int64\nD3_00003             int64\nD3_00005             int64\nD3_00006             int64\nD3_00007             int64\nD3_00008             int64\nD3_00009             int64\nD3_00012             int64\nD3_00013             int64\nD4_00001             int64\nD4_00008             int64\nD4_00010             int64\nD4_00012             int64\nD4_00014             int64\nD4_00016             int64\nEnte                object\nTotal              float64\nCapital?            object\nId                   int64\nTestes da CAPAG      int64\ndtype: object\n      ENTE  D2_00010  D2_00011  D2_00012  D2_00023  D2_00024  D2_00028  \\\n0  4200556         1         1         1         1         1         1   \n1  4317004         1         1         1         1         1         1   \n2  3165578         1         1         1         1         1         1   \n3  4320321         1         1         1         1         1         1   \n4  2103554         1         1         1         1         1         1   \n\n   D2_00033  D3_00002  D3_00003  ...  D4_00008  D4_00010  D4_00012  D4_00014  \\\n0         1         1         1  ...         1         1         1         1   \n1         1         1         1  ...         1         1         1         1   \n2         1         1         1  ...         1         1         1         1   \n3         1         1         1  ...         1         1         1         1   \n4         1         1         1  ...         1         1         1         1   \n\n   D4_00016                        Ente  Total  Capital?  Id  Testes da CAPAG  \n0         1            Águas Frias - SC   60.0       Não   1               27  \n1         1   Santana da Boa Vista - RS   59.8       Não   2               27  \n2         1         Senador Amaral - MG   59.6       Não   3               27  \n3         1  Senador Salgado Filho - RS   59.6       Não   4               27  \n4         1  Conceição do Lago-Açu - MA   59.5       Não   5               27  \n\n[5 rows x 28 columns]\n",
      "ENTE                 int64\nD2_00008             int64\nD2_00013             int64\nD2_00014             int64\nD2_00015             int64\nD2_00016           float64\nD2_00017           float64\nD2_00018           float64\nD2_00019             int64\nD2_00020           float64\nD2_00021           float64\nD2_00022             int64\nD2_00029             int64\nD2_00030             int64\nD2_00031             int64\nD2_00032             int64\nD3_00001             int64\nD3_00010             int64\nD3_00011             int64\nD4_00002             int64\nD4_00003             int64\nD4_00004             int64\nD4_00005             int64\nD4_00006             int64\nD4_00007             int64\nD4_00009           float64\nD4_00011           float64\nD4_00013           float64\nD4_00015           float64\nEnte                object\nTotal              float64\nCapital?            object\nId                   int64\nTestes da CAPAG      int64\ndtype: object\n      ENTE  D2_00008  D2_00013  D2_00014  D2_00015  D2_00016  D2_00017  \\\n0  4200556         1         1         1         1       NaN       NaN   \n1  4317004         1         1         1         1       NaN       NaN   \n2  3165578         1         1         1         1       NaN       NaN   \n3  4320321         1         1         1         1       NaN       NaN   \n4  2103554         1         1         1         1       NaN       NaN   \n\n   D2_00018  D2_00019  D2_00020  ...  D4_00007  D4_00009  D4_00011  D4_00013  \\\n0       NaN         1       NaN  ...         1       NaN       NaN       NaN   \n1       NaN         1       NaN  ...         1       NaN       NaN       NaN   \n2       NaN         1       NaN  ...         1       NaN       NaN       NaN   \n3       NaN         1       NaN  ...         1       NaN       NaN       NaN   \n4       NaN         1       NaN  ...         1       NaN       NaN       NaN   \n\n   D4_00015                        Ente  Total  Capital?  Id  Testes da CAPAG  \n0       NaN            Águas Frias - SC   60.0       Não   1               27  \n1       NaN   Santana da Boa Vista - RS   59.8       Não   2               27  \n2       NaN         Senador Amaral - MG   59.6       Não   3               27  \n3       NaN  Senador Salgado Filho - RS   59.6       Não   4               27  \n4       NaN  Conceição do Lago-Açu - MA   59.5       Não   5               27  \n\n[5 rows x 34 columns]\n",
      "ENTE                 int64\nD2_00008             int64\nD2_00010             int64\nD2_00011             int64\nD2_00012             int64\nD2_00013             int64\nD2_00014             int64\nD2_00015             int64\nD2_00016           float64\nD2_00017           float64\nD2_00018           float64\nD2_00019             int64\nD2_00020           float64\nD2_00021           float64\nD2_00022             int64\nD2_00023             int64\nD2_00024             int64\nD2_00028             int64\nD2_00029             int64\nD2_00030             int64\nD2_00031             int64\nD2_00032             int64\nD2_00033             int64\nD3_00001             int64\nD3_00002             int64\nD3_00003             int64\nD3_00005             int64\nD3_00006             int64\nD3_00007             int64\nD3_00008             int64\nD3_00009             int64\nD3_00010             int64\nD3_00011             int64\nD3_00012             int64\nD3_00013             int64\nD4_00001             int64\nD4_00002             int64\nD4_00003             int64\nD4_00004             int64\nD4_00005             int64\nD4_00006             int64\nD4_00007             int64\nD4_00008             int64\nD4_00009           float64\nD4_00010             int64\nD4_00011           float64\nD4_00012             int64\nD4_00013           float64\nD4_00014             int64\nD4_00016             int64\nEnte                object\nTotal              float64\nCapital?            object\nId                   int64\nTestes da CAPAG      int64\ndtype: object\n      ENTE  D2_00008  D2_00010  D2_00011  D2_00012  D2_00013  D2_00014  \\\n0  4200556         1         1         1         1         1         1   \n1  4317004         1         1         1         1         1         1   \n2  3165578         1         1         1         1         1         1   \n3  4320321         1         1         1         1         1         1   \n4  2103554         1         1         1         1         1         1   \n\n   D2_00015  D2_00016  D2_00017  ...  D4_00011  D4_00012  D4_00013  D4_00014  \\\n0         1       NaN       NaN  ...       NaN         1       NaN         1   \n1         1       NaN       NaN  ...       NaN         1       NaN         1   \n2         1       NaN       NaN  ...       NaN         1       NaN         1   \n3         1       NaN       NaN  ...       NaN         1       NaN         1   \n4         1       NaN       NaN  ...       NaN         1       NaN         1   \n\n   D4_00016                        Ente  Total  Capital?  Id  Testes da CAPAG  \n0         1            Águas Frias - SC   60.0       Não   1               27  \n1         1   Santana da Boa Vista - RS   59.8       Não   2               27  \n2         1         Senador Amaral - MG   59.6       Não   3               27  \n3         1  Senador Salgado Filho - RS   59.6       Não   4               27  \n4         1  Conceição do Lago-Açu - MA   59.5       Não   5               27  \n\n[5 rows x 55 columns]\n"
     ],
     "output_type": "stream"
    }
   ],
   "source": [
    "import pandas as pd\n",
    "import numpy as np\n",
    "\n",
    "data_capag = pd.read_excel(r'C:\\Users\\fioro\\PycharmProjects\\ranking_cconf\\assets\\Testes_Ranking_CCONF_2020-CAPAG.xlsx', 'Municípios', usecols = col_gerais+col_capag, skipfooter = 1 )\n",
    "print(data_capag.dtypes)\n",
    "print(data_capag.head(5))\n",
    "\n",
    "data_nao_capag = pd.read_excel(r'C:\\Users\\fioro\\PycharmProjects\\ranking_cconf\\assets\\Testes_Ranking_CCONF_2020-CAPAG.xlsx', 'Municípios', usecols = col_gerais+col_nao_capag, skipfooter = 1)\n",
    "print(data_nao_capag.dtypes)\n",
    "print(data_nao_capag.head(5))\n",
    "\n",
    "data_total = pd.read_excel(r'C:\\Users\\fioro\\PycharmProjects\\ranking_cconf\\assets\\Testes_Ranking_CCONF_2020-CAPAG.xlsx', 'Municípios', usecols = col_gerais+col_nao_capag + col_capag, skipfooter = 1)\n",
    "print(data_total.dtypes)\n",
    "print(data_total.head(5))"
   ]
  },
  {
   "cell_type": "markdown",
   "metadata": {
    "pycharm": {
     "name": "#%% md\n"
    }
   },
   "source": [
    "Os nomes dos municípios e e estados estão agrupados na coluna \"BV\", vamos separá-los"
   ]
  },
  {
   "cell_type": "code",
   "execution_count": 3,
   "outputs": [],
   "source": [
    "#data['Ente'] = Cod_UF.ESTADO.str[-2:]\n"
   ],
   "metadata": {
    "collapsed": false,
    "pycharm": {
     "name": "#%%\n",
     "is_executing": false
    }
   }
  }
 ],
 "metadata": {
  "kernelspec": {
   "display_name": "Python 3",
   "language": "python",
   "name": "python3"
  },
  "language_info": {
   "codemirror_mode": {
    "name": "ipython",
    "version": 3
   },
   "file_extension": ".py",
   "mimetype": "text/x-python",
   "name": "python",
   "nbconvert_exporter": "python",
   "pygments_lexer": "ipython3",
   "version": "3.7.9"
  },
  "pycharm": {
   "stem_cell": {
    "cell_type": "raw",
    "source": [],
    "metadata": {
     "collapsed": false
    }
   }
  }
 },
 "nbformat": 4,
 "nbformat_minor": 1
}