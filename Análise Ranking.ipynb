{
 "cells": [
  {
   "cell_type": "markdown",
   "metadata": {
    "collapsed": true
   },
   "source": [
    "# Análise Ranking CCONF\n",
    "\n",
    "Neste notebook vamos analisar a aba municípios da planilha que contém os dados sobre a aplicação dos critérios elaborados pela CCONF. Vamos lá!"
   ]
  },
  {
   "cell_type": "markdown",
   "metadata": {},
   "source": [
    "Começamos importando os dados da planilha para dentro de um Data Frame para podermos manipulá-los no python:"
   ]
  },
  {
   "cell_type": "markdown",
   "source": [
    "Vamos criar duas variáveis que guardam as colunas que: \n",
    "a) São relacionadas à capag:\n",
    "b) Não são relacionadas à capag"
   ],
   "metadata": {
    "collapsed": false
   }
  },
  {
   "cell_type": "code",
   "execution_count": 7,
   "outputs": [],
   "source": [
    "col_capag = \"S:W, Y:AA, AL:AN, AS, AU: BA, BD:BF, BM, BO, BQ, BS, BU\"\n",
    "col_nao_capag = \"B:R,X,AB:AK, AO:AR, AT, BB:BC, BG:BL, BN,BP,BR,BT\"\n",
    "col_gerais = \"A,BV, BW,BX,BY,BZ\""
   ],
   "metadata": {
    "collapsed": false,
    "pycharm": {
     "name": "#%%\n",
     "is_executing": false
    }
   }
  },
  {
   "cell_type": "markdown",
   "source": [
    "Criando os Data Frames usando a library pandas"
   ],
   "metadata": {
    "collapsed": false
   }
  },
  {
   "cell_type": "code",
   "execution_count": 8,
   "metadata": {
    "pycharm": {
     "is_executing": false
    }
   },
   "outputs": [
    {
     "name": "stdout",
     "text": [
      "      ENTE  D2_00010  D2_00011  D2_00012  D2_00023  D2_00024  D2_00028  \\\n0  4200556       1.0       1.0       1.0       1.0       1.0       1.0   \n1  4317004       1.0       1.0       1.0       1.0       1.0       1.0   \n2  3165578       1.0       1.0       1.0       1.0       1.0       1.0   \n3  4320321       1.0       1.0       1.0       1.0       1.0       1.0   \n4  2103554       1.0       1.0       1.0       1.0       1.0       1.0   \n\n   D2_00033  D3_00002  D3_00003  ...  D4_00001  D4_00008  D4_00010  D4_00012  \\\n0       1.0       1.0       1.0  ...       1.0       1.0       1.0       1.0   \n1       1.0       1.0       1.0  ...       1.0       1.0       1.0       1.0   \n2       1.0       1.0       1.0  ...       1.0       1.0       1.0       1.0   \n3       1.0       1.0       1.0  ...       1.0       1.0       1.0       1.0   \n4       1.0       1.0       1.0  ...       1.0       1.0       1.0       1.0   \n\n   D4_00014  D4_00016                        Ente  Total  Capital?   Id  \n0       1.0       1.0            Águas Frias - SC   60.0       Não  1.0  \n1       1.0       1.0   Santana da Boa Vista - RS   59.8       Não  2.0  \n2       1.0       1.0         Senador Amaral - MG   59.6       Não  3.0  \n3       1.0       1.0  Senador Salgado Filho - RS   59.6       Não  4.0  \n4       1.0       1.0  Conceição do Lago-Açu - MA   59.5       Não  5.0  \n\n[5 rows x 27 columns]\n",
      "      ENTE  D2_00008  D2_00013  D2_00014  D2_00015  D2_00016  D2_00017  \\\n0  4200556       1.0       1.0       1.0       1.0       NaN       NaN   \n1  4317004       1.0       1.0       1.0       1.0       NaN       NaN   \n2  3165578       1.0       1.0       1.0       1.0       NaN       NaN   \n3  4320321       1.0       1.0       1.0       1.0       NaN       NaN   \n4  2103554       1.0       1.0       1.0       1.0       NaN       NaN   \n\n   D2_00018  D2_00019  D2_00020  ...  D4_00006  D4_00007  D4_00009  D4_00011  \\\n0       NaN       1.0       NaN  ...       1.0       1.0       NaN       NaN   \n1       NaN       1.0       NaN  ...       1.0       1.0       NaN       NaN   \n2       NaN       1.0       NaN  ...       1.0       1.0       NaN       NaN   \n3       NaN       1.0       NaN  ...       1.0       1.0       NaN       NaN   \n4       NaN       1.0       NaN  ...       1.0       1.0       NaN       NaN   \n\n   D4_00013  D4_00015                        Ente  Total  Capital?   Id  \n0       NaN       NaN            Águas Frias - SC   60.0       Não  1.0  \n1       NaN       NaN   Santana da Boa Vista - RS   59.8       Não  2.0  \n2       NaN       NaN         Senador Amaral - MG   59.6       Não  3.0  \n3       NaN       NaN  Senador Salgado Filho - RS   59.6       Não  4.0  \n4       NaN       NaN  Conceição do Lago-Açu - MA   59.5       Não  5.0  \n\n[5 rows x 33 columns]\n"
     ],
     "output_type": "stream"
    }
   ],
   "source": [
    "import pandas as pd\n",
    "import numpy as np\n",
    "\n",
    "data_capag = pd.read_excel(r'C:\\Users\\fioro\\PycharmProjects\\ranking_cconf\\assets\\Testes_Ranking_CCONF_2020-CAPAG.xlsx', 'Municípios', usecols = col_gerais+col_capag)\n",
    "print(data_capag.head(5))\n",
    "\n",
    "data_nao_capag = pd.read_excel(r'C:\\Users\\fioro\\PycharmProjects\\ranking_cconf\\assets\\Testes_Ranking_CCONF_2020-CAPAG.xlsx', 'Municípios', usecols = col_gerais+col_nao_capag)\n",
    "print(data_nao_capag.head(5))"
   ]
  },
  {
   "cell_type": "markdown",
   "metadata": {
    "pycharm": {
     "name": "#%% md\n"
    }
   },
   "source": [
    "Os nomes dos municípios e e estados estão agrupados na coluna \"BV\", vamos separá-los"
   ]
  },
  {
   "cell_type": "code",
   "execution_count": 9,
   "outputs": [],
   "source": [
    "#data['Ente'] = Cod_UF.ESTADO.str[-2:]\n"
   ],
   "metadata": {
    "collapsed": false,
    "pycharm": {
     "name": "#%%\n",
     "is_executing": false
    }
   }
  }
 ],
 "metadata": {
  "kernelspec": {
   "display_name": "Python 3",
   "language": "python",
   "name": "python3"
  },
  "language_info": {
   "codemirror_mode": {
    "name": "ipython",
    "version": 3
   },
   "file_extension": ".py",
   "mimetype": "text/x-python",
   "name": "python",
   "nbconvert_exporter": "python",
   "pygments_lexer": "ipython3",
   "version": "3.7.9"
  },
  "pycharm": {
   "stem_cell": {
    "cell_type": "raw",
    "source": [],
    "metadata": {
     "collapsed": false
    }
   }
  }
 },
 "nbformat": 4,
 "nbformat_minor": 1
}