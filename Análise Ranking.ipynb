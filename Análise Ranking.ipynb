{
 "cells": [
  {
   "cell_type": "markdown",
   "metadata": {
    "collapsed": true
   },
   "source": [
    "# Análise Ranking CCONF\n",
    "\n",
    "Neste notebook vamos analisar a aba municípios da planilha que contém os dados sobre a aplicação dos critérios \n",
    "elaborados pela CCONF. Previamente, juntamos a lista de municípios que tiveram CAPAG analisada e \n",
    "concluída pela GERAP/CORFI em 2020 (coluna \"capag_analis\"= True) a estes dados,  bem como a lista de municípios que tiveram \n",
    "operação de crédito aprovada em 2020 (coluna \"oper_aprov\" = True), de forma que a análise poderá ser feita na lista completa\n",
    "de municípios da CCONF ou em um destes dois subgrupos. \n",
    "\n",
    "Vamos lá!"
   ]
  },
  {
   "cell_type": "markdown",
   "metadata": {},
   "source": [
    "## Preparação: importando os dados da planilha\n",
    "Começamos importando os dados da planilha para dentro de um Data Frame para podermos manipulá-los no python:"
   ]
  },
  {
   "cell_type": "markdown",
   "source": [
    "Vamos criar duas variáveis que guardam as colunas que: \n",
    "a) São relacionadas à capag:\n",
    "b) Não são relacionadas à capag"
   ],
   "metadata": {
    "collapsed": false
   }
  },
  {
   "cell_type": "code",
   "execution_count": 18,
   "outputs": [],
   "source": [
    "col_capag = \"BV, BZ,S:W, Y:AA, AL:AN, AS, AU: BA, BD:BF, BM, BO, BQ, BS, BU, CB, CC\"\n",
    "col_nao_capag = \"BV, BZ, B:R,X,AB:AK, AO:AR, AT, BB:BC, BG:BL, BN, BP, BR, BT, CB, CC\"\n",
    "col_gerais = \"A,BV, BW,BX,BY,BZ, CA, CB, CC\"\n",
    "col_id = \"A\""
   ],
   "metadata": {
    "collapsed": false,
    "pycharm": {
     "name": "#%%\n",
     "is_executing": false
    }
   }
  },
  {
   "cell_type": "markdown",
   "source": [
    "Criando os Data Frames usando a library pandas"
   ],
   "metadata": {
    "collapsed": false
   }
  },
  {
   "cell_type": "code",
   "execution_count": 19,
   "metadata": {
    "pycharm": {
     "is_executing": false
    }
   },
   "outputs": [
    {
     "name": "stdout",
     "text": [
      "D2_00003         int64\nD2_00004         int64\nD2_00005         int64\nD2_00006         int64\nD2_00007         int64\nD2_00010         int64\nD2_00011         int64\nD2_00012         int64\nD2_00023         int64\nD2_00024         int64\nD2_00028         int64\nD2_00033         int64\nD3_00002         int64\nD3_00003         int64\nD3_00005         int64\nD3_00006         int64\nD3_00007         int64\nD3_00008         int64\nD3_00009         int64\nD3_00012         int64\nD3_00013         int64\nD4_00001         int64\nD4_00008         int64\nD4_00010         int64\nD4_00012         int64\nD4_00014         int64\nD4_00016         int64\nEnte            object\nUF              object\noper_aprov        bool\ncapag_analis      bool\ndtype: object\n(5568, 31)\n",
      "D1_00001        float64\nD1_00002          int64\nD1_00003        float64\nD1_00004        float64\nD1_00005          int64\nD1_00006        float64\nD1_00007          int64\nD1_00008        float64\nD1_00009        float64\nD1_00010          int64\nD1_00011        float64\nD1_00012        float64\nD1_00013        float64\nD1_00014        float64\nD1_00015          int64\nD2_00001          int64\nD2_00002          int64\nD2_00008          int64\nD2_00013          int64\nD2_00014          int64\nD2_00015          int64\nD2_00016        float64\nD2_00017        float64\nD2_00018        float64\nD2_00019          int64\nD2_00020        float64\nD2_00021        float64\nD2_00022          int64\nD2_00029          int64\nD2_00030          int64\nD2_00031          int64\nD2_00032          int64\nD3_00001          int64\nD3_00010          int64\nD3_00011          int64\nD4_00002          int64\nD4_00003          int64\nD4_00004          int64\nD4_00005          int64\nD4_00006          int64\nD4_00007          int64\nD4_00009        float64\nD4_00011        float64\nD4_00013        float64\nD4_00015        float64\nEnte             object\nUF               object\noper_aprov         bool\ncapag_analis       bool\ndtype: object\n(5568, 49)\n",
      "D1_00001        float64\nD1_00002          int64\nD1_00003        float64\nD1_00004        float64\nD1_00005          int64\n                 ...   \nD4_00016          int64\nEnte             object\nUF               object\noper_aprov         bool\ncapag_analis       bool\nLength: 76, dtype: object\n(5568, 76)\n"
     ],
     "output_type": "stream"
    }
   ],
   "source": [
    "import pandas as pd\n",
    "import numpy as np\n",
    "\n",
    "data_capag = pd.read_excel(r'C:\\Users\\fioro\\PycharmProjects\\ranking_cconf\\assets\\Testes_Ranking_CCONF_2020-CAPAG.xlsx', 'Municípios', usecols =  col_capag , skipfooter = 1, dtype = {\"Capital?\":bool},true_values = [\"Sim\"],false_values = [\"Não\"] )\n",
    "print(data_capag.dtypes)\n",
    "print(data_capag.shape)\n",
    "#print(data_capag.head(5))\n",
    "\n",
    "data_nao_capag = pd.read_excel(r'C:\\Users\\fioro\\PycharmProjects\\ranking_cconf\\assets\\Testes_Ranking_CCONF_2020-CAPAG.xlsx', 'Municípios', usecols =  col_nao_capag , skipfooter = 1, dtype = {\"Capital?\":bool},true_values = [\"Sim\"],false_values = [\"Não\"])\n",
    "print(data_nao_capag.dtypes)\n",
    "print(data_nao_capag.shape)\n",
    "#print(data_nao_capag.head(5))\n",
    "\n",
    "data_total = pd.read_excel(r'C:\\Users\\fioro\\PycharmProjects\\ranking_cconf\\assets\\Testes_Ranking_CCONF_2020-CAPAG.xlsx', 'Municípios', usecols = col_nao_capag + col_capag, skipfooter = 1, dtype = {\"Capital?\":bool},true_values = [\"Sim\"],false_values = [\"Não\"])\n",
    "print(data_total.dtypes)\n",
    "print(data_total.shape)\n",
    "#print(data_total.head(5))"
   ]
  },
  {
   "cell_type": "markdown",
   "source": [
    "## Escolha o conjunto de dados que quer usar na variável abaixo:\n",
    "\n",
    "0 = Lista completa com 5568 municípios\n",
    "1 = Lista de 45 municípios que tiveram CAPAG analisada e concluída pela GERAP/CORFI em 2020 (coluna \"capag_analis\"= True)\n",
    "2 - lista de 102 municípios que tiveram  operação de crédito aprovada em 2020 (coluna \"oper_aprov\" = True)"
   ],
   "metadata": {
    "collapsed": false,
    "pycharm": {
     "name": "#%% md\n"
    }
   }
  },
  {
   "cell_type": "code",
   "execution_count": 20,
   "outputs": [
    {
     "name": "stdout",
     "text": [
      "Você escolheu trabalhar com a lista de 102 municípios que tiveram  operação de crédito aprovada\n"
     ],
     "output_type": "stream"
    }
   ],
   "source": [
    "conjunto_dados = 0\n",
    "\n",
    "if conjunto_dados == 1:\n",
    "        data_capag_analis= data_capag[data_capag['capag_analis']== True]\n",
    "        data_nao_capag_analis = data_nao_capag[data_nao_capag['capag_analis']== True]\n",
    "        data_total_analis= data_total[data_total['capag_analis']== True]\n",
    "        data_capag = data_capag_analis\n",
    "        data_nao_capag = data_nao_capag_analis\n",
    "        data_total = data_total_analis\n",
    "        print('Você escolheu trabalhar com a lista de 45 municípios que tiveram CAPAG analisada e concluída')\n",
    "elif conjunto_dados == 2:\n",
    "        data_capag_aprov = data_capag[data_capag['oper_aprov']== True]\n",
    "        data_nao_capag_aprov = data_nao_capag[data_nao_capag['oper_aprov']== True]\n",
    "        data_total_aprov= data_total[data_total['oper_aprov']== True]\n",
    "        data_capag = data_capag_aprov\n",
    "        data_nao_capag = data_nao_capag_aprov\n",
    "        data_total = data_total_aprov\n",
    "       \n",
    "        print('Você escolheu trabalhar com a lista de 102 municípios que tiveram  operação de crédito aprovada')\n",
    "else:\n",
    "        print('Você escolheu trabalhar com a lista completa')"
   ],
   "metadata": {
    "collapsed": false,
    "pycharm": {
     "name": "#%%\n",
     "is_executing": false
    }
   }
  },
  {
   "cell_type": "markdown",
   "metadata": {
    "pycharm": {
     "name": "#%% md\n"
    }
   },
   "source": [
    "## Análise Exploratória\n",
    "Antes de tudo, vamos criar uma função para calcular a função de distribuição acumulada, ela será útil para entendermos a dinâmica de como os entes passam ou não em cada grupo de testes"
   ]
  },
  {
   "cell_type": "code",
   "execution_count": 21,
   "outputs": [],
   "source": [
    "def ecdf(data):\n",
    "    \"\"\"Calcular a função de distribuição cumulativa (FDC) for a one-dimensional array of measurements.\"\"\"\n",
    "    # Número de pontos de dados: n\n",
    "    n = len(data)\n",
    "    # dados do eixo X para o FDC : x\n",
    "    x = np.sort(data)\n",
    "    # dados do eixo y para o FDC: y\n",
    "    y = np.arange(1, n+1) / n\n",
    "    return x, y"
   ],
   "metadata": {
    "collapsed": false,
    "pycharm": {
     "name": "#%%\n",
     "is_executing": false
    }
   }
  },
  {
   "cell_type": "markdown",
   "source": [
    "a.\tQual a média/proporção de cada um dos testes?"
   ],
   "metadata": {
    "collapsed": false
   }
  },
  {
   "cell_type": "code",
   "execution_count": 22,
   "outputs": [
    {
     "name": "stdout",
     "text": [
      "D1_00001        1.000000\nD1_00002        0.980392\nD1_00003        1.000000\nD1_00004        0.990196\nD1_00005        0.000000\n                  ...   \nD4_00014        0.754902\nD4_00015             NaN\nD4_00016        0.735294\noper_aprov      1.000000\ncapag_analis    0.186275\nLength: 74, dtype: float64\n"
     ],
     "output_type": "stream"
    }
   ],
   "source": [
    "medias_total = data_total.mean(axis=0)\n",
    "print(medias_total)"
   ],
   "metadata": {
    "collapsed": false,
    "pycharm": {
     "name": "#%%\n",
     "is_executing": false
    }
   }
  },
  {
   "cell_type": "markdown",
   "source": [
    "a.1\tQual a média/proporção de cada um dos testes não capag?"
   ],
   "metadata": {
    "collapsed": false
   }
  },
  {
   "cell_type": "code",
   "execution_count": 23,
   "outputs": [
    {
     "name": "stdout",
     "text": [
      "D1_00001        1.000000\nD1_00002        0.980392\nD1_00003        1.000000\nD1_00004        0.990196\nD1_00005        0.000000\nD1_00006        0.644118\nD1_00007        0.764706\nD1_00008        0.673529\nD1_00009        0.664706\nD1_00010        0.000000\nD1_00011        0.868627\nD1_00012        0.949020\nD1_00013        0.819608\nD1_00014        0.937255\nD1_00015        0.000000\nD2_00001        0.764706\nD2_00002        0.519608\nD2_00008        0.960784\nD2_00013        0.901961\nD2_00014        0.950980\nD2_00015        0.960784\nD2_00016             NaN\nD2_00017             NaN\nD2_00018             NaN\nD2_00019        0.950980\nD2_00020             NaN\nD2_00021             NaN\nD2_00022        0.892157\nD2_00029        0.882353\nD2_00030        0.911765\nD2_00031        0.872549\nD2_00032        0.274510\nD3_00001        0.588235\nD3_00010        0.754902\nD3_00011        0.764706\nD4_00002        0.637255\nD4_00003        0.627451\nD4_00004        0.803922\nD4_00005        0.431373\nD4_00006        0.431373\nD4_00007        0.529412\nD4_00009             NaN\nD4_00011             NaN\nD4_00013             NaN\nD4_00015             NaN\noper_aprov      1.000000\ncapag_analis    0.186275\ndtype: float64\n"
     ],
     "output_type": "stream"
    }
   ],
   "source": [
    "medias_ncapag = data_nao_capag.mean(axis=0)\n",
    "print(medias_ncapag)"
   ],
   "metadata": {
    "collapsed": false,
    "pycharm": {
     "name": "#%%\n",
     "is_executing": false
    }
   }
  },
  {
   "cell_type": "markdown",
   "source": [
    "a.1\tQual a média/proporção de cada um dos testes  capag?"
   ],
   "metadata": {
    "collapsed": false
   }
  },
  {
   "cell_type": "code",
   "execution_count": 24,
   "outputs": [
    {
     "name": "stdout",
     "text": [
      "D2_00003        0.931373\nD2_00004        0.941176\nD2_00005        0.950980\nD2_00006        0.960784\nD2_00007        0.960784\nD2_00010        0.960784\nD2_00011        0.960784\nD2_00012        0.852941\nD2_00023        0.950980\nD2_00024        0.950980\nD2_00028        0.931373\nD2_00033        0.911765\nD3_00002        0.813725\nD3_00003        0.833333\nD3_00005        0.941176\nD3_00006        0.500000\nD3_00007        0.725490\nD3_00008        0.549020\nD3_00009        0.588235\nD3_00012        0.980392\nD3_00013        0.852941\nD4_00001        0.754902\nD4_00008        0.764706\nD4_00010        0.725490\nD4_00012        0.607843\nD4_00014        0.754902\nD4_00016        0.735294\noper_aprov      1.000000\ncapag_analis    0.186275\ndtype: float64\n"
     ],
     "output_type": "stream"
    }
   ],
   "source": [
    "medias_capag = data_capag.mean(axis=0)\n",
    "print(medias_capag)"
   ],
   "metadata": {
    "collapsed": false,
    "pycharm": {
     "name": "#%%\n",
     "is_executing": false
    }
   }
  },
  {
   "cell_type": "markdown",
   "source": [
    "b.\tQual a distribuição das notas (somatório de todas as colunas)?\n",
    "i.\tLevando em consideração apenas os testes da CAPAG (colunas em amarelo)"
   ],
   "metadata": {
    "collapsed": false
   }
  },
  {
   "cell_type": "code",
   "execution_count": 25,
   "outputs": [
    {
     "name": "stdout",
     "text": [
      "5       28.0\n23      27.0\n35      28.0\n87      28.0\n122     27.0\n        ... \n4544    17.0\n4722     9.0\n4733     6.0\n4981     7.0\n5062     8.0\nName: sum, Length: 102, dtype: float64\n"
     ],
     "output_type": "stream"
    },
    {
     "data": {
      "text/plain": "<Figure size 432x288 with 1 Axes>",
      "image/png": "[encoded data removed]"
     },
     "metadata": {
      "needs_background": "light"
     },
     "output_type": "display_data"
    },
    {
     "data": {
      "text/plain": "<Figure size 432x288 with 1 Axes>",
      "image/png": "[encoded data removed]"
     },
     "metadata": {
      "needs_background": "light"
     },
     "output_type": "display_data"
    }
   ],
   "source": [
    "if \"sum\" in data_capag:\n",
    "     data_capag[\"sum\"].values[:] = 0\n",
    "data_capag[\"sum\"] = data_capag.sum(axis=1)\n",
    "print(data_capag[\"sum\"])\n",
    "#Plotando a  função de distribuição cumulativa (FDC): vamos gerar as variáveis  x_dist, y_dist. A primeira terá \n",
    "#todas as notas acumuladas, da menor até a maior. \n",
    "import matplotlib.pyplot as plt\n",
    "x_dist, y_dist = ecdf(data_capag['sum'])\n",
    "# Greando o plot\n",
    "_= plt.plot(x_dist, y_dist, marker = \".\", linestyle = 'none')\n",
    "# Rotulando os eixos\n",
    "_= plt.xlabel('Soma de Todas as Notas - Critérios Capag')\n",
    "_= plt.ylabel('FDC')\n",
    "# Mostrando o plot\n",
    "plt.show()\n",
    "#plotando o histograma da coluna das notas\n",
    "_=plt.hist(data_capag['sum'])\n",
    "_=plt.xlabel('Nota Obtida - Critérios Capag')\n",
    "_=plt.ylabel('Número de entes')\n",
    "plt.show()"
   ],
   "metadata": {
    "collapsed": false,
    "pycharm": {
     "name": "#%%\n",
     "is_executing": false
    }
   }
  },
  {
   "cell_type": "markdown",
   "source": [
    "b.\tQual a distribuição das notas (somatório de todas as colunas)?\n",
    "ii.\tLevando em consideração apenas os testes que não são da CAPAG (colunas não pintadas)"
   ],
   "metadata": {
    "collapsed": false
   }
  },
  {
   "cell_type": "code",
   "execution_count": 26,
   "outputs": [
    {
     "name": "stdout",
     "text": [
      "5       33.4\n23      33.8\n35      32.6\n87      31.6\n122     32.0\n        ... \n4544    20.1\n4722    11.0\n4733    15.7\n4981     9.5\n5062     9.7\nName: sum, Length: 102, dtype: float64\n"
     ],
     "output_type": "stream"
    },
    {
     "data": {
      "text/plain": "<Figure size 432x288 with 1 Axes>",
      "image/png": "[encoded data removed]"
     },
     "metadata": {
      "needs_background": "light"
     },
     "output_type": "display_data"
    },
    {
     "data": {
      "text/plain": "<Figure size 432x288 with 1 Axes>",
      "image/png": "[encoded data removed]"
     },
     "metadata": {
      "needs_background": "light"
     },
     "output_type": "display_data"
    }
   ],
   "source": [
    "if \"sum\" in data_nao_capag:\n",
    "     data_nao_capag[\"sum\"].values[:] = 0\n",
    "data_nao_capag[\"sum\"] = data_nao_capag.sum(axis=1)\n",
    "print(data_nao_capag[\"sum\"])\n",
    "\n",
    "#Plotando a  função de distribuição cumulativa (FDC): vamos gerar as variáveus  x_dist, y_dist. A primeira, terá \n",
    "#todas as notas acumuladas, da menor até a maior. \n",
    "\n",
    "import matplotlib.pyplot as plt\n",
    "x_dist_nc, y_dist_nc = ecdf(data_nao_capag['sum'])\n",
    "_= plt.plot(x_dist_nc, y_dist_nc, marker = \".\", linestyle = 'none')\n",
    "_= plt.xlabel('Soma de Todas as Notas - Critérios Não Capag')\n",
    "_= plt.ylabel('FDC')\n",
    "plt.show()\n",
    "\n",
    "#plotando o histograma da coluna das notas\n",
    "_=plt.hist(data_nao_capag['sum'])\n",
    "_=plt.xlabel('Nota Obtida - Critérios Não Capag')\n",
    "_=plt.ylabel('Número de entes')\n",
    "plt.show()\n",
    "\n",
    "\n"
   ],
   "metadata": {
    "collapsed": false,
    "pycharm": {
     "name": "#%%\n",
     "is_executing": false
    }
   }
  },
  {
   "cell_type": "markdown",
   "source": [
    "b.\tQual a distribuição das notas (somatório de todas as colunas)?\n",
    "iii.\tLevando em consideração todos os testes"
   ],
   "metadata": {
    "collapsed": false
   }
  },
  {
   "cell_type": "code",
   "execution_count": 27,
   "outputs": [
    {
     "name": "stdout",
     "text": [
      "5       60.4\n23      59.8\n35      59.6\n87      58.6\n122     58.0\n        ... \n4544    36.1\n4722    19.0\n4733    19.7\n4981    15.5\n5062    15.7\nName: sum, Length: 102, dtype: float64\n"
     ],
     "output_type": "stream"
    },
    {
     "data": {
      "text/plain": "<Figure size 432x288 with 1 Axes>",
      "image/png": "[encoded data removed]"
     },
     "metadata": {
      "needs_background": "light"
     },
     "output_type": "display_data"
    },
    {
     "data": {
      "text/plain": "<Figure size 432x288 with 1 Axes>",
      "image/png": "[encoded data removed]"
     },
     "metadata": {
      "needs_background": "light"
     },
     "output_type": "display_data"
    }
   ],
   "source": [
    "if \"sum\" in data_total:\n",
    "     data_total[\"sum\"].values[:] = 0\n",
    "data_total[\"sum\"] = data_total.sum(axis=1)\n",
    "print(data_total[\"sum\"])\n",
    "\n",
    "#Plotando a função de distribuição cumulativa (FDC): vamos gerar as variáveis  x_dist, y_dist. A primeira, terá \n",
    "#todas as notas acumuladas, da menor até a maior. \n",
    "import matplotlib.pyplot as plt\n",
    "x_dist_total, y_dist_total = ecdf(data_total['sum'])\n",
    "_= plt.plot(x_dist_total, y_dist_total, marker = \".\", linestyle = 'none')\n",
    "_= plt.xlabel('Soma de Todas as Notas - Todos Critérios')\n",
    "_= plt.ylabel('FDC')\n",
    "plt.show()\n",
    "#plotando o histograma da coluna das notas\n",
    "_=plt.hist(data_total['sum'])\n",
    "_=plt.xlabel('Nota Obtida - Todos os Critérios')\n",
    "_=plt.ylabel('Número de entes')\n",
    "plt.show()"
   ],
   "metadata": {
    "collapsed": false,
    "pycharm": {
     "name": "#%%\n",
     "is_executing": false
    }
   }
  },
  {
   "cell_type": "markdown",
   "source": [
    "## Simulações de classificação \n",
    "Vamos agora realizar 3 tipos de simulações. "
   ],
   "metadata": {
    "collapsed": false
   }
  },
  {
   "cell_type": "markdown",
   "source": [
    "### a.\tAlternativa I: classificação conjunta em duas etapas"
   ],
   "metadata": {
    "collapsed": false
   }
  },
  {
   "cell_type": "markdown",
   "source": [
    "#### i.\tPrimeiro,  somando todos os testes relacionados à CAPAG"
   ],
   "metadata": {
    "collapsed": false,
    "pycharm": {
     "name": "#%% md\n"
    }
   }
  },
  {
   "cell_type": "markdown",
   "source": [
    "##### i.\t1.\tCaso o município tenha resultado maior ou igual a x, classifique-o na zona 1"
   ],
   "metadata": {
    "collapsed": false
   }
  },
  {
   "cell_type": "code",
   "execution_count": 28,
   "outputs": [
    {
     "name": "stdout",
     "text": [
      "Total de Entes :102\nO número de entes de aprovados na zona 1 com nota de corte de 24 seria de: 64\nO percentual de aprovados na zona 1 seria de : 62.75%\n"
     ],
     "output_type": "stream"
    }
   ],
   "source": [
    "#>>>>> ALTERE A VARIÁVEL ABAIXO e pressione \"CTRL + ENTER\" para simular com outra nota de corte.\n",
    "nota_corte_capag = 24\n",
    "\n",
    "if 'Aprovado' in data_capag:\n",
    "     data_capag['Aprovado'].values[:] = 0\n",
    "\n",
    "#Gerando a coluna com os aprovados \n",
    "\n",
    "data_capag['Aprovado'] = np.where(data_capag[\"sum\"]>= nota_corte_capag, True, False)\n",
    "#print(data_capag['Aprovado'].head(200))\n",
    "\n",
    "# Calculando o percentual de aprovados \n",
    "n_entes = data_capag.shape[0]\n",
    "print('Total de Entes :' + str(n_entes))\n",
    "num_aprovados = sum(data_capag['Aprovado'])\n",
    "print('O número de entes de aprovados na zona 1 com nota de corte de ' + str(nota_corte_capag) + ' seria de: ' + str(num_aprovados))\n",
    "print('O percentual de aprovados na zona 1 seria de : ' + \"{:.2%}\".format(num_aprovados/n_entes))"
   ],
   "metadata": {
    "collapsed": false,
    "pycharm": {
     "name": "#%%\n",
     "is_executing": false
    }
   }
  },
  {
   "cell_type": "markdown",
   "source": [
    "#### ii.\tSomando os testes não relacionados à CAPAG\n",
    "##### 1.\tSe o ente estiver na zona 1\n",
    "    a.\tCaso o ente tenha resultado maior ou igual a y1, classifique-o com nota final A\n",
    "    b.\tCaso o ente tenha resultado maior ou igual a y2 e menor que y1, classifique-o com nota final B\n",
    "    c.\tCaso o ente tenha resultado menor que y3, classifique-o com nota final C (erro: tenha resultado menor do que y2)\n",
    "##### 2.\tSe o ente estiver na zona 2\n",
    "    a.\tCaso o ente tenha resultado maior ou igual a y3, classifique-o com nota final D\n",
    "    b.\tCaso o ente tenha resultado menor que y3, classifique-o com nota final E"
   ],
   "metadata": {
    "collapsed": false
   }
  },
  {
   "cell_type": "code",
   "execution_count": 29,
   "outputs": [
    {
     "name": "stdout",
     "text": [
      "    D1_00001  D1_00002  D1_00003  D1_00004  D1_00005  D1_00006  D1_00007  \\\n5        1.0         1       1.0       1.0         0       1.0         1   \n23       1.0         1       1.0       1.0         0       1.0         1   \n35       1.0         1       1.0       1.0         0       0.8         1   \n\n    D1_00008  D1_00009  D1_00010  ...  D4_00009  D4_00011  D4_00013  D4_00015  \\\n5        1.0       1.0         0  ...       NaN       NaN       NaN       NaN   \n23       1.0       1.0         0  ...       NaN       NaN       NaN       NaN   \n35       1.0       1.0         0  ...       NaN       NaN       NaN       NaN   \n\n               Ente  UF  oper_aprov  capag_analis   sum  Aprovado  \n5    Belo Horizonte  MG        True         False  33.4      True  \n23    Caxias do Sul  RS        True         False  33.8      True  \n35  Doutor Pedrinho  SC        True         False  32.6      True  \n\n[3 rows x 51 columns]\n"
     ],
     "output_type": "stream"
    }
   ],
   "source": [
    "# Selecionando a coluna dos aprovados/reprovados na zona 1\n",
    "df_aprovados = data_capag.Aprovado\n",
    "# Trazendo a coluna dos aprovados nos critérios de Capag (zona 1) para o Data Frame que contém os critérios não relacionados à Capag \n",
    "data_nao_capag_c_a = pd.concat([data_nao_capag, df_aprovados], axis=1)\n",
    "#verificando a concatenação\n",
    "data_nao_capag_c_a.columns\n",
    "print(data_nao_capag_c_a.head(3))\n",
    "# calculando a nota dos critérios não capag\n",
    "#>>>> ALETERE OS VALORES ABAIXO para simular com outras notas de CORTE\n",
    "nota_corte_y1 = 28\n",
    "nota_corte_y2 = 20\n",
    "nota_corte_y3 = 15\n",
    "\n",
    "# criando a lista das 5 condições\n",
    "conditions = [\n",
    "    (data_nao_capag_c_a['Aprovado'] ) & (data_nao_capag_c_a['sum'] >= nota_corte_y1),\n",
    "    (data_nao_capag_c_a['Aprovado'] ) & ((data_nao_capag_c_a['sum'] < nota_corte_y1) & (data_nao_capag_c_a['sum'] >= nota_corte_y2)),\n",
    "    (data_nao_capag_c_a['Aprovado'] ) & (data_nao_capag_c_a['sum'] <  nota_corte_y2),        \n",
    "    (~ data_nao_capag_c_a['Aprovado'] ) & (data_nao_capag_c_a['sum'] >= nota_corte_y3),\n",
    "    (~ data_nao_capag_c_a['Aprovado'] ) & (data_nao_capag_c_a['sum'] < nota_corte_y3)\n",
    "    ]\n",
    "# criando a lista de valores que queremos associar a cada condição\n",
    "values = ['A', 'B', 'C', 'D', 'E']\n",
    "\n",
    "if 'capag' in data_nao_capag_c_a:\n",
    "     data_nao_capag_c_a['capag'].values[:] = 0\n",
    "\n",
    "# criando uma nova coluna e usando o np.select para associar os valores usando nossa lista como argumento\n",
    "data_nao_capag_c_a['capag'] = np.select(conditions, values)\n"
   ],
   "metadata": {
    "collapsed": false,
    "pycharm": {
     "name": "#%%\n",
     "is_executing": false
    }
   }
  },
  {
   "cell_type": "code",
   "execution_count": 30,
   "outputs": [
    {
     "name": "stdout",
     "text": [
      "    UF capag  size\n0   AM     A     1\n1   BA     A     1\n2   BA     D     5\n3   CE     A     4\n4   CE     B     2\n5   CE     D     1\n6   ES     A     1\n7   ES     D     1\n8   MA     B     1\n9   MG     A     2\n10  MG     B     2\n11  MG     D     5\n12  MG     E     2\n13  MS     B     1\n14  MS     D     1\n15  PA     A     1\n16  PA     B     1\n17  PB     D     2\n18  PB     E     1\n19  PI     B     2\n20  PI     D     1\n21  PR     A     4\n22  PR     B     2\n23  PR     D     5\n24  RJ     B     1\n25  RJ     D     3\n26  RN     D     1\n27  RR     D     1\n28  RS     A     9\n29  RS     D     3\n30  SC     A    15\n31  SC     B     3\n32  SC     D     1\n33  SP     A     1\n34  SP     B     9\n35  SP     D     3\n36  TO     B     1\n37  TO     D     2\n              size\nUF capag          \nAM A      1.000000\nBA A      0.166667\n   D      0.833333\nCE A      0.571429\n   B      0.285714\n   D      0.142857\nES A      0.500000\n   D      0.500000\nMA B      1.000000\nMG A      0.181818\n   B      0.181818\n   D      0.454545\n   E      0.181818\nMS B      0.500000\n   D      0.500000\nPA A      0.500000\n   B      0.500000\nPB D      0.666667\n   E      0.333333\nPI B      0.666667\n   D      0.333333\nPR A      0.363636\n   B      0.181818\n   D      0.454545\nRJ B      0.250000\n   D      0.750000\nRN D      1.000000\nRR D      1.000000\nRS A      0.750000\n   D      0.250000\nSC A      0.789474\n   B      0.157895\n   D      0.052632\nSP A      0.076923\n   B      0.692308\n   D      0.230769\nTO B      0.333333\n   D      0.666667\n"
     ],
     "output_type": "stream"
    }
   ],
   "source": [
    "# Mostrando a Tabela final com a classificação\n",
    "#data_nao_capag_c_a.head(10)\n",
    "#Mostrando a quantidade de entes em cada classe de nota por estado\n",
    "class_alt1 = data_nao_capag_c_a.groupby(['UF', 'capag']).size().to_frame('size').reset_index().sort_values(['UF', 'capag'], ascending=[True, True])\n",
    "print(class_alt1)\n",
    "# Mostrando a quantidade de entes por UF\n",
    "#uf = data_nao_capag_c_a.groupby(['UF']).size().to_frame('size')\n",
    "#print (uf)\n",
    "# Fazendo a divisão final para mostrar as notas por UF em termos percentuais. \n",
    "c = data_nao_capag_c_a.groupby(['UF', 'capag']).size().to_frame('size')\n",
    "class_alt1_final = c / c.groupby(level=0).sum()\n",
    "\n",
    "###### Tabela de Classificação Final - Alternativa 1 - Percentuais por Estado\n",
    "\n",
    "print (class_alt1_final)"
   ],
   "metadata": {
    "collapsed": false,
    "pycharm": {
     "name": "#%%\n",
     "is_executing": false
    }
   }
  },
  {
   "cell_type": "markdown",
   "source": [
    "###### Exportando a simulação da alternativa 1 para o Excel"
   ],
   "metadata": {
    "collapsed": false
   }
  },
  {
   "cell_type": "code",
   "execution_count": 31,
   "outputs": [],
   "source": [
    "with pd.ExcelWriter('sim_alt1_c_dados.xlsx') as writer:  \n",
    "    class_alt1.to_excel(writer, sheet_name='Res_Simul_1')\n",
    "    class_alt1_final.to_excel(writer, sheet_name='Res_F_Simul_1')\n",
    "    data_nao_capag_c_a.to_excel(writer, sheet_name='Dados_Simul_1')"
   ],
   "metadata": {
    "collapsed": false,
    "pycharm": {
     "name": "#%%\n",
     "is_executing": false
    }
   }
  },
  {
   "cell_type": "markdown",
   "source": [
    "### b.\tAlternativa II: classificação dupla (AA, AB etc)"
   ],
   "metadata": {
    "collapsed": false,
    "pycharm": {
     "name": "#%% md\n"
    }
   }
  },
  {
   "cell_type": "markdown",
   "source": [
    "#### i.\t Primeiro, somando todos os testes relacionados à CAPAG\n",
    "    1.\tCaso o município tenha resultado maior ou igual a z, classifique-o com a primeira entrada “A”\n",
    "    2.\tCaso contrário, primeira entrada “B”"
   ],
   "metadata": {
    "collapsed": false
   }
  },
  {
   "cell_type": "code",
   "execution_count": 32,
   "outputs": [
    {
     "name": "stdout",
     "text": [
      "Total de Entes :102\nO número de entes de aprovados - classificação A - com nota de corte de 10 seria de: 98\nO percentual de aprovados com classificação A seria de : 96.08%\n      D2_00003  D2_00004  D2_00005  D2_00006  D2_00007  D2_00010  D2_00011  \\\n5            1         1         1         1         1         1         1   \n23           1         1         1         1         1         1         1   \n35           1         1         1         1         1         1         1   \n87           1         1         1         1         1         1         1   \n122          1         1         1         1         1         1         1   \n...        ...       ...       ...       ...       ...       ...       ...   \n4544         1         1         1         1         1         1         1   \n4722         0         0         0         0         0         0         0   \n4733         0         0         0         0         0         0         0   \n4981         0         0         0         0         0         0         0   \n5062         0         0         0         0         0         0         0   \n\n      D2_00012  D2_00023  D2_00024  ...  D4_00012  D4_00014  D4_00016  \\\n5            1         1         1  ...         1         1         1   \n23           1         1         1  ...         1         1         1   \n35           1         1         1  ...         1         1         1   \n87           1         1         1  ...         1         1         1   \n122          1         1         1  ...         0         1         1   \n...        ...       ...       ...  ...       ...       ...       ...   \n4544         1         1         1  ...         0         0         0   \n4722         0         0         0  ...         0         0         0   \n4733         0         0         0  ...         0         0         0   \n4981         0         0         0  ...         0         0         0   \n5062         0         0         0  ...         0         0         0   \n\n                 Ente  UF  oper_aprov  capag_analis   sum  Aprovado  \\\n5      Belo Horizonte  MG        True         False  28.0      True   \n23      Caxias do Sul  RS        True         False  27.0      True   \n35    Doutor Pedrinho  SC        True         False  28.0      True   \n87           Curitiba  PR        True         False  28.0      True   \n122         Fortaleza  CE        True         False  27.0      True   \n...               ...  ..         ...           ...   ...       ...   \n4544   Barra do Piraí  RJ        True         False  17.0     False   \n4722      Crucilândia  MG        True         False   9.0     False   \n4733      Santo André  PB        True          True   6.0     False   \n4981     Santa Helena  PB        True         False   7.0     False   \n5062       Ouro Preto  MG        True          True   8.0     False   \n\n      Aprovado_II_A  \n5              True  \n23             True  \n35             True  \n87             True  \n122            True  \n...             ...  \n4544           True  \n4722          False  \n4733          False  \n4981          False  \n5062          False  \n\n[102 rows x 34 columns]\n"
     ],
     "output_type": "stream"
    }
   ],
   "source": [
    "#>>>>> ALTERE A VARIÁVEL ABAIXO e pressione \"CTRL + ENTER\" para simular com outra nota de corte.\n",
    "nota_corte_capag_z = 10\n",
    "\n",
    "if 'Aprovado_II_A' in data_capag:\n",
    "     data_capag['Aprovado_II_A'].values[:] = 0\n",
    "\n",
    "#Gerando a coluna com os aprovados \n",
    "data_capag['Aprovado_II_A'] = np.where(data_capag[\"sum\"]>= nota_corte_capag_z, True, False)\n",
    "#print(data_capag['Aprovado'].head(200))\n",
    "\n",
    "# Calculando o percentual de aprovados \n",
    "n_entes_II = data_capag.shape[0]\n",
    "print('Total de Entes :' + str(n_entes))\n",
    "num_aprovados_II = sum(data_capag['Aprovado_II_A'])\n",
    "print('O número de entes de aprovados - classificação A - com nota de corte de ' + str(nota_corte_capag_z) + ' seria de: ' + str(num_aprovados_II))\n",
    "print('O percentual de aprovados com classificação A seria de : ' + \"{:.2%}\".format(num_aprovados_II/n_entes_II))\n",
    "\n",
    "print (data_capag)"
   ],
   "metadata": {
    "collapsed": false,
    "pycharm": {
     "name": "#%%\n",
     "is_executing": false
    }
   }
  },
  {
   "cell_type": "markdown",
   "source": [
    "#### ii. Depois, somando todos os testes (inclusive os da CAPAG)\n",
    "    1.\tCaso o ente tenha nota maior ou igual a k1, classifique-o com a segunda entrada “A”\n",
    "    2.\tCaso o ente tenha nota menor que k1, mas maior ou igual a k2, classifique-o com a segunda entrada “B”\n",
    "    3.\tCaso o ente tenha nota menor que k2, classifique-o com a segunda entrada “C”\n",
    "#### iii. Depois, combinando a primeira entrada com a segunda. Registre o resultado\n"
   ],
   "metadata": {
    "collapsed": false
   }
  },
  {
   "cell_type": "code",
   "execution_count": 33,
   "outputs": [
    {
     "name": "stdout",
     "text": [
      "    D1_00001  D1_00002  D1_00003  D1_00004  D1_00005  D1_00006  D1_00007  \\\n5        1.0         1       1.0       1.0         0       1.0         1   \n23       1.0         1       1.0       1.0         0       1.0         1   \n35       1.0         1       1.0       1.0         0       0.8         1   \n\n    D1_00008  D1_00009  D1_00010  ...  D4_00013  D4_00014  D4_00015  D4_00016  \\\n5        1.0       1.0         0  ...       NaN         1       NaN         1   \n23       1.0       1.0         0  ...       NaN         1       NaN         1   \n35       1.0       1.0         0  ...       NaN         1       NaN         1   \n\n               Ente  UF  oper_aprov  capag_analis   sum  Aprovado_II_A  \n5    Belo Horizonte  MG        True         False  60.4           True  \n23    Caxias do Sul  RS        True         False  59.8           True  \n35  Doutor Pedrinho  SC        True         False  59.6           True  \n\n[3 rows x 78 columns]\n    UF capag_II  size\n0   AM       AA     1\n1   BA       AA     6\n2   CE       AA     7\n3   ES       AA     2\n4   MA       AA     1\n5   MG       AA     7\n6   MG       AC     2\n7   MG       BC     2\n8   MS       AA     2\n9   PA       AA     2\n10  PB       AA     1\n11  PB       BC     2\n12  PI       AA     3\n13  PR       AA    11\n14  RJ       AA     3\n15  RJ       AC     1\n16  RN       AA     1\n17  RR       AC     1\n18  RS       AA    12\n19  SC       AA    19\n20  SP       AA    13\n21  TO       AA     3\n                 size\nUF capag_II          \nAM AA        1.000000\nBA AA        1.000000\nCE AA        1.000000\nES AA        1.000000\nMA AA        1.000000\nMG AA        0.636364\n   AC        0.181818\n   BC        0.181818\nMS AA        1.000000\nPA AA        1.000000\nPB AA        0.333333\n   BC        0.666667\nPI AA        1.000000\nPR AA        1.000000\nRJ AA        0.750000\n   AC        0.250000\nRN AA        1.000000\nRR AC        1.000000\nRS AA        1.000000\nSC AA        1.000000\nSP AA        1.000000\nTO AA        1.000000",
      "\n"
     ],
     "output_type": "stream"
    }
   ],
   "source": [
    "# Selecionando a coluna dos aprovados - classificação A\n",
    "df_aprovados_total = data_capag.Aprovado_II_A\n",
    "# Trazendo a coluna dos aprovados no critério classificação A para o Data Frame que contém os todos os critérios da CCONF (Capag e Não Capag)\n",
    "data_total_c_a = pd.concat([data_total, df_aprovados_total], axis=1)\n",
    "#verificando a concatenação\n",
    "data_total_c_a.columns\n",
    "print(data_total_c_a.head(3))\n",
    "# calculando a nota com todos os critérios\n",
    "#>>>> ALETERE OS VALORES ABAIXO para simular com outras notas de CORTE\n",
    "nota_corte_k1 = 40\n",
    "nota_corte_k2 = 70\n",
    "\n",
    "# criando a lista das 5 condições\n",
    "conditions = [\n",
    "    (data_total_c_a['Aprovado_II_A'] ) & (data_total_c_a['sum'] >= nota_corte_k1),\n",
    "    (data_total_c_a['Aprovado_II_A'] ) & ((data_total_c_a['sum'] < nota_corte_k1) & (data_total_c_a['sum'] >= nota_corte_k2)),\n",
    "    (data_total_c_a['Aprovado_II_A'] ) & (data_total_c_a['sum'] <  nota_corte_k2),        \n",
    "    (~ data_total_c_a['Aprovado_II_A'] ) & (data_total_c_a['sum'] >= nota_corte_k1),\n",
    "    (~ data_total_c_a['Aprovado_II_A'] ) & ((data_total_c_a['sum'] < nota_corte_k1) & (data_total_c_a['sum'] >= nota_corte_k2)),\n",
    "    (~ data_total_c_a['Aprovado_II_A'] ) & (data_total_c_a['sum'] <  nota_corte_k2)           \n",
    "    ]\n",
    "# criando a lista de valores que queremos associar a cada condição\n",
    "values = ['AA', 'AB', 'AC', 'BA', 'BB', 'BC']\n",
    "\n",
    "# criando uma nova coluna e usando o np.select para associar os valores usando nossa lista como argumento\n",
    "data_total_c_a['capag_II'] = np.select(conditions, values)\n",
    "\n",
    "# Mostrando a Tabela final com a classificação\n",
    "#data_total_c_a.head(10)\n",
    "# Mostrando a quantidade de entes em cada classe de nota por estado\n",
    "class_alt2 = data_total_c_a.groupby(['UF', 'capag_II']).size().to_frame('size').reset_index().sort_values(['UF', 'capag_II'], ascending=[True, True])\n",
    "print(class_alt2)\n",
    "# Mostrando a quantidade de entes por UF\n",
    "#uf_2 = data_total_c_a.groupby(['UF']).size().to_frame('size')\n",
    "#print (uf_2)\n",
    "# Fazendo a divisão final para mostrar as notas por UF em termos percentuais. \n",
    "c_2 = data_total_c_a.groupby(['UF', 'capag_II']).size().to_frame('size')\n",
    "class_alt2_final = c_2 / c_2.groupby(level=0).sum()\n",
    "\n",
    "###### Tabela de Classificação Final - Alternativa 2 - Percentuais por Estado\n",
    "\n",
    "print (class_alt2_final)"
   ],
   "metadata": {
    "collapsed": false,
    "pycharm": {
     "name": "#%%\n",
     "is_executing": false
    }
   }
  },
  {
   "cell_type": "markdown",
   "source": [
    "###### Exportando a simulação da alternativa 2 para o Excel"
   ],
   "metadata": {
    "collapsed": false
   }
  },
  {
   "cell_type": "code",
   "execution_count": 34,
   "outputs": [],
   "source": [
    "with pd.ExcelWriter('sim_alt2_c_dados.xlsx') as writer:  \n",
    "    class_alt2.to_excel(writer, sheet_name='Res_Simul_2')\n",
    "    class_alt2_final.to_excel(writer, sheet_name='Res_F_Simul_2')\n",
    "    data_total_c_a.to_excel(writer, sheet_name='Dados_Simul_2')\n"
   ],
   "metadata": {
    "collapsed": false,
    "pycharm": {
     "name": "#%%\n",
     "is_executing": false
    }
   }
  }
 ],
 "metadata": {
  "kernelspec": {
   "display_name": "Python 3",
   "language": "python",
   "name": "python3"
  },
  "language_info": {
   "codemirror_mode": {
    "name": "ipython",
    "version": 3
   },
   "file_extension": ".py",
   "mimetype": "text/x-python",
   "name": "python",
   "nbconvert_exporter": "python",
   "pygments_lexer": "ipython3",
   "version": "3.7.9"
  },
  "pycharm": {
   "stem_cell": {
    "cell_type": "raw",
    "source": [],
    "metadata": {
     "collapsed": false
    }
   }
  }
 },
 "nbformat": 4,
 "nbformat_minor": 1
}