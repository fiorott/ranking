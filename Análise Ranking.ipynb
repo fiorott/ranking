{
 "cells": [
  {
   "cell_type": "markdown",
   "metadata": {
    "collapsed": true
   },
   "source": [
    "# Análise Ranking CCONF\n",
    "\n",
    "Neste notebook vamos analisar a aba municípios da planilha que contém os dados sobre a aplicação dos critérios elaborados pela CCONF. Vamos lá!"
   ]
  },
  {
   "cell_type": "markdown",
   "metadata": {},
   "source": [
    "## Prepação: importando os dados da planilha\n",
    "Começamos importando os dados da planilha para dentro de um Data Frame para podermos manipulá-los no python:"
   ]
  },
  {
   "cell_type": "markdown",
   "source": [
    "Vamos criar duas variáveis que guardam as colunas que: \n",
    "a) São relacionadas à capag:\n",
    "b) Não são relacionadas à capag"
   ],
   "metadata": {
    "collapsed": false
   }
  },
  {
   "cell_type": "code",
   "execution_count": 361,
   "outputs": [],
   "source": [
    "col_capag = \"S:W, Y:AA, AL:AN, AS, AU: BA, BD:BF, BM, BO, BQ, BS, BU\"\n",
    "col_nao_capag = \"B:R,X,AB:AK, AO:AR, AT, BB:BC, BG:BL, BN, BP, BR, BT\"\n",
    "col_gerais = \"A,BV, BW,BX,BY,BZ, CA\"\n",
    "col_nomes = \"BV, BZ\"\n",
    "col_id = \"A\""
   ],
   "metadata": {
    "collapsed": false,
    "pycharm": {
     "name": "#%%\n",
     "is_executing": false
    }
   }
  },
  {
   "cell_type": "markdown",
   "source": [
    "Criando os Data Frames usando a library pandas"
   ],
   "metadata": {
    "collapsed": false
   }
  },
  {
   "cell_type": "code",
   "execution_count": 362,
   "metadata": {
    "pycharm": {
     "is_executing": false
    }
   },
   "outputs": [],
   "source": [
    "import pandas as pd\n",
    "import numpy as np\n",
    "\n",
    "data_capag = pd.read_excel(r'./assets/Testes_Ranking_CCONF_2020-CAPAG.xlsx', 'Municípios', usecols =  col_capag + col_nomes, skipfooter = 1, dtype = {\"Capital?\":bool},true_values = [\"Sim\"],false_values = [\"Não\"] )\n",
    "#print(data_capag.dtypes)\n",
    "#print(data_capag.shape)\n",
    "#print(data_capag.head(5))\n",
    "\n",
    "data_nao_capag = pd.read_excel(r'./assets/Testes_Ranking_CCONF_2020-CAPAG.xlsx', 'Municípios', usecols =  col_nao_capag + col_nomes, skipfooter = 1, dtype = {\"Capital?\":bool},true_values = [\"Sim\"],false_values = [\"Não\"])\n",
    "#print(data_nao_capag.dtypes)\n",
    "#print(data_nao_capag.shape)\n",
    "#print(data_nao_capag.head(5))\n",
    "\n",
    "data_total = pd.read_excel(r'./assets/Testes_Ranking_CCONF_2020-CAPAG.xlsx', 'Municípios', usecols =  col_nao_capag + col_capag, skipfooter = 1, dtype = {\"Capital?\":bool},true_values = [\"Sim\"],false_values = [\"Não\"])\n",
    "#print(data_total.dtypes)\n",
    "#print(data_total.shape)\n",
    "#print(data_total.head(5))\n",
    "\n",
    "data_total_nomes = pd.read_excel(r'./assets/Testes_Ranking_CCONF_2020-CAPAG.xlsx', 'Municípios', usecols = col_nao_capag + col_capag, skipfooter = 1, dtype = {\"Capital?\":bool},true_values = [\"Sim\"],false_values = [\"Não\"])\n",
    "#print(data_total_nomes.dtypes)\n",
    "#print(data_total_nomes.shape)\n",
    "#print(data_total_nomes.head(5))"
   ]
  },
  {
   "cell_type": "markdown",
   "metadata": {
    "pycharm": {
     "name": "#%% md\n"
    }
   },
   "source": [
    "## Análise Exploratória\n",
    "\n",
    "Antes de tudo, vamos criar uma função para calcular a função de distribuição acumulada, ela será útil para entendermos a dinâmica de como os entes passam ou não em cada grupo de testes"
   ]
  },
  {
   "cell_type": "code",
   "execution_count": 363,
   "outputs": [],
   "source": [
    "def ecdf(data):\n",
    "    \"\"\"Compute ECDF for a one-dimensional array of measurements.\"\"\"\n",
    "    # Number of data points: n\n",
    "    n = len(data)\n",
    "\n",
    "    # x-data for the ECDF: x\n",
    "    x = np.sort(data)\n",
    "\n",
    "    # y-data for the ECDF: y\n",
    "    y = np.arange(1, n+1) / n\n",
    "\n",
    "    return x, y\n"
   ],
   "metadata": {
    "collapsed": false,
    "pycharm": {
     "name": "#%%\n",
     "is_executing": false
    }
   }
  },
  {
   "cell_type": "markdown",
   "source": [
    "a.\tQual a média/proporção de cada um dos testes?"
   ],
   "metadata": {
    "collapsed": false
   }
  },
  {
   "cell_type": "code",
   "execution_count": 364,
   "outputs": [
    {
     "name": "stdout",
     "text": [
      "D1_00001    0.974282\nD1_00002    0.848420\nD1_00003    0.967187\nD1_00004    0.954921\nD1_00005    0.000000\n              ...   \nD4_00011         NaN\nD4_00012    0.531070\nD4_00013         NaN\nD4_00014    0.612069\nD4_00016    0.530891\nLength: 66, dtype: float64\n"
     ],
     "output_type": "stream"
    }
   ],
   "source": [
    "medias_total = data_total.mean(axis=0)\n",
    "print(medias_total)"
   ],
   "metadata": {
    "collapsed": false,
    "pycharm": {
     "name": "#%%\n",
     "is_executing": false
    }
   }
  },
  {
   "cell_type": "markdown",
   "source": [
    "a.1\tQual a média/proporção de cada um dos testes não capag?"
   ],
   "metadata": {
    "collapsed": false
   }
  },
  {
   "cell_type": "code",
   "execution_count": 365,
   "outputs": [
    {
     "name": "stdout",
     "text": [
      "D1_00001    0.974282\nD1_00002    0.848420\nD1_00003    0.967187\nD1_00004    0.954921\nD1_00005    0.000000\nD1_00006    0.461512\nD1_00007    0.573994\nD1_00008    0.437518\nD1_00009    0.463578\nD1_00010    0.000000\nD1_00011    0.910973\nD1_00012    0.843858\nD1_00013    0.872953\nD1_00014    0.952191\nD1_00015    0.000000\nD2_00001    0.580280\nD2_00002    0.303161\nD2_00008    0.834231\nD2_00013    0.791487\nD2_00014    0.816451\nD2_00015    0.823815\nD2_00016         NaN\nD2_00017         NaN\nD2_00018         NaN\nD2_00019    0.818068\nD2_00020         NaN\nD2_00021         NaN\nD2_00022    0.778915\nD2_00029    0.728448\nD2_00030    0.749102\nD2_00031    0.746588\nD2_00032    0.222881\nD3_00001    0.560165\nD3_00010    0.564296\nD3_00011    0.807471\nD4_00002    0.502874\nD4_00003    0.498204\nD4_00004    0.732938\nD4_00005    0.410560\nD4_00006    0.456178\nD4_00007    0.478807\nD4_00009         NaN\nD4_00011         NaN\nD4_00013         NaN\ndtype: float64\n"
     ],
     "output_type": "stream"
    }
   ],
   "source": [
    "medias_ncapag = data_nao_capag.mean(axis=0)\n",
    "print(medias_ncapag)"
   ],
   "metadata": {
    "collapsed": false,
    "pycharm": {
     "name": "#%%\n",
     "is_executing": false
    }
   }
  },
  {
   "cell_type": "markdown",
   "source": [
    "a.1\tQual a média/proporção de cada um dos testes  capag?"
   ],
   "metadata": {
    "collapsed": false
   }
  },
  {
   "cell_type": "code",
   "execution_count": 366,
   "outputs": [
    {
     "name": "stdout",
     "text": [
      "D2_00003    0.750000\nD2_00004    0.800647\nD2_00005    0.826868\nD2_00006    0.834231\nD2_00007    0.833693\nD2_00010    0.830819\nD2_00011    0.829741\nD2_00012    0.739224\nD2_00023    0.827945\nD2_00024    0.828305\nD2_00028    0.728269\nD2_00033    0.736710\nD3_00002    0.796516\nD3_00003    0.751616\nD3_00005    0.772270\nD3_00006    0.400682\nD3_00007    0.732759\nD3_00008    0.543103\nD3_00009    0.510955\nD3_00012    0.910560\nD3_00013    0.836207\nD4_00001    0.549389\nD4_00008    0.686422\nD4_00010    0.558728\nD4_00012    0.531070\nD4_00014    0.612069\ndtype: float64\n"
     ],
     "output_type": "stream"
    }
   ],
   "source": [
    "medias_capag = data_capag.mean(axis=0)\n",
    "print(medias_capag)"
   ],
   "metadata": {
    "collapsed": false,
    "pycharm": {
     "name": "#%%\n",
     "is_executing": false
    }
   }
  },
  {
   "cell_type": "markdown",
   "source": [
    "b.\tQual a distribuição das notas (somatório de todas as colunas)?\n",
    "i.\tLevando em consideração apenas os testes da CAPAG (colunas em amarelo)"
   ],
   "metadata": {
    "collapsed": false
   }
  },
  {
   "cell_type": "code",
   "execution_count": 367,
   "outputs": [
    {
     "name": "stdout",
     "text": [
      "0       26\n1       26\n2       26\n3       26\n4       26\n        ..\n5563     0\n5564     0\n5565     0\n5566     0\n5567     0\nName: sum, Length: 5568, dtype: int64\n"
     ],
     "output_type": "stream"
    },
    {
     "data": {
      "text/plain": "<Figure size 432x288 with 1 Axes>",
      "image/png": "[encoded data removed]"
     },
     "metadata": {
      "needs_background": "light"
     },
     "output_type": "display_data"
    },
    {
     "data": {
      "text/plain": "<Figure size 432x288 with 1 Axes>",
      "image/png": "[encoded data removed]"
     },
     "metadata": {
      "needs_background": "light"
     },
     "output_type": "display_data"
    }
   ],
   "source": [
    "data_capag[\"sum\"] = data_capag.sum(axis=1)\n",
    "print(data_capag[\"sum\"])\n",
    "\n",
    "#Plotando o ECDF: vamos gerar as variáveus  x_dist, y_dist. A primeira, terá \n",
    "#todas as notas acumuladas, da menor até a maior. \n",
    "\n",
    "import matplotlib.pyplot as plt\n",
    "\n",
    "x_dist, y_dist = ecdf(data_capag['sum'])\n",
    "\n",
    "# Generate plot\n",
    "_= plt.plot(x_dist, y_dist, marker = \".\", linestyle = 'none')\n",
    "\n",
    "# Label the axes\n",
    "_= plt.xlabel('Soma de Todas as Notas - Critérios Capag')\n",
    "_= plt.ylabel('ECDF')\n",
    "\n",
    "\n",
    "# Display the plot\n",
    "plt.show()\n",
    "\n",
    "#plotando o histograma da coluna das notas\n",
    "_=plt.hist(data_capag['sum'])\n",
    "_=plt.xlabel('Nota Obtida - Critérios Capag')\n",
    "_=plt.ylabel('Número de entes')\n",
    "plt.show()"
   ],
   "metadata": {
    "collapsed": false,
    "pycharm": {
     "name": "#%%\n",
     "is_executing": false
    }
   }
  },
  {
   "cell_type": "markdown",
   "source": [
    "b.\tQual a distribuição das notas (somatório de todas as colunas)?\n",
    "ii.\tLevando em consideração apenas os testes que não são da CAPAG (colunas não pintadas)"
   ],
   "metadata": {
    "collapsed": false
   }
  },
  {
   "cell_type": "code",
   "execution_count": 368,
   "outputs": [
    {
     "name": "stdout",
     "text": [
      "0       33.0\n1       32.8\n2       32.6\n3       32.6\n4       32.5\n        ... \n5563     1.0\n5564     1.0\n5565     1.0\n5566     0.8\n5567     0.8\nName: sum, Length: 5568, dtype: float64\n"
     ],
     "output_type": "stream"
    },
    {
     "data": {
      "text/plain": "<Figure size 432x288 with 1 Axes>",
      "image/png": "[encoded data removed]"
     },
     "metadata": {
      "needs_background": "light"
     },
     "output_type": "display_data"
    },
    {
     "data": {
      "text/plain": "<Figure size 432x288 with 1 Axes>",
      "image/png": "[encoded data removed]"
     },
     "metadata": {
      "needs_background": "light"
     },
     "output_type": "display_data"
    }
   ],
   "source": [
    "data_nao_capag[\"sum\"] = data_nao_capag.sum(axis=1)\n",
    "print(data_nao_capag[\"sum\"])\n",
    "\n",
    "#Plotando o ECDF: vamos gerar as variáveus  x_dist, y_dist. A primeira, terá \n",
    "#todas as notas acumuladas, da menor até a maior. \n",
    "\n",
    "import matplotlib.pyplot as plt\n",
    "\n",
    "x_dist_nc, y_dist_nc = ecdf(data_nao_capag['sum'])\n",
    "\n",
    "# Generate plot\n",
    "_= plt.plot(x_dist_nc, y_dist_nc, marker = \".\", linestyle = 'none')\n",
    "\n",
    "# Label the axes\n",
    "_= plt.xlabel('Soma de Todas as Notas - Critérios Não Capag')\n",
    "_= plt.ylabel('ECDF')\n",
    "\n",
    "\n",
    "# Display the plot\n",
    "plt.show()\n",
    "\n",
    "#plotando o histograma da coluna das notas\n",
    "_=plt.hist(data_nao_capag['sum'])\n",
    "_=plt.xlabel('Nota Obtida - Critérios Não Capag')\n",
    "_=plt.ylabel('Número de entes')\n",
    "plt.show()"
   ],
   "metadata": {
    "collapsed": false,
    "pycharm": {
     "name": "#%%\n",
     "is_executing": false
    }
   }
  },
  {
   "cell_type": "markdown",
   "source": [
    "b.\tQual a distribuição das notas (somatório de todas as colunas)?\n",
    "iii.\tLevando em consideração todos os testes"
   ],
   "metadata": {
    "collapsed": false
   }
  },
  {
   "cell_type": "code",
   "execution_count": 369,
   "outputs": [
    {
     "name": "stdout",
     "text": [
      "0       55.0\n1       54.8\n2       54.6\n3       54.6\n4       54.5\n        ... \n5563     1.0\n5564     1.0\n5565     1.0\n5566     0.8\n5567     0.8\nName: sum, Length: 5568, dtype: float64\n"
     ],
     "output_type": "stream"
    },
    {
     "data": {
      "text/plain": "<Figure size 432x288 with 1 Axes>",
      "image/png": "[encoded data removed]"
     },
     "metadata": {
      "needs_background": "light"
     },
     "output_type": "display_data"
    },
    {
     "data": {
      "text/plain": "<Figure size 432x288 with 1 Axes>",
      "image/png": "[encoded data removed]"
     },
     "metadata": {
      "needs_background": "light"
     },
     "output_type": "display_data"
    }
   ],
   "source": [
    "data_total[\"sum\"] = data_total.sum(axis=1)\n",
    "print(data_total[\"sum\"])\n",
    "\n",
    "#Plotando o ECDF: vamos gerar as variáveus  x_dist, y_dist. A primeira, terá \n",
    "#todas as notas acumuladas, da menor até a maior. \n",
    "\n",
    "import matplotlib.pyplot as plt\n",
    "\n",
    "x_dist_total, y_dist_total = ecdf(data_total['sum'])\n",
    "\n",
    "# Generate plot\n",
    "_= plt.plot(x_dist_total, y_dist_total, marker = \".\", linestyle = 'none')\n",
    "\n",
    "# Label the axes\n",
    "_= plt.xlabel('Soma de Todas as Notas - Todos Critérios')\n",
    "_= plt.ylabel('ECDF')\n",
    "\n",
    "\n",
    "# Display the plot\n",
    "plt.show()\n",
    "\n",
    "#plotando o histograma da coluna das notas\n",
    "_=plt.hist(data_total['sum'])\n",
    "_=plt.xlabel('Nota Obtida - Todos os Critérios')\n",
    "_=plt.ylabel('Número de entes')\n",
    "plt.show()\n"
   ],
   "metadata": {
    "collapsed": false,
    "pycharm": {
     "name": "#%%\n",
     "is_executing": false
    }
   }
  },
  {
   "cell_type": "markdown",
   "source": [
    "## Simulações de classificação \n",
    "\n",
    "Vamos agora realizar 3 tipos de simulações. "
   ],
   "metadata": {
    "collapsed": false
   }
  },
  {
   "cell_type": "markdown",
   "source": [
    "### a.\tAlternativa I: classificação conjunta em duas etapas"
   ],
   "metadata": {
    "collapsed": false
   }
  },
  {
   "cell_type": "markdown",
   "source": [
    "#### i.\tPrimeiro,  somando todos os testes relacionados à CAPAG"
   ],
   "metadata": {
    "collapsed": false,
    "pycharm": {
     "name": "#%% md\n"
    }
   }
  },
  {
   "cell_type": "markdown",
   "source": [
    "##### i.\t1.\tCaso o município tenha resultado maior ou igual a x, classifique-o na zona 1\n"
   ],
   "metadata": {
    "collapsed": false
   }
  },
  {
   "cell_type": "code",
   "execution_count": 370,
   "outputs": [
    {
     "name": "stdout",
     "text": [
      "Total de Entes :5568\nO número de entes de aprovados na zona 1 com nota de corte de 20 seria de: 3565\nO percentual de aprovados na zona 1 seria de : 64.03%\n"
     ],
     "output_type": "stream"
    }
   ],
   "source": [
    "nota_corte_capag = 20\n",
    "\n",
    "#Gerando coluna com aprovados \n",
    "data_capag['Aprovado'] = np.where(data_capag[\"sum\"]>= nota_corte_capag, True, False)\n",
    "#print(data_capag['Aprovado'].head(200))\n",
    "\n",
    "# Calculando percentual de aprovados \n",
    "n_entes = data_capag.shape[0]\n",
    "print('Total de Entes :' + str(n_entes))\n",
    "num_aprovados = sum(data_capag['Aprovado'])\n",
    "print('O número de entes de aprovados na zona 1 com nota de corte de ' + str(nota_corte_capag) + ' seria de: ' + str(num_aprovados))\n",
    "print('O percentual de aprovados na zona 1 seria de : ' + \"{:.2%}\".format(num_aprovados/n_entes))\n"
   ],
   "metadata": {
    "collapsed": false,
    "pycharm": {
     "name": "#%%\n",
     "is_executing": false
    }
   }
  },
  {
   "cell_type": "markdown",
   "source": [
    "#### ii.\tSomando os testes não relacionados à CAPAG\n",
    "##### 1.\tSe o ente estiver na zona 1\n",
    "    a.\tCaso o ente tenha resultado maior ou igual a y1, classifique-o com nota final A\n",
    "    b.\tCaso o ente tenha resultado maior ou igual a y2 e menor que y1, classifique-o com nota final B\n",
    "    c.\tCaso o ente tenha resultado menor que y3, classifique-o com nota final C (erro: tenha resultado menor do que y2)\n",
    "\n",
    "##### 2.\tSe o ente estiver na zona 2\n",
    "\n",
    "    a.\tCaso o ente tenha resultado maior ou igual a y3, classifique-o com nota final D\n",
    "    b.\tCaso o ente tenha resultado menor que y3, classifique-o com nota final E\n"
   ],
   "metadata": {
    "collapsed": false
   }
  },
  {
   "cell_type": "code",
   "execution_count": 371,
   "outputs": [
    {
     "name": "stdout",
     "text": [
      "   D1_00001  D1_00002  D1_00003  D1_00004  D1_00005  D1_00006  D1_00007  \\\n0       1.0         1       1.0       1.0         0       1.0         1   \n1       1.0         1       1.0       1.0         0       1.0         1   \n2       1.0         1       1.0       1.0         0       1.0         1   \n3       1.0         1       1.0       1.0         0       0.8         1   \n4       1.0         1       1.0       1.0         0       0.5         1   \n5       1.0         1       1.0       1.0         0       1.0         1   \n6       1.0         1       1.0       1.0         0       0.7         1   \n7       1.0         1       1.0       1.0         0       1.0         1   \n8       1.0         1       1.0       1.0         0       1.0         1   \n9       1.0         1       1.0       1.0         0       1.0         1   \n\n   D1_00008  D1_00009  D1_00010  ...  D4_00004  D4_00005  D4_00006  D4_00007  \\\n0       1.0       1.0         0  ...         1         1         1         1   \n1       1.0       1.0         0  ...         1         1         1         1   \n2       1.0       1.0         0  ...         1         1         1         1   \n3       1.0       1.0         0  ...         1         1         1         1   \n4       1.0       1.0         0  ...         1         1         1         1   \n5       1.0       1.0         0  ...         1         1         1         1   \n6       0.7       1.0         0  ...         1         1         1         1   \n7       1.0       0.5         0  ...         1         1         1         1   \n8       1.0       1.0         0  ...         1         1         1         1   \n9       1.0       1.0         0  ...         1         1         1         1   \n\n   D4_00009  D4_00011  D4_00013  UF   sum  Aprovado  \n0       NaN       NaN       NaN  SC  33.0      True  \n1       NaN       NaN       NaN  RS  32.8      True  \n2       NaN       NaN       NaN  MG  32.6      True  \n3       NaN       NaN       NaN  RS  32.6      True  \n4       NaN       NaN       NaN  MA  32.5      True  \n5       NaN       NaN       NaN  MG  32.4      True  \n6       NaN       NaN       NaN  SC  32.2      True  \n7       NaN       NaN       NaN  RS  32.1      True  \n8       NaN       NaN       NaN  PB  32.0      True  \n9       NaN       NaN       NaN  SC  32.0      True  \n\n[10 rows x 47 columns]\n"
     ],
     "output_type": "stream"
    }
   ],
   "source": [
    "# Selecionando a coluna dos aprovados/reprovados na zona 1\n",
    "df_aprovados = data_capag.Aprovado\n",
    "\n",
    "# Trazendo a coluna dos aprovados nos critérios de Capag (zona 1) para o Data Frame que contém os critérios não relacionados à Capag \n",
    "data_nao_capag_c_a = pd.concat([data_nao_capag, df_aprovados], axis=1)\n",
    "\n",
    "#verificando a concatenação\n",
    "data_nao_capag_c_a.columns\n",
    "print(data_nao_capag_c_a.head(10))\n",
    "\n",
    "# calculando a nota dos critérios não capag\n",
    "\n",
    "nota_corte_y1 = 30\n",
    "nota_corte_y2 = 25\n",
    "nota_corte_y3 = 20\n",
    "\n",
    "# criando a lista das 5 condições\n",
    "conditions = [\n",
    "    (data_nao_capag_c_a['Aprovado'] ) & (data_nao_capag_c_a['sum'] >= nota_corte_y1),\n",
    "    (data_nao_capag_c_a['Aprovado'] ) & ((data_nao_capag_c_a['sum'] < nota_corte_y1) & (data_nao_capag_c_a['sum'] >= nota_corte_y2)),\n",
    "    (data_nao_capag_c_a['Aprovado'] ) & (data_nao_capag_c_a['sum'] <  nota_corte_y2),        \n",
    "    (~ data_nao_capag_c_a['Aprovado'] ) & (data_nao_capag_c_a['sum'] >= nota_corte_y3),\n",
    "    (~ data_nao_capag_c_a['Aprovado'] ) & (data_nao_capag_c_a['sum'] < nota_corte_y3)\n",
    "    ]\n",
    "\n",
    "# criando a lista de valores que queremos associar a cada condição\n",
    "values = ['A', 'B', 'C', 'D', 'E']\n",
    "\n",
    "# create a new column and use np.select to assign values to it using our lists as arguments\n",
    "data_nao_capag_c_a['capag'] = np.select(conditions, values)"
   ],
   "metadata": {
    "collapsed": false,
    "pycharm": {
     "name": "#%%\n",
     "is_executing": false
    }
   }
  },
  {
   "cell_type": "markdown",
   "source": [
    "###### Tabela de Classificação Final - Alternativa 1"
   ],
   "metadata": {
    "collapsed": false
   }
  },
  {
   "cell_type": "code",
   "execution_count": 378,
   "outputs": [
    {
     "name": "stdout",
     "text": [
      "     UF capag  size\n0    AC     B     9\n1    AC     C     1\n2    AC     D     4\n3    AC     E     8\n4    AL     B     3\n..   ..   ...   ...\n117  SP     E    51\n118  TO     B     3\n119  TO     C    17\n120  TO     D    62\n121  TO     E    57\n\n[122 rows x 3 columns]\n"
     ],
     "output_type": "stream"
    }
   ],
   "source": [
    "# Mostra a Tabela final com a classificação\n",
    "#data_nao_capag_c_a.head(4000)\n",
    "\n",
    "class_alt1_final = data_nao_capag_c_a.groupby(['UF', 'capag']).size().to_frame('size').reset_index().sort_values(['UF', 'capag'], ascending=[True, True])\n",
    "print(class_alt1_final)"
   ],
   "metadata": {
    "collapsed": false,
    "pycharm": {
     "name": "#%%\n",
     "is_executing": false
    }
   }
  },
  {
   "cell_type": "markdown",
   "source": [
    "###### Exportando a simulação para o Excel"
   ],
   "metadata": {
    "collapsed": false
   }
  },
  {
   "cell_type": "code",
   "execution_count": 381,
   "outputs": [],
   "source": [
    "class_alt1_final.to_excel(\"sim_alt1.xlsx\",\n",
    "             sheet_name='Sheet_name_1')"
   ],
   "metadata": {
    "collapsed": false,
    "pycharm": {
     "name": "#%%\n",
     "is_executing": false
    }
   }
  }
 ],
 "metadata": {
  "kernelspec": {
   "display_name": "Python 3",
   "language": "python",
   "name": "python3"
  },
  "language_info": {
   "codemirror_mode": {
    "name": "ipython",
    "version": 3
   },
   "file_extension": ".py",
   "mimetype": "text/x-python",
   "name": "python",
   "nbconvert_exporter": "python",
   "pygments_lexer": "ipython3",
   "version": "3.7.9"
  },
  "pycharm": {
   "stem_cell": {
    "cell_type": "raw",
    "source": [],
    "metadata": {
     "collapsed": false
    }
   }
  }
 },
 "nbformat": 4,
 "nbformat_minor": 1
}